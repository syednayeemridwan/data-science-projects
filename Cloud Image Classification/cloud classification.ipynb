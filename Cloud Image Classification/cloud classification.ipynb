{
 "cells": [
  {
   "cell_type": "markdown",
   "metadata": {},
   "source": [
    "# Multi-Class Classification : Cloud classification"
   ]
  },
  {
   "cell_type": "markdown",
   "metadata": {},
   "source": [
    "Data augmentation is used for training almost all image-based models. There are many advantages:\n",
    "- Using data augmentation allows the model to learn from more examples\n",
    "- Using data augmentation increases the diversity of the training data\n",
    "- Data augmentation makes the model more robust to variations and distortions commonly found in real-world images\n",
    "- Data augmentation reduces the risk of overfitting as the model learns to ignore the random transformations\n"
   ]
  },
  {
   "cell_type": "markdown",
   "metadata": {},
   "source": [
    "### Using tensorflow to load and augment dataset"
   ]
  },
  {
   "cell_type": "markdown",
   "metadata": {},
   "source": [
    "We will use tensorflow to load and augment the image dataset during loading to introduce feature invariance."
   ]
  },
  {
   "cell_type": "code",
   "execution_count": 1,
   "metadata": {},
   "outputs": [
    {
     "name": "stdout",
     "output_type": "stream",
     "text": [
      "Found 460 images belonging to 7 classes.\n",
      "Found 471 images belonging to 7 classes.\n"
     ]
    }
   ],
   "source": [
    "import tensorflow as tf\n",
    "from tensorflow.keras.preprocessing.image import ImageDataGenerator\n",
    "from tensorflow.keras.models import Sequential\n",
    "from tensorflow.keras.layers import Conv2D, MaxPooling2D, Flatten, Dense, ELU\n",
    "from tensorflow.keras.optimizers import Adam\n",
    "from tensorflow.keras.metrics import Precision, Recall\n",
    "from sklearn.metrics import classification_report\n",
    "import numpy as np\n",
    "\n",
    "# Define paths\n",
    "train_dir = 'kaggle/clouds_train'\n",
    "test_dir = 'kaggle/clouds_test'\n",
    "\n",
    "# Create ImageDataGenerators with data augmentation for the training set\n",
    "train_datagen = ImageDataGenerator(\n",
    "    rescale=1./255,\n",
    "    horizontal_flip=True,\n",
    "    rotation_range=45,\n",
    "    width_shift_range=0.2,\n",
    "    height_shift_range=0.2,\n",
    "    zoom_range=0.2,\n",
    "    shear_range=0.2,\n",
    "    brightness_range=[0.8, 1.2]\n",
    ")\n",
    "\n",
    "test_datagen = ImageDataGenerator(rescale=1./255)\n",
    "img_dim = 128\n",
    "# Load the datasets\n",
    "train_generator = train_datagen.flow_from_directory(\n",
    "    train_dir,\n",
    "    target_size=(img_dim, img_dim),\n",
    "    batch_size=32,\n",
    "    class_mode='categorical'\n",
    ")\n",
    "\n",
    "test_generator = test_datagen.flow_from_directory(\n",
    "    test_dir,\n",
    "    target_size=(img_dim, img_dim),\n",
    "    batch_size=32,\n",
    "    class_mode='categorical',\n",
    "    shuffle=False\n",
    ")\n",
    "\n"
   ]
  },
  {
   "cell_type": "markdown",
   "metadata": {},
   "source": [
    "### Creating CNN model"
   ]
  },
  {
   "cell_type": "markdown",
   "metadata": {},
   "source": [
    "We will now create a deep learning model that takes the images classify them"
   ]
  },
  {
   "cell_type": "code",
   "execution_count": 2,
   "metadata": {},
   "outputs": [],
   "source": [
    "\n",
    "# Define the model\n",
    "model = Sequential([\n",
    "    Conv2D(32, (3, 3), padding='same', input_shape=(img_dim, img_dim, 3)),\n",
    "    ELU(alpha=1.0),\n",
    "    MaxPooling2D(pool_size=(2, 2)),\n",
    "    Conv2D(64, (3, 3), padding='same'),\n",
    "    ELU(alpha=1.0),\n",
    "    MaxPooling2D(pool_size=(2, 2)),\n",
    "    Conv2D(128, (3, 3), padding='same'),\n",
    "    ELU(alpha=1.0),\n",
    "    MaxPooling2D(pool_size=(2, 2)),\n",
    "    Conv2D(256, (3, 3), padding='same'),\n",
    "    ELU(alpha=1.0),\n",
    "    # MaxPooling2D(pool_size=(2, 2)),\n",
    "    # Conv2D(512, (3, 3), padding='same'),\n",
    "    # ELU(alpha=1.0),\n",
    "    MaxPooling2D(pool_size=(2, 2)),\n",
    "    Flatten(),\n",
    "    Dense(256, activation='elu'),\n",
    "    Dense(7, activation='softmax')  # Assuming 7 classes\n",
    "])\n",
    "\n",
    "# Compile the model\n",
    "model.compile(\n",
    "    optimizer=Adam(learning_rate=0.001),\n",
    "    loss='categorical_crossentropy',\n",
    "    metrics=['accuracy', Precision(), Recall()]\n",
    ")\n"
   ]
  },
  {
   "cell_type": "markdown",
   "metadata": {},
   "source": [
    "Let us visualize how the model looks like. We will create a helper function for visualization of model structure and see summary of model parameters"
   ]
  },
  {
   "cell_type": "code",
   "execution_count": 3,
   "metadata": {},
   "outputs": [],
   "source": [
    "# Import the plotting function\n",
    "from tensorflow.keras.utils import plot_model\n",
    "import matplotlib.pyplot as plt\n",
    "\n",
    "def model_summary(model, model_name):\n",
    "    # Summarize the model\n",
    "    model.summary()\n",
    "\n",
    "    # Plot the model\n",
    "    plot_model(model, to_file=model_name)\n",
    "\n",
    "    # Display the image\n",
    "    data = plt.imread(model_name)\n",
    "    plt.imshow(data)\n",
    "    plt.show()"
   ]
  },
  {
   "cell_type": "markdown",
   "metadata": {},
   "source": [
    "Let us now use this function to see our model"
   ]
  },
  {
   "cell_type": "code",
   "execution_count": 4,
   "metadata": {},
   "outputs": [
    {
     "name": "stdout",
     "output_type": "stream",
     "text": [
      "Model: \"sequential\"\n",
      "_________________________________________________________________\n",
      "Layer (type)                 Output Shape              Param #   \n",
      "=================================================================\n",
      "conv2d (Conv2D)              (None, 128, 128, 32)      896       \n",
      "_________________________________________________________________\n",
      "elu (ELU)                    (None, 128, 128, 32)      0         \n",
      "_________________________________________________________________\n",
      "max_pooling2d (MaxPooling2D) (None, 64, 64, 32)        0         \n",
      "_________________________________________________________________\n",
      "conv2d_1 (Conv2D)            (None, 64, 64, 64)        18496     \n",
      "_________________________________________________________________\n",
      "elu_1 (ELU)                  (None, 64, 64, 64)        0         \n",
      "_________________________________________________________________\n",
      "max_pooling2d_1 (MaxPooling2 (None, 32, 32, 64)        0         \n",
      "_________________________________________________________________\n",
      "conv2d_2 (Conv2D)            (None, 32, 32, 128)       73856     \n",
      "_________________________________________________________________\n",
      "elu_2 (ELU)                  (None, 32, 32, 128)       0         \n",
      "_________________________________________________________________\n",
      "max_pooling2d_2 (MaxPooling2 (None, 16, 16, 128)       0         \n",
      "_________________________________________________________________\n",
      "conv2d_3 (Conv2D)            (None, 16, 16, 256)       295168    \n",
      "_________________________________________________________________\n",
      "elu_3 (ELU)                  (None, 16, 16, 256)       0         \n",
      "_________________________________________________________________\n",
      "max_pooling2d_3 (MaxPooling2 (None, 8, 8, 256)         0         \n",
      "_________________________________________________________________\n",
      "flatten (Flatten)            (None, 16384)             0         \n",
      "_________________________________________________________________\n",
      "dense (Dense)                (None, 256)               4194560   \n",
      "_________________________________________________________________\n",
      "dense_1 (Dense)              (None, 7)                 1799      \n",
      "=================================================================\n",
      "Total params: 4,584,775\n",
      "Trainable params: 4,584,775\n",
      "Non-trainable params: 0\n",
      "_________________________________________________________________\n"
     ]
    },
    {
     "data": {
      "image/png": "[encoded data removed]",
      "text/plain": [
       "<Figure size 432x288 with 1 Axes>"
      ]
     },
     "metadata": {
      "needs_background": "light"
     },
     "output_type": "display_data"
    }
   ],
   "source": [
    "model_summary(model=model, model_name=\"model.png\")\n"
   ]
  },
  {
   "cell_type": "markdown",
   "metadata": {},
   "source": [
    "### Performance Evaluation"
   ]
  },
  {
   "cell_type": "markdown",
   "metadata": {},
   "source": [
    "Let us now see how this model performs on test data"
   ]
  },
  {
   "cell_type": "code",
   "execution_count": 5,
   "metadata": {},
   "outputs": [
    {
     "name": "stdout",
     "output_type": "stream",
     "text": [
      "Epoch 1/10\n",
      "15/15 [==============================] - 11s 745ms/step - loss: 3.4987 - accuracy: 0.2783 - precision: 0.3043 - recall: 0.1978 - val_loss: 2.2111 - val_accuracy: 0.1826 - val_precision: 0.3125 - val_recall: 0.0318\n",
      "Epoch 2/10\n",
      "15/15 [==============================] - 11s 739ms/step - loss: 1.4943 - accuracy: 0.4217 - precision: 0.5226 - recall: 0.2761 - val_loss: 1.8686 - val_accuracy: 0.2951 - val_precision: 0.4328 - val_recall: 0.2187\n",
      "Epoch 3/10\n",
      "15/15 [==============================] - 11s 763ms/step - loss: 1.2112 - accuracy: 0.5087 - precision: 0.6396 - recall: 0.3087 - val_loss: 1.8214 - val_accuracy: 0.3652 - val_precision: 0.5079 - val_recall: 0.1359\n",
      "Epoch 4/10\n",
      "15/15 [==============================] - 14s 913ms/step - loss: 1.0551 - accuracy: 0.5870 - precision: 0.7105 - recall: 0.4696 - val_loss: 1.5622 - val_accuracy: 0.4013 - val_precision: 0.4790 - val_recall: 0.2909\n",
      "Epoch 5/10\n",
      "15/15 [==============================] - 15s 1s/step - loss: 0.9797 - accuracy: 0.6522 - precision: 0.7432 - recall: 0.4783 - val_loss: 1.8719 - val_accuracy: 0.3121 - val_precision: 0.3079 - val_recall: 0.1975\n",
      "Epoch 6/10\n",
      "15/15 [==============================] - 14s 914ms/step - loss: 0.8465 - accuracy: 0.6674 - precision: 0.7785 - recall: 0.5500 - val_loss: 1.7705 - val_accuracy: 0.3418 - val_precision: 0.3902 - val_recall: 0.2527\n",
      "Epoch 7/10\n",
      "15/15 [==============================] - 14s 920ms/step - loss: 0.8584 - accuracy: 0.6652 - precision: 0.7252 - recall: 0.5565 - val_loss: 1.2114 - val_accuracy: 0.4459 - val_precision: 0.5350 - val_recall: 0.3737\n",
      "Epoch 8/10\n",
      "15/15 [==============================] - 13s 896ms/step - loss: 0.8615 - accuracy: 0.6848 - precision: 0.7415 - recall: 0.6174 - val_loss: 1.7232 - val_accuracy: 0.3907 - val_precision: 0.3663 - val_recall: 0.2675\n",
      "Epoch 9/10\n",
      "15/15 [==============================] - 13s 864ms/step - loss: 0.7567 - accuracy: 0.7109 - precision: 0.7763 - recall: 0.6413 - val_loss: 1.5920 - val_accuracy: 0.4268 - val_precision: 0.5117 - val_recall: 0.3248\n",
      "Epoch 10/10\n",
      "15/15 [==============================] - 15s 991ms/step - loss: 0.7200 - accuracy: 0.7326 - precision: 0.7948 - recall: 0.6652 - val_loss: 1.5511 - val_accuracy: 0.4289 - val_precision: 0.4551 - val_recall: 0.3439\n",
      "15/15 [==============================] - 2s 143ms/step - loss: 1.5511 - accuracy: 0.4289 - precision: 0.4551 - recall: 0.3439\n",
      "Test Accuracy: 0.4288747310638428\n",
      "Test Precision: 0.45505619049072266\n",
      "Test Recall: 0.3439490497112274\n"
     ]
    }
   ],
   "source": [
    "\n",
    "# Train the model\n",
    "history = model.fit(\n",
    "    train_generator,\n",
    "    epochs=10,\n",
    "    validation_data=test_generator\n",
    ")\n",
    "\n",
    "# Evaluate the model\n",
    "loss, accuracy, precision, recall = model.evaluate(test_generator)\n",
    "\n",
    "print(f'Test Accuracy: {accuracy}')\n",
    "print(f'Test Precision: {precision}')\n",
    "print(f'Test Recall: {recall}')\n"
   ]
  },
  {
   "cell_type": "markdown",
   "metadata": {},
   "source": [
    "Let us see the per class performance (one vs rest classification concept) to see how the model performs in predicting the right class"
   ]
  },
  {
   "cell_type": "code",
   "execution_count": 6,
   "metadata": {},
   "outputs": [
    {
     "name": "stdout",
     "output_type": "stream",
     "text": [
      "Class cirriform clouds - Precision: 0.5000, Recall: 0.1343, F1-score: 0.2118\n",
      "Class clear sky - Precision: 0.9333, Recall: 0.2188, F1-score: 0.3544\n",
      "Class cumulonimbus clouds - Precision: 0.7273, Recall: 0.7273, F1-score: 0.7273\n",
      "Class cumulus clouds - Precision: 0.9630, Recall: 0.2185, F1-score: 0.3562\n",
      "Class high cumuliform clouds - Precision: 0.6700, Recall: 0.6505, F1-score: 0.6601\n",
      "Class stratiform clouds - Precision: 0.1843, Recall: 1.0000, F1-score: 0.3113\n",
      "Class stratocumulus clouds - Precision: 0.4578, Recall: 0.5672, F1-score: 0.5067\n"
     ]
    }
   ],
   "source": [
    "\n",
    "# Get predictions\n",
    "y_pred = model.predict(test_generator)\n",
    "y_pred_classes = np.argmax(y_pred, axis=1)\n",
    "\n",
    "# Get true labels\n",
    "y_true = test_generator.classes\n",
    "\n",
    "# Get class labels\n",
    "class_labels = list(test_generator.class_indices.keys())\n",
    "\n",
    "# Classification report\n",
    "report = classification_report(y_true, y_pred_classes, target_names=class_labels, output_dict=True)\n",
    "\n",
    "# Print precision and recall per class\n",
    "for label, metrics in report.items():\n",
    "    if label not in ['accuracy', 'macro avg', 'weighted avg']:\n",
    "        print(f\"Class {label} - Precision: {metrics['precision']:.4f}, Recall: {metrics['recall']:.4f}, F1-score: {metrics['f1-score']:.4f}\")"
   ]
  },
  {
   "cell_type": "markdown",
   "metadata": {},
   "source": [
    "The macro average"
   ]
  },
  {
   "cell_type": "code",
   "execution_count": 7,
   "metadata": {},
   "outputs": [
    {
     "data": {
      "text/plain": [
       "{'precision': 0.6336760208721788,\n",
       " 'recall': 0.5023554423481925,\n",
       " 'f1-score': 0.4468116331414744,\n",
       " 'support': 471.0}"
      ]
     },
     "execution_count": 7,
     "metadata": {},
     "output_type": "execute_result"
    }
   ],
   "source": [
    "report['macro avg']\n"
   ]
  },
  {
   "cell_type": "markdown",
   "metadata": {},
   "source": [
    "And, the weighted average"
   ]
  },
  {
   "cell_type": "code",
   "execution_count": 8,
   "metadata": {},
   "outputs": [
    {
     "data": {
      "text/plain": [
       "{'precision': 0.6855284429097825,\n",
       " 'recall': 0.4288747346072187,\n",
       " 'f1-score': 0.428117871675951,\n",
       " 'support': 471.0}"
      ]
     },
     "execution_count": 8,
     "metadata": {},
     "output_type": "execute_result"
    }
   ],
   "source": [
    "report['weighted avg']"
   ]
  },
  {
   "cell_type": "markdown",
   "metadata": {},
   "source": []
  }
 ],
 "metadata": {
  "kernelspec": {
   "display_name": "env_py",
   "language": "python",
   "name": "python3"
  },
  "language_info": {
   "codemirror_mode": {
    "name": "ipython",
    "version": 3
   },
   "file_extension": ".py",
   "mimetype": "text/x-python",
   "name": "python",
   "nbconvert_exporter": "python",
   "pygments_lexer": "ipython3",
   "version": "3.8.11"
  }
 },
 "nbformat": 4,
 "nbformat_minor": 2
}
