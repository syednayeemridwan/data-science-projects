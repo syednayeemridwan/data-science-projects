{
 "cells": [
  {
   "cell_type": "markdown",
   "metadata": {},
   "source": [
    "# Multi-label classification with tensorflow : Identifying irrigation targets based on sensor data"
   ]
  },
  {
   "cell_type": "markdown",
   "metadata": {},
   "source": [
    "### Exploratory Data Analysis\n"
   ]
  },
  {
   "cell_type": "markdown",
   "metadata": {},
   "source": [
    "We're going to automate the watering of farm parcels by making an intelligent irrigation machine. Multi-label classification problems differ from multi-class problems in that each observation can be labeled with zero or more classes. So classes/labels are not mutually exclusive, We could water all, none or any combination of farm parcels based on the inputs.\n",
    "\n",
    "To account for this behavior what we do is have an output layer with as many neurons as classes but this time, unlike in multi-class problems, each output neuron has a sigmoid activation function. This makes each neuron in the output layer able to output a number between 0 and 1 independently.\n",
    "\n",
    "It's time to build an intelligent irrigation machine! But first, let;s explore the dataset"
   ]
  },
  {
   "cell_type": "code",
   "execution_count": 1,
   "metadata": {},
   "outputs": [
    {
     "name": "stdout",
     "output_type": "stream",
     "text": [
      "(2000, 23)\n"
     ]
    },
    {
     "data": {
      "text/html": [
       "<div>\n",
       "<style scoped>\n",
       "    .dataframe tbody tr th:only-of-type {\n",
       "        vertical-align: middle;\n",
       "    }\n",
       "\n",
       "    .dataframe tbody tr th {\n",
       "        vertical-align: top;\n",
       "    }\n",
       "\n",
       "    .dataframe thead th {\n",
       "        text-align: right;\n",
       "    }\n",
       "</style>\n",
       "<table border=\"1\" class=\"dataframe\">\n",
       "  <thead>\n",
       "    <tr style=\"text-align: right;\">\n",
       "      <th></th>\n",
       "      <th>sensor_0</th>\n",
       "      <th>sensor_1</th>\n",
       "      <th>sensor_2</th>\n",
       "      <th>sensor_3</th>\n",
       "      <th>sensor_4</th>\n",
       "      <th>sensor_5</th>\n",
       "      <th>sensor_6</th>\n",
       "      <th>sensor_7</th>\n",
       "      <th>sensor_8</th>\n",
       "      <th>sensor_9</th>\n",
       "      <th>...</th>\n",
       "      <th>sensor_13</th>\n",
       "      <th>sensor_14</th>\n",
       "      <th>sensor_15</th>\n",
       "      <th>sensor_16</th>\n",
       "      <th>sensor_17</th>\n",
       "      <th>sensor_18</th>\n",
       "      <th>sensor_19</th>\n",
       "      <th>parcel_0</th>\n",
       "      <th>parcel_1</th>\n",
       "      <th>parcel_2</th>\n",
       "    </tr>\n",
       "  </thead>\n",
       "  <tbody>\n",
       "    <tr>\n",
       "      <th>0</th>\n",
       "      <td>1.0</td>\n",
       "      <td>2.0</td>\n",
       "      <td>1.0</td>\n",
       "      <td>7.0</td>\n",
       "      <td>0.0</td>\n",
       "      <td>1.0</td>\n",
       "      <td>1.0</td>\n",
       "      <td>4.0</td>\n",
       "      <td>0.0</td>\n",
       "      <td>3.0</td>\n",
       "      <td>...</td>\n",
       "      <td>8.0</td>\n",
       "      <td>1.0</td>\n",
       "      <td>0.0</td>\n",
       "      <td>2.0</td>\n",
       "      <td>1.0</td>\n",
       "      <td>9.0</td>\n",
       "      <td>2.0</td>\n",
       "      <td>0</td>\n",
       "      <td>1</td>\n",
       "      <td>0</td>\n",
       "    </tr>\n",
       "    <tr>\n",
       "      <th>1</th>\n",
       "      <td>5.0</td>\n",
       "      <td>1.0</td>\n",
       "      <td>3.0</td>\n",
       "      <td>5.0</td>\n",
       "      <td>2.0</td>\n",
       "      <td>2.0</td>\n",
       "      <td>1.0</td>\n",
       "      <td>2.0</td>\n",
       "      <td>3.0</td>\n",
       "      <td>1.0</td>\n",
       "      <td>...</td>\n",
       "      <td>4.0</td>\n",
       "      <td>5.0</td>\n",
       "      <td>5.0</td>\n",
       "      <td>2.0</td>\n",
       "      <td>2.0</td>\n",
       "      <td>2.0</td>\n",
       "      <td>7.0</td>\n",
       "      <td>0</td>\n",
       "      <td>0</td>\n",
       "      <td>0</td>\n",
       "    </tr>\n",
       "    <tr>\n",
       "      <th>2</th>\n",
       "      <td>3.0</td>\n",
       "      <td>1.0</td>\n",
       "      <td>4.0</td>\n",
       "      <td>3.0</td>\n",
       "      <td>4.0</td>\n",
       "      <td>0.0</td>\n",
       "      <td>1.0</td>\n",
       "      <td>6.0</td>\n",
       "      <td>0.0</td>\n",
       "      <td>2.0</td>\n",
       "      <td>...</td>\n",
       "      <td>3.0</td>\n",
       "      <td>3.0</td>\n",
       "      <td>1.0</td>\n",
       "      <td>0.0</td>\n",
       "      <td>3.0</td>\n",
       "      <td>1.0</td>\n",
       "      <td>0.0</td>\n",
       "      <td>1</td>\n",
       "      <td>1</td>\n",
       "      <td>0</td>\n",
       "    </tr>\n",
       "    <tr>\n",
       "      <th>3</th>\n",
       "      <td>2.0</td>\n",
       "      <td>2.0</td>\n",
       "      <td>4.0</td>\n",
       "      <td>3.0</td>\n",
       "      <td>5.0</td>\n",
       "      <td>0.0</td>\n",
       "      <td>3.0</td>\n",
       "      <td>2.0</td>\n",
       "      <td>2.0</td>\n",
       "      <td>5.0</td>\n",
       "      <td>...</td>\n",
       "      <td>4.0</td>\n",
       "      <td>1.0</td>\n",
       "      <td>1.0</td>\n",
       "      <td>4.0</td>\n",
       "      <td>1.0</td>\n",
       "      <td>3.0</td>\n",
       "      <td>2.0</td>\n",
       "      <td>0</td>\n",
       "      <td>0</td>\n",
       "      <td>0</td>\n",
       "    </tr>\n",
       "    <tr>\n",
       "      <th>4</th>\n",
       "      <td>4.0</td>\n",
       "      <td>3.0</td>\n",
       "      <td>3.0</td>\n",
       "      <td>2.0</td>\n",
       "      <td>5.0</td>\n",
       "      <td>1.0</td>\n",
       "      <td>3.0</td>\n",
       "      <td>1.0</td>\n",
       "      <td>1.0</td>\n",
       "      <td>2.0</td>\n",
       "      <td>...</td>\n",
       "      <td>1.0</td>\n",
       "      <td>3.0</td>\n",
       "      <td>2.0</td>\n",
       "      <td>2.0</td>\n",
       "      <td>1.0</td>\n",
       "      <td>1.0</td>\n",
       "      <td>0.0</td>\n",
       "      <td>1</td>\n",
       "      <td>1</td>\n",
       "      <td>0</td>\n",
       "    </tr>\n",
       "  </tbody>\n",
       "</table>\n",
       "<p>5 rows × 23 columns</p>\n",
       "</div>"
      ],
      "text/plain": [
       "   sensor_0  sensor_1  sensor_2  sensor_3  sensor_4  sensor_5  sensor_6  \\\n",
       "0       1.0       2.0       1.0       7.0       0.0       1.0       1.0   \n",
       "1       5.0       1.0       3.0       5.0       2.0       2.0       1.0   \n",
       "2       3.0       1.0       4.0       3.0       4.0       0.0       1.0   \n",
       "3       2.0       2.0       4.0       3.0       5.0       0.0       3.0   \n",
       "4       4.0       3.0       3.0       2.0       5.0       1.0       3.0   \n",
       "\n",
       "   sensor_7  sensor_8  sensor_9  ...  sensor_13  sensor_14  sensor_15  \\\n",
       "0       4.0       0.0       3.0  ...        8.0        1.0        0.0   \n",
       "1       2.0       3.0       1.0  ...        4.0        5.0        5.0   \n",
       "2       6.0       0.0       2.0  ...        3.0        3.0        1.0   \n",
       "3       2.0       2.0       5.0  ...        4.0        1.0        1.0   \n",
       "4       1.0       1.0       2.0  ...        1.0        3.0        2.0   \n",
       "\n",
       "   sensor_16  sensor_17  sensor_18  sensor_19  parcel_0  parcel_1  parcel_2  \n",
       "0        2.0        1.0        9.0        2.0         0         1         0  \n",
       "1        2.0        2.0        2.0        7.0         0         0         0  \n",
       "2        0.0        3.0        1.0        0.0         1         1         0  \n",
       "3        4.0        1.0        3.0        2.0         0         0         0  \n",
       "4        2.0        1.0        1.0        0.0         1         1         0  \n",
       "\n",
       "[5 rows x 23 columns]"
      ]
     },
     "execution_count": 1,
     "metadata": {},
     "output_type": "execute_result"
    }
   ],
   "source": [
    "import numpy as np\n",
    "import pandas as pd\n",
    "data = pd.read_csv(\"irrigation_machine.csv\")\n",
    "data = data.iloc[:,1:]\n",
    "print(data.shape)\n",
    "data.head()"
   ]
  },
  {
   "cell_type": "markdown",
   "metadata": {},
   "source": [
    "This dataset has 20 features and 3 targets. It is hard to visualize using 2D graphs. For now, let us just use sensor 18 and sensor 19 features and parcel 1 target feature to see what the dataset looks like. With 20 sensors the whole thing appears really complex and deep learning is an excellent choice in this case."
   ]
  },
  {
   "cell_type": "code",
   "execution_count": 2,
   "metadata": {},
   "outputs": [
    {
     "data": {
      "image/png": "[encoded data removed]",
      "text/plain": [
       "<Figure size 590.125x540 with 12 Axes>"
      ]
     },
     "metadata": {
      "needs_background": "light"
     },
     "output_type": "display_data"
    }
   ],
   "source": [
    "# Import seaborn\n",
    "import seaborn as sns\n",
    "import matplotlib.pyplot as plt\n",
    "\n",
    "# Use pairplot and set the hue to be our class column\n",
    "sns.pairplot(data.iloc[:,18:22], hue='parcel_1') \n",
    "\n",
    "# Show the plot\n",
    "plt.show()\n",
    "\n"
   ]
  },
  {
   "cell_type": "markdown",
   "metadata": {},
   "source": [
    "### Building a simple model\n"
   ]
  },
  {
   "cell_type": "markdown",
   "metadata": {},
   "source": [
    "We will first build a very simple model consisting of 2 layers. We will use sigmoid activation function instead of softmax. Softmax will distribute the probabilities among all possible classes so that the sum of the probabilities of each row is 1. However, since we are using multi-level classification, using sigmoid to predict probabilities of each individual class is the most reasonable choice."
   ]
  },
  {
   "cell_type": "code",
   "execution_count": 3,
   "metadata": {},
   "outputs": [
    {
     "name": "stdout",
     "output_type": "stream",
     "text": [
      "Model: \"sequential\"\n",
      "_________________________________________________________________\n",
      "Layer (type)                 Output Shape              Param #   \n",
      "=================================================================\n",
      "dense (Dense)                (None, 64)                1344      \n",
      "_________________________________________________________________\n",
      "dense_1 (Dense)              (None, 3)                 195       \n",
      "=================================================================\n",
      "Total params: 1,539\n",
      "Trainable params: 1,539\n",
      "Non-trainable params: 0\n",
      "_________________________________________________________________\n"
     ]
    }
   ],
   "source": [
    "import tensorflow as tf\n",
    "from tensorflow.keras.models import Sequential\n",
    "from tensorflow.keras.layers import Dense\n",
    "\n",
    "# Instantiate a Sequential model\n",
    "model = Sequential()\n",
    "\n",
    "# Add a hidden layer of 64 neurons and a 20 neuron's input\n",
    "model.add(Dense(64, activation='relu', input_shape=(20,)))\n",
    "\n",
    "# Add an output layer of 3 neurons with sigmoid activation\n",
    "model.add(Dense(3, activation='sigmoid'))\n",
    "\n",
    "# Compile your model with binary crossentropy loss\n",
    "model.compile(optimizer='adam',\n",
    "           loss = 'binary_crossentropy',\n",
    "           metrics=['accuracy'])\n",
    "\n",
    "model.summary()"
   ]
  },
  {
   "cell_type": "code",
   "execution_count": 4,
   "metadata": {},
   "outputs": [],
   "source": [
    "# Create a new model for later usage\n",
    "new_model = tf.keras.Sequential(model.layers)\n",
    "new_model.compile(optimizer='adam', loss='binary_crossentropy', metrics=['accuracy'])\n"
   ]
  },
  {
   "cell_type": "markdown",
   "metadata": {},
   "source": [
    "An output of your multi-label model could look like this: [0.76 , 0.99 , 0.66 ]. If we round up probabilities higher than 0.5, this observation will be classified as containing all 3 possible labels [1,1,1]. For this particular problem, this would mean watering all 3 parcels in the farm is the right thing to do, according to the network, given the input sensor measurements.\n",
    "\n",
    "Now, we will take the dataset and split it into training and testing set. We will train the model with training set. Later, we will test the dataset with the testing set.\n",
    "\n"
   ]
  },
  {
   "cell_type": "code",
   "execution_count": 5,
   "metadata": {},
   "outputs": [
    {
     "name": "stdout",
     "output_type": "stream",
     "text": [
      "(1500, 20)\n",
      "(1500, 3)\n",
      "(500, 20)\n",
      "(500, 3)\n"
     ]
    }
   ],
   "source": [
    "from sklearn.model_selection import train_test_split\n",
    "\n",
    "sensors = data.iloc[:,:20]\n",
    "parcels = data.iloc[:,20:]\n",
    "\n",
    "sensors_train, sensors_test, parcels_train, parcels_test = train_test_split(sensors, parcels, random_state=104,test_size=0.25, shuffle=True)\n",
    "\n",
    "print(sensors_train.shape)\n",
    "print(parcels_train.shape)\n",
    "print(sensors_test.shape)\n",
    "print(parcels_test.shape)\n"
   ]
  },
  {
   "cell_type": "code",
   "execution_count": 6,
   "metadata": {},
   "outputs": [
    {
     "name": "stdout",
     "output_type": "stream",
     "text": [
      "Epoch 1/100\n",
      "38/38 [==============================] - 0s 6ms/step - loss: 0.6685 - accuracy: 0.5292 - val_loss: 0.5211 - val_accuracy: 0.6700\n",
      "Epoch 2/100\n",
      "38/38 [==============================] - 0s 2ms/step - loss: 0.4717 - accuracy: 0.6125 - val_loss: 0.4061 - val_accuracy: 0.6833\n",
      "Epoch 3/100\n",
      "38/38 [==============================] - 0s 1ms/step - loss: 0.3860 - accuracy: 0.6000 - val_loss: 0.3389 - val_accuracy: 0.6267\n",
      "Epoch 4/100\n",
      "38/38 [==============================] - 0s 1ms/step - loss: 0.3413 - accuracy: 0.5958 - val_loss: 0.3023 - val_accuracy: 0.6233\n",
      "Epoch 5/100\n",
      "38/38 [==============================] - 0s 1ms/step - loss: 0.3138 - accuracy: 0.5975 - val_loss: 0.2830 - val_accuracy: 0.6133\n",
      "Epoch 6/100\n",
      "38/38 [==============================] - 0s 1ms/step - loss: 0.2993 - accuracy: 0.5800 - val_loss: 0.2790 - val_accuracy: 0.6500\n",
      "Epoch 7/100\n",
      "38/38 [==============================] - 0s 1ms/step - loss: 0.2875 - accuracy: 0.5925 - val_loss: 0.2598 - val_accuracy: 0.6533\n",
      "Epoch 8/100\n",
      "38/38 [==============================] - 0s 1ms/step - loss: 0.2765 - accuracy: 0.6000 - val_loss: 0.2478 - val_accuracy: 0.6133\n",
      "Epoch 9/100\n",
      "38/38 [==============================] - 0s 1ms/step - loss: 0.2692 - accuracy: 0.5967 - val_loss: 0.2406 - val_accuracy: 0.6300\n",
      "Epoch 10/100\n",
      "38/38 [==============================] - 0s 1ms/step - loss: 0.2615 - accuracy: 0.6100 - val_loss: 0.2354 - val_accuracy: 0.5800\n",
      "Epoch 11/100\n",
      "38/38 [==============================] - 0s 1ms/step - loss: 0.2564 - accuracy: 0.5883 - val_loss: 0.2299 - val_accuracy: 0.6433\n",
      "Epoch 12/100\n",
      "38/38 [==============================] - 0s 1ms/step - loss: 0.2495 - accuracy: 0.6050 - val_loss: 0.2270 - val_accuracy: 0.6500\n",
      "Epoch 13/100\n",
      "38/38 [==============================] - 0s 1ms/step - loss: 0.2507 - accuracy: 0.6025 - val_loss: 0.2219 - val_accuracy: 0.5633\n",
      "Epoch 14/100\n",
      "38/38 [==============================] - 0s 4ms/step - loss: 0.2403 - accuracy: 0.5750 - val_loss: 0.2227 - val_accuracy: 0.5967\n",
      "Epoch 15/100\n",
      "38/38 [==============================] - 0s 1ms/step - loss: 0.2364 - accuracy: 0.5883 - val_loss: 0.2164 - val_accuracy: 0.6200\n",
      "Epoch 16/100\n",
      "38/38 [==============================] - 0s 1ms/step - loss: 0.2346 - accuracy: 0.5992 - val_loss: 0.2153 - val_accuracy: 0.6400\n",
      "Epoch 17/100\n",
      "38/38 [==============================] - 0s 1ms/step - loss: 0.2288 - accuracy: 0.5817 - val_loss: 0.2056 - val_accuracy: 0.6133\n",
      "Epoch 18/100\n",
      "38/38 [==============================] - 0s 1ms/step - loss: 0.2229 - accuracy: 0.5958 - val_loss: 0.2039 - val_accuracy: 0.6433\n",
      "Epoch 19/100\n",
      "38/38 [==============================] - 0s 1ms/step - loss: 0.2202 - accuracy: 0.5967 - val_loss: 0.2019 - val_accuracy: 0.6633\n",
      "Epoch 20/100\n",
      "38/38 [==============================] - 0s 1ms/step - loss: 0.2169 - accuracy: 0.5933 - val_loss: 0.1972 - val_accuracy: 0.6467\n",
      "Epoch 21/100\n",
      "38/38 [==============================] - 0s 2ms/step - loss: 0.2160 - accuracy: 0.5767 - val_loss: 0.1961 - val_accuracy: 0.6567\n",
      "Epoch 22/100\n",
      "38/38 [==============================] - 0s 1ms/step - loss: 0.2121 - accuracy: 0.6150 - val_loss: 0.1999 - val_accuracy: 0.6267\n",
      "Epoch 23/100\n",
      "38/38 [==============================] - 0s 1ms/step - loss: 0.2113 - accuracy: 0.5708 - val_loss: 0.1951 - val_accuracy: 0.7067\n",
      "Epoch 24/100\n",
      "38/38 [==============================] - 0s 1ms/step - loss: 0.2089 - accuracy: 0.6067 - val_loss: 0.1905 - val_accuracy: 0.6667\n",
      "Epoch 25/100\n",
      "38/38 [==============================] - 0s 1ms/step - loss: 0.2052 - accuracy: 0.5783 - val_loss: 0.1965 - val_accuracy: 0.6067\n",
      "Epoch 26/100\n",
      "38/38 [==============================] - 0s 1ms/step - loss: 0.2059 - accuracy: 0.6008 - val_loss: 0.1900 - val_accuracy: 0.6733\n",
      "Epoch 27/100\n",
      "38/38 [==============================] - 0s 1ms/step - loss: 0.2014 - accuracy: 0.5833 - val_loss: 0.1866 - val_accuracy: 0.6300\n",
      "Epoch 28/100\n",
      "38/38 [==============================] - 0s 1ms/step - loss: 0.2014 - accuracy: 0.5883 - val_loss: 0.1859 - val_accuracy: 0.6700\n",
      "Epoch 29/100\n",
      "38/38 [==============================] - 0s 1ms/step - loss: 0.1984 - accuracy: 0.6100 - val_loss: 0.1877 - val_accuracy: 0.6600\n",
      "Epoch 30/100\n",
      "38/38 [==============================] - 0s 1ms/step - loss: 0.1965 - accuracy: 0.5750 - val_loss: 0.1841 - val_accuracy: 0.6500\n",
      "Epoch 31/100\n",
      "38/38 [==============================] - 0s 1ms/step - loss: 0.1976 - accuracy: 0.5967 - val_loss: 0.1907 - val_accuracy: 0.7167\n",
      "Epoch 32/100\n",
      "38/38 [==============================] - 0s 1ms/step - loss: 0.1943 - accuracy: 0.5892 - val_loss: 0.1837 - val_accuracy: 0.6300\n",
      "Epoch 33/100\n",
      "38/38 [==============================] - 0s 1ms/step - loss: 0.1937 - accuracy: 0.5900 - val_loss: 0.1829 - val_accuracy: 0.6733\n",
      "Epoch 34/100\n",
      "38/38 [==============================] - 0s 1ms/step - loss: 0.1938 - accuracy: 0.5950 - val_loss: 0.1870 - val_accuracy: 0.6833\n",
      "Epoch 35/100\n",
      "38/38 [==============================] - 0s 1ms/step - loss: 0.1925 - accuracy: 0.5900 - val_loss: 0.1848 - val_accuracy: 0.6867\n",
      "Epoch 36/100\n",
      "38/38 [==============================] - 0s 1ms/step - loss: 0.1898 - accuracy: 0.5983 - val_loss: 0.1854 - val_accuracy: 0.7067\n",
      "Epoch 37/100\n",
      "38/38 [==============================] - 0s 1ms/step - loss: 0.1889 - accuracy: 0.5917 - val_loss: 0.1831 - val_accuracy: 0.7033\n",
      "Epoch 38/100\n",
      "38/38 [==============================] - 0s 1ms/step - loss: 0.1897 - accuracy: 0.6083 - val_loss: 0.1882 - val_accuracy: 0.7233\n",
      "Epoch 39/100\n",
      "38/38 [==============================] - 0s 1ms/step - loss: 0.1862 - accuracy: 0.5983 - val_loss: 0.1875 - val_accuracy: 0.6933\n",
      "Epoch 40/100\n",
      "38/38 [==============================] - 0s 1ms/step - loss: 0.1867 - accuracy: 0.5983 - val_loss: 0.1808 - val_accuracy: 0.6433\n",
      "Epoch 41/100\n",
      "38/38 [==============================] - 0s 1ms/step - loss: 0.1838 - accuracy: 0.5983 - val_loss: 0.1818 - val_accuracy: 0.7167\n",
      "Epoch 42/100\n",
      "38/38 [==============================] - 0s 1ms/step - loss: 0.1841 - accuracy: 0.5975 - val_loss: 0.1827 - val_accuracy: 0.5700\n",
      "Epoch 43/100\n",
      "38/38 [==============================] - 0s 1ms/step - loss: 0.1824 - accuracy: 0.5833 - val_loss: 0.1851 - val_accuracy: 0.7400\n",
      "Epoch 44/100\n",
      "38/38 [==============================] - 0s 1ms/step - loss: 0.1835 - accuracy: 0.6333 - val_loss: 0.1795 - val_accuracy: 0.5867\n",
      "Epoch 45/100\n",
      "38/38 [==============================] - 0s 1ms/step - loss: 0.1817 - accuracy: 0.5750 - val_loss: 0.1813 - val_accuracy: 0.6867\n",
      "Epoch 46/100\n",
      "38/38 [==============================] - 0s 1ms/step - loss: 0.1788 - accuracy: 0.6133 - val_loss: 0.1811 - val_accuracy: 0.6367\n",
      "Epoch 47/100\n",
      "38/38 [==============================] - 0s 1ms/step - loss: 0.1780 - accuracy: 0.5808 - val_loss: 0.1798 - val_accuracy: 0.6333\n",
      "Epoch 48/100\n",
      "38/38 [==============================] - 0s 1ms/step - loss: 0.1811 - accuracy: 0.6017 - val_loss: 0.1825 - val_accuracy: 0.7133\n",
      "Epoch 49/100\n",
      "38/38 [==============================] - 0s 1ms/step - loss: 0.1783 - accuracy: 0.5875 - val_loss: 0.1794 - val_accuracy: 0.7233\n",
      "Epoch 50/100\n",
      "38/38 [==============================] - 0s 1ms/step - loss: 0.1765 - accuracy: 0.6267 - val_loss: 0.1818 - val_accuracy: 0.5467\n",
      "Epoch 51/100\n",
      "38/38 [==============================] - 0s 1ms/step - loss: 0.1765 - accuracy: 0.5742 - val_loss: 0.1815 - val_accuracy: 0.6333\n",
      "Epoch 52/100\n",
      "38/38 [==============================] - 0s 1ms/step - loss: 0.1746 - accuracy: 0.6125 - val_loss: 0.1809 - val_accuracy: 0.5833\n",
      "Epoch 53/100\n",
      "38/38 [==============================] - 0s 1ms/step - loss: 0.1732 - accuracy: 0.5783 - val_loss: 0.1883 - val_accuracy: 0.7800\n",
      "Epoch 54/100\n",
      "38/38 [==============================] - 0s 1ms/step - loss: 0.1746 - accuracy: 0.5892 - val_loss: 0.1798 - val_accuracy: 0.7367\n",
      "Epoch 55/100\n",
      "38/38 [==============================] - 0s 1ms/step - loss: 0.1735 - accuracy: 0.6092 - val_loss: 0.1800 - val_accuracy: 0.6300\n",
      "Epoch 56/100\n",
      "38/38 [==============================] - 0s 1ms/step - loss: 0.1713 - accuracy: 0.6000 - val_loss: 0.1803 - val_accuracy: 0.6367\n",
      "Epoch 57/100\n",
      "38/38 [==============================] - 0s 1ms/step - loss: 0.1719 - accuracy: 0.6050 - val_loss: 0.1829 - val_accuracy: 0.5433\n",
      "Epoch 58/100\n",
      "38/38 [==============================] - 0s 2ms/step - loss: 0.1701 - accuracy: 0.5875 - val_loss: 0.1851 - val_accuracy: 0.6400\n",
      "Epoch 59/100\n",
      "38/38 [==============================] - 0s 1ms/step - loss: 0.1723 - accuracy: 0.5733 - val_loss: 0.1828 - val_accuracy: 0.6667\n",
      "Epoch 60/100\n",
      "38/38 [==============================] - 0s 1ms/step - loss: 0.1688 - accuracy: 0.6108 - val_loss: 0.1812 - val_accuracy: 0.5567\n",
      "Epoch 61/100\n",
      "38/38 [==============================] - 0s 1ms/step - loss: 0.1685 - accuracy: 0.5900 - val_loss: 0.1844 - val_accuracy: 0.6500\n",
      "Epoch 62/100\n",
      "38/38 [==============================] - 0s 1ms/step - loss: 0.1673 - accuracy: 0.5875 - val_loss: 0.1959 - val_accuracy: 0.6267\n",
      "Epoch 63/100\n",
      "38/38 [==============================] - 0s 1ms/step - loss: 0.1701 - accuracy: 0.6050 - val_loss: 0.1889 - val_accuracy: 0.6233\n",
      "Epoch 64/100\n",
      "38/38 [==============================] - 0s 1ms/step - loss: 0.1658 - accuracy: 0.5900 - val_loss: 0.1825 - val_accuracy: 0.5833\n",
      "Epoch 65/100\n",
      "38/38 [==============================] - 0s 1ms/step - loss: 0.1655 - accuracy: 0.5967 - val_loss: 0.1877 - val_accuracy: 0.6433\n",
      "Epoch 66/100\n",
      "38/38 [==============================] - 0s 1ms/step - loss: 0.1661 - accuracy: 0.5992 - val_loss: 0.1828 - val_accuracy: 0.7467\n",
      "Epoch 67/100\n",
      "38/38 [==============================] - 0s 1ms/step - loss: 0.1626 - accuracy: 0.6167 - val_loss: 0.1841 - val_accuracy: 0.7567\n",
      "Epoch 68/100\n",
      "38/38 [==============================] - 0s 1ms/step - loss: 0.1627 - accuracy: 0.6008 - val_loss: 0.1838 - val_accuracy: 0.7367\n",
      "Epoch 69/100\n",
      "38/38 [==============================] - 0s 1ms/step - loss: 0.1624 - accuracy: 0.6133 - val_loss: 0.1832 - val_accuracy: 0.6733\n",
      "Epoch 70/100\n",
      "38/38 [==============================] - 0s 1ms/step - loss: 0.1613 - accuracy: 0.5833 - val_loss: 0.1848 - val_accuracy: 0.6967\n",
      "Epoch 71/100\n",
      "38/38 [==============================] - 0s 1ms/step - loss: 0.1619 - accuracy: 0.5892 - val_loss: 0.1844 - val_accuracy: 0.5933\n",
      "Epoch 72/100\n",
      "38/38 [==============================] - 0s 1ms/step - loss: 0.1641 - accuracy: 0.6025 - val_loss: 0.1834 - val_accuracy: 0.6833\n",
      "Epoch 73/100\n",
      "38/38 [==============================] - 0s 1ms/step - loss: 0.1594 - accuracy: 0.5917 - val_loss: 0.1891 - val_accuracy: 0.7467\n",
      "Epoch 74/100\n",
      "38/38 [==============================] - 0s 1ms/step - loss: 0.1590 - accuracy: 0.5958 - val_loss: 0.1831 - val_accuracy: 0.6667\n",
      "Epoch 75/100\n",
      "38/38 [==============================] - 0s 1ms/step - loss: 0.1583 - accuracy: 0.5867 - val_loss: 0.1815 - val_accuracy: 0.6300\n",
      "Epoch 76/100\n",
      "38/38 [==============================] - 0s 1ms/step - loss: 0.1588 - accuracy: 0.5825 - val_loss: 0.1911 - val_accuracy: 0.5333\n",
      "Epoch 77/100\n",
      "38/38 [==============================] - 0s 1ms/step - loss: 0.1584 - accuracy: 0.6000 - val_loss: 0.1831 - val_accuracy: 0.6900\n",
      "Epoch 78/100\n",
      "38/38 [==============================] - 0s 1ms/step - loss: 0.1598 - accuracy: 0.5967 - val_loss: 0.1894 - val_accuracy: 0.6300\n",
      "Epoch 79/100\n",
      "38/38 [==============================] - 0s 1ms/step - loss: 0.1554 - accuracy: 0.5900 - val_loss: 0.1815 - val_accuracy: 0.6833\n",
      "Epoch 80/100\n",
      "38/38 [==============================] - 0s 1ms/step - loss: 0.1548 - accuracy: 0.6008 - val_loss: 0.1855 - val_accuracy: 0.6533\n",
      "Epoch 81/100\n",
      "38/38 [==============================] - 0s 1ms/step - loss: 0.1569 - accuracy: 0.6092 - val_loss: 0.1866 - val_accuracy: 0.7267\n",
      "Epoch 82/100\n",
      "38/38 [==============================] - 0s 1ms/step - loss: 0.1532 - accuracy: 0.5883 - val_loss: 0.1863 - val_accuracy: 0.5933\n",
      "Epoch 83/100\n",
      "38/38 [==============================] - 0s 1ms/step - loss: 0.1536 - accuracy: 0.5967 - val_loss: 0.1874 - val_accuracy: 0.5933\n",
      "Epoch 84/100\n",
      "38/38 [==============================] - 0s 1ms/step - loss: 0.1528 - accuracy: 0.6067 - val_loss: 0.1883 - val_accuracy: 0.6367\n",
      "Epoch 85/100\n",
      "38/38 [==============================] - 0s 1ms/step - loss: 0.1514 - accuracy: 0.6200 - val_loss: 0.1885 - val_accuracy: 0.5167\n",
      "Epoch 86/100\n",
      "38/38 [==============================] - 0s 1ms/step - loss: 0.1536 - accuracy: 0.5975 - val_loss: 0.1866 - val_accuracy: 0.7267\n",
      "Epoch 87/100\n",
      "38/38 [==============================] - 0s 1ms/step - loss: 0.1515 - accuracy: 0.5817 - val_loss: 0.1850 - val_accuracy: 0.7000\n",
      "Epoch 88/100\n",
      "38/38 [==============================] - 0s 1ms/step - loss: 0.1521 - accuracy: 0.6050 - val_loss: 0.1841 - val_accuracy: 0.6067\n",
      "Epoch 89/100\n",
      "38/38 [==============================] - 0s 1ms/step - loss: 0.1522 - accuracy: 0.5892 - val_loss: 0.1865 - val_accuracy: 0.5933\n",
      "Epoch 90/100\n",
      "38/38 [==============================] - 0s 1ms/step - loss: 0.1525 - accuracy: 0.6000 - val_loss: 0.1862 - val_accuracy: 0.5733\n",
      "Epoch 91/100\n",
      "38/38 [==============================] - 0s 1ms/step - loss: 0.1495 - accuracy: 0.6008 - val_loss: 0.1957 - val_accuracy: 0.5533\n",
      "Epoch 92/100\n",
      "38/38 [==============================] - 0s 1ms/step - loss: 0.1478 - accuracy: 0.6042 - val_loss: 0.1868 - val_accuracy: 0.6467\n",
      "Epoch 93/100\n",
      "38/38 [==============================] - 0s 1ms/step - loss: 0.1474 - accuracy: 0.5900 - val_loss: 0.1882 - val_accuracy: 0.6233\n",
      "Epoch 94/100\n",
      "38/38 [==============================] - 0s 1ms/step - loss: 0.1475 - accuracy: 0.5850 - val_loss: 0.1866 - val_accuracy: 0.5900\n",
      "Epoch 95/100\n",
      "38/38 [==============================] - 0s 1ms/step - loss: 0.1455 - accuracy: 0.6033 - val_loss: 0.1875 - val_accuracy: 0.5933\n",
      "Epoch 96/100\n",
      "38/38 [==============================] - 0s 1ms/step - loss: 0.1455 - accuracy: 0.5958 - val_loss: 0.1875 - val_accuracy: 0.6500\n",
      "Epoch 97/100\n",
      "38/38 [==============================] - 0s 1ms/step - loss: 0.1449 - accuracy: 0.5892 - val_loss: 0.1914 - val_accuracy: 0.6967\n",
      "Epoch 98/100\n",
      "38/38 [==============================] - 0s 1ms/step - loss: 0.1452 - accuracy: 0.5983 - val_loss: 0.1865 - val_accuracy: 0.6000\n",
      "Epoch 99/100\n",
      "38/38 [==============================] - 0s 1ms/step - loss: 0.1449 - accuracy: 0.5850 - val_loss: 0.1967 - val_accuracy: 0.6367\n",
      "Epoch 100/100\n",
      "38/38 [==============================] - 0s 1ms/step - loss: 0.1441 - accuracy: 0.5933 - val_loss: 0.1899 - val_accuracy: 0.5867\n",
      "Rounded Predictions: \n",
      " [[0. 1. 0.]\n",
      " [1. 1. 1.]\n",
      " [0. 0. 0.]\n",
      " ...\n",
      " [1. 1. 0.]\n",
      " [1. 1. 0.]\n",
      " [1. 0. 0.]]\n"
     ]
    }
   ],
   "source": [
    "# Train for 100 epochs using a validation split of 0.2\n",
    "h_callback = model.fit(sensors_train, parcels_train, epochs = 100, validation_split = 0.2)\n",
    "\n",
    "# Predict on sensors_test and round up the predictions\n",
    "preds = model.predict(sensors_test)\n",
    "preds_rounded = np.round(preds)\n",
    "\n",
    "# Print rounded preds\n",
    "print('Rounded Predictions: \\n', preds_rounded)\n",
    "\n"
   ]
  },
  {
   "cell_type": "code",
   "execution_count": 7,
   "metadata": {},
   "outputs": [
    {
     "name": "stdout",
     "output_type": "stream",
     "text": [
      "16/16 [==============================] - 0s 561us/step - loss: 0.2559 - accuracy: 0.4960\n",
      "Accuracy: 0.4959999918937683\n"
     ]
    }
   ],
   "source": [
    "# Evaluate your model's accuracy on the test data\n",
    "accuracy = model.evaluate(sensors_test, parcels_test)[1]\n",
    "\n",
    "# Print accuracy\n",
    "print('Accuracy:', accuracy)"
   ]
  },
  {
   "cell_type": "markdown",
   "metadata": {},
   "source": [
    "### Visualizing Model Performance"
   ]
  },
  {
   "cell_type": "markdown",
   "metadata": {},
   "source": [
    "We can visualize the performance of the model through plotting the training loss and accuracy against validation loss and accuracy which is available in history callbacks. History callback is returned by default every time we train a model with the `.fit()` method. To access these metrics we can access the history dictionary parameter inside the returned `h_callback` object with the corresponding keys.\n",
    "\n"
   ]
  },
  {
   "cell_type": "code",
   "execution_count": 8,
   "metadata": {},
   "outputs": [
    {
     "name": "stdout",
     "output_type": "stream",
     "text": [
      "{'verbose': 1, 'epochs': 100, 'steps': 38}\n",
      "dict_keys(['loss', 'accuracy', 'val_loss', 'val_accuracy'])\n"
     ]
    }
   ],
   "source": [
    "print(h_callback.params)\n",
    "print(h_callback.history.keys())"
   ]
  },
  {
   "cell_type": "markdown",
   "metadata": {},
   "source": [
    "We will create two helper functions for this task and plot the results stored in history with `plot_accuracy()` and `plot_loss()`, two simple matplotlib functions. The task of `plot_accuracy()` is to plot training loss against validation loss. On the other hand, the task of `plot_loss()` is to plot training accuracy against validation accuracy.\n"
   ]
  },
  {
   "cell_type": "code",
   "execution_count": 9,
   "metadata": {},
   "outputs": [],
   "source": [
    "def plot_loss(loss,val_loss):\n",
    "  # Plot training & validation loss values\n",
    "  plt.figure()\n",
    "  plt.plot(loss)\n",
    "  plt.plot(val_loss)\n",
    "  plt.title('Model loss')\n",
    "  plt.ylabel('Loss')\n",
    "  plt.xlabel('Epoch')\n",
    "  plt.legend(['Train', 'Test'], loc='upper right')\n",
    "  plt.show()\n",
    "\n",
    "def plot_accuracy(acc,val_acc):\n",
    "  # Plot training & validation accuracy values\n",
    "  plt.figure()\n",
    "  plt.plot(acc)\n",
    "  plt.plot(val_acc)\n",
    "  plt.title('Model accuracy')\n",
    "  plt.ylabel('Accuracy')\n",
    "  plt.xlabel('Epoch')\n",
    "  plt.legend(['Train', 'Test'], loc='upper left')\n",
    "  plt.show()"
   ]
  },
  {
   "cell_type": "markdown",
   "metadata": {},
   "source": [
    "Now let us use these helper functions along with history callback object to produce the desired graph"
   ]
  },
  {
   "cell_type": "code",
   "execution_count": 10,
   "metadata": {},
   "outputs": [
    {
     "data": {
      "image/png": "[encoded data removed]",
      "text/plain": [
       "<Figure size 432x288 with 1 Axes>"
      ]
     },
     "metadata": {
      "needs_background": "light"
     },
     "output_type": "display_data"
    },
    {
     "data": {
      "image/png": "[encoded data removed]",
      "text/plain": [
       "<Figure size 432x288 with 1 Axes>"
      ]
     },
     "metadata": {
      "needs_background": "light"
     },
     "output_type": "display_data"
    }
   ],
   "source": [
    "\n",
    "# Plot train vs test loss during training\n",
    "plot_loss(h_callback.history['loss'], h_callback.history['val_loss'])\n",
    "\n",
    "# Plot train vs test accuracy during training\n",
    "plot_accuracy(h_callback.history['accuracy'], h_callback.history['val_accuracy'])"
   ]
  },
  {
   "cell_type": "markdown",
   "metadata": {},
   "source": [
    "### Saving the model with combination of callbacks\n"
   ]
  },
  {
   "cell_type": "markdown",
   "metadata": {},
   "source": [
    "We can see that sometimes the model is over-trained that leads to overfitting. We will use the `EarlyStopping()` callback which is useful since it allows us to stop the model training if it no longer improves after a given number of epochs. \n",
    "\n",
    "Also, Deep learning models can take a long time to train, especially when we move to deeper architectures and bigger datasets. Saving the model every time it improves as well as stopping it when it no longer does allows us to worry less about choosing the number of epochs to train for. We can also restore a saved model anytime and resume training where we left it. We can use `ModelCheckpoint()` for that.\n",
    "\n",
    "To make use of these, we need to pass the callbacks inside a list to the model's callback parameter in the `fit()`method."
   ]
  },
  {
   "cell_type": "code",
   "execution_count": 11,
   "metadata": {},
   "outputs": [
    {
     "name": "stdout",
     "output_type": "stream",
     "text": [
      "Epoch 1/10000\n",
      "38/38 [==============================] - 0s 9ms/step - loss: 0.1471 - accuracy: 0.5875 - val_loss: 0.1911 - val_accuracy: 0.7267\n",
      "Epoch 2/10000\n",
      "38/38 [==============================] - 0s 2ms/step - loss: 0.1439 - accuracy: 0.6192 - val_loss: 0.1933 - val_accuracy: 0.6433\n",
      "Epoch 3/10000\n",
      "38/38 [==============================] - 0s 3ms/step - loss: 0.1421 - accuracy: 0.5725 - val_loss: 0.1894 - val_accuracy: 0.6900\n",
      "Epoch 4/10000\n",
      "38/38 [==============================] - 0s 2ms/step - loss: 0.1433 - accuracy: 0.6217 - val_loss: 0.1937 - val_accuracy: 0.6667\n"
     ]
    }
   ],
   "source": [
    "# Import the EarlyStopping and ModelCheckpoint callbacks\n",
    "from tensorflow.keras.callbacks import EarlyStopping, ModelCheckpoint\n",
    "\n",
    "X_train, X_test, y_train, y_test = sensors_train, sensors_test, parcels_train, parcels_test\n",
    "# Early stop on validation accuracy\n",
    "monitor_val_acc = EarlyStopping(monitor = 'val_accuracy', patience = 3)\n",
    "\n",
    "# Save the best model \n",
    "model_checkpoint = ModelCheckpoint('best_model.hdf5', save_best_only = True)\n",
    "\n",
    "# Fit your model for a stupid amount of epochs\n",
    "h_callback = new_model.fit(X_train, y_train,\n",
    "                    epochs = 10000,\n",
    "                    callbacks = [monitor_val_acc, model_checkpoint],\n",
    "                    # validation_data = (X_test, y_test),\n",
    "                    validation_split = 0.2)"
   ]
  },
  {
   "cell_type": "markdown",
   "metadata": {},
   "source": [
    "Let us again visualize the model performance through `plot_accuracy()` and `plot_loss()` helper functions\n"
   ]
  },
  {
   "cell_type": "code",
   "execution_count": 12,
   "metadata": {},
   "outputs": [
    {
     "data": {
      "image/png": "[encoded data removed]",
      "text/plain": [
       "<Figure size 432x288 with 1 Axes>"
      ]
     },
     "metadata": {
      "needs_background": "light"
     },
     "output_type": "display_data"
    },
    {
     "data": {
      "image/png": "[encoded data removed]",
      "text/plain": [
       "<Figure size 432x288 with 1 Axes>"
      ]
     },
     "metadata": {
      "needs_background": "light"
     },
     "output_type": "display_data"
    }
   ],
   "source": [
    "\n",
    "# Plot train vs test loss during training\n",
    "plot_loss(h_callback.history['loss'], h_callback.history['val_loss'])\n",
    "\n",
    "# Plot train vs test accuracy during training\n",
    "plot_accuracy(h_callback.history['accuracy'], h_callback.history['val_accuracy'])"
   ]
  },
  {
   "cell_type": "code",
   "execution_count": 13,
   "metadata": {},
   "outputs": [
    {
     "name": "stdout",
     "output_type": "stream",
     "text": [
      "16/16 [==============================] - 0s 561us/step - loss: 0.2677 - accuracy: 0.5660\n",
      "Accuracy: 0.5659999847412109\n"
     ]
    }
   ],
   "source": [
    "# Evaluate your model's accuracy on the test data\n",
    "accuracy = new_model.evaluate(sensors_test, parcels_test)[1]\n",
    "\n",
    "# Print accuracy\n",
    "print('Accuracy:', accuracy)"
   ]
  },
  {
   "cell_type": "markdown",
   "metadata": {},
   "source": [
    "### Simple stacked model"
   ]
  },
  {
   "cell_type": "markdown",
   "metadata": {},
   "source": [
    "We will now create separate independent models and then stack them together into one model. To do this, we need to separate the dataframes for the three different classes and train them separately before merging them together. We will split the dataset into training and testing set for each machine label."
   ]
  },
  {
   "cell_type": "code",
   "execution_count": 14,
   "metadata": {},
   "outputs": [],
   "source": [
    "import pandas as pd\n",
    "import numpy as np\n",
    "from sklearn.model_selection import train_test_split\n",
    "from sklearn.ensemble import RandomForestClassifier\n",
    "from sklearn.metrics import accuracy_score, classification_report\n",
    "from sklearn.multioutput import MultiOutputClassifier\n",
    "\n",
    "# Load the dataset\n",
    "df = pd.read_csv('irrigation_machine.csv')\n",
    "\n",
    "# Filter the dataset into three separate dataframes\n",
    "# machine1_df = df[df['parcel_0'] == 1]\n",
    "# machine2_df = df[df['parcel_1'] == 1]\n",
    "# machine3_df = df[df['parcel_2'] == 1]\n",
    "machine1_df = df.drop(['parcel_1','parcel_2'], axis=1)\n",
    "machine2_df = df.drop(['parcel_0','parcel_2'], axis=1)\n",
    "machine3_df = df.drop(['parcel_0','parcel_1'], axis=1)\n",
    "\n",
    "\n",
    "# Define features and target for each machine dataframe\n",
    "sensor_features = [f'sensor_{i}' for i in range(20)]\n",
    "machine1_target = 'parcel_0'\n",
    "machine2_target = 'parcel_1'\n",
    "machine3_target = 'parcel_2'\n",
    "\n",
    "X1 = machine1_df[sensor_features]\n",
    "y1 = machine1_df[machine1_target]\n",
    "\n",
    "X2 = machine2_df[sensor_features]\n",
    "y2 = machine2_df[machine2_target]\n",
    "\n",
    "X3 = machine3_df[sensor_features]\n",
    "y3 = machine3_df[machine3_target]\n",
    "\n",
    "# Split the data into training and testing sets\n",
    "X1_train, X1_test, y1_train, y1_test = train_test_split(X1, y1, test_size=0.2, random_state=42)\n",
    "X2_train, X2_test, y2_train, y2_test = train_test_split(X2, y2, test_size=0.2, random_state=42)\n",
    "X3_train, X3_test, y3_train, y3_test = train_test_split(X3, y3, test_size=0.2, random_state=42)"
   ]
  },
  {
   "cell_type": "markdown",
   "metadata": {},
   "source": [
    "We will now create 3 independent models that are responsible for each label and then bind them together to create a clissifier that produces multiple outputs"
   ]
  },
  {
   "cell_type": "code",
   "execution_count": 15,
   "metadata": {},
   "outputs": [
    {
     "name": "stdout",
     "output_type": "stream",
     "text": [
      "RandomForestClassifier(random_state=42)\n",
      "RandomForestClassifier(random_state=42)\n",
      "RandomForestClassifier(random_state=42)\n",
      "MultiOutputClassifier(estimator=RandomForestClassifier(random_state=42))\n"
     ]
    }
   ],
   "source": [
    "\n",
    "# Train individual machine learning models\n",
    "model1 = RandomForestClassifier(random_state=42)\n",
    "model1.fit(X1_train, y1_train)\n",
    "\n",
    "model2 = RandomForestClassifier(random_state=42)\n",
    "model2.fit(X2_train, y2_train)\n",
    "\n",
    "model3 = RandomForestClassifier(random_state=42)\n",
    "model3.fit(X3_train, y3_train)\n",
    "\n",
    "\n",
    "# Combine models for multi-label classification\n",
    "combined_model = MultiOutputClassifier(RandomForestClassifier(random_state=42))\n",
    "\n",
    "print(model1)\n",
    "print(model2)\n",
    "print(model3)\n",
    "print(combined_model)"
   ]
  },
  {
   "cell_type": "markdown",
   "metadata": {},
   "source": [
    "We will now train the model with combined features."
   ]
  },
  {
   "cell_type": "code",
   "execution_count": 16,
   "metadata": {},
   "outputs": [
    {
     "data": {
      "text/html": [
       "<style>#sk-container-id-1 {color: black;}#sk-container-id-1 pre{padding: 0;}#sk-container-id-1 div.sk-toggleable {background-color: white;}#sk-container-id-1 label.sk-toggleable__label {cursor: pointer;display: block;width: 100%;margin-bottom: 0;padding: 0.3em;box-sizing: border-box;text-align: center;}#sk-container-id-1 label.sk-toggleable__label-arrow:before {content: \"▸\";float: left;margin-right: 0.25em;color: #696969;}#sk-container-id-1 label.sk-toggleable__label-arrow:hover:before {color: black;}#sk-container-id-1 div.sk-estimator:hover label.sk-toggleable__label-arrow:before {color: black;}#sk-container-id-1 div.sk-toggleable__content {max-height: 0;max-width: 0;overflow: hidden;text-align: left;background-color: #f0f8ff;}#sk-container-id-1 div.sk-toggleable__content pre {margin: 0.2em;color: black;border-radius: 0.25em;background-color: #f0f8ff;}#sk-container-id-1 input.sk-toggleable__control:checked~div.sk-toggleable__content {max-height: 200px;max-width: 100%;overflow: auto;}#sk-container-id-1 input.sk-toggleable__control:checked~label.sk-toggleable__label-arrow:before {content: \"▾\";}#sk-container-id-1 div.sk-estimator input.sk-toggleable__control:checked~label.sk-toggleable__label {background-color: #d4ebff;}#sk-container-id-1 div.sk-label input.sk-toggleable__control:checked~label.sk-toggleable__label {background-color: #d4ebff;}#sk-container-id-1 input.sk-hidden--visually {border: 0;clip: rect(1px 1px 1px 1px);clip: rect(1px, 1px, 1px, 1px);height: 1px;margin: -1px;overflow: hidden;padding: 0;position: absolute;width: 1px;}#sk-container-id-1 div.sk-estimator {font-family: monospace;background-color: #f0f8ff;border: 1px dotted black;border-radius: 0.25em;box-sizing: border-box;margin-bottom: 0.5em;}#sk-container-id-1 div.sk-estimator:hover {background-color: #d4ebff;}#sk-container-id-1 div.sk-parallel-item::after {content: \"\";width: 100%;border-bottom: 1px solid gray;flex-grow: 1;}#sk-container-id-1 div.sk-label:hover label.sk-toggleable__label {background-color: #d4ebff;}#sk-container-id-1 div.sk-serial::before {content: \"\";position: absolute;border-left: 1px solid gray;box-sizing: border-box;top: 0;bottom: 0;left: 50%;z-index: 0;}#sk-container-id-1 div.sk-serial {display: flex;flex-direction: column;align-items: center;background-color: white;padding-right: 0.2em;padding-left: 0.2em;position: relative;}#sk-container-id-1 div.sk-item {position: relative;z-index: 1;}#sk-container-id-1 div.sk-parallel {display: flex;align-items: stretch;justify-content: center;background-color: white;position: relative;}#sk-container-id-1 div.sk-item::before, #sk-container-id-1 div.sk-parallel-item::before {content: \"\";position: absolute;border-left: 1px solid gray;box-sizing: border-box;top: 0;bottom: 0;left: 50%;z-index: -1;}#sk-container-id-1 div.sk-parallel-item {display: flex;flex-direction: column;z-index: 1;position: relative;background-color: white;}#sk-container-id-1 div.sk-parallel-item:first-child::after {align-self: flex-end;width: 50%;}#sk-container-id-1 div.sk-parallel-item:last-child::after {align-self: flex-start;width: 50%;}#sk-container-id-1 div.sk-parallel-item:only-child::after {width: 0;}#sk-container-id-1 div.sk-dashed-wrapped {border: 1px dashed gray;margin: 0 0.4em 0.5em 0.4em;box-sizing: border-box;padding-bottom: 0.4em;background-color: white;}#sk-container-id-1 div.sk-label label {font-family: monospace;font-weight: bold;display: inline-block;line-height: 1.2em;}#sk-container-id-1 div.sk-label-container {text-align: center;}#sk-container-id-1 div.sk-container {/* jupyter's `normalize.less` sets `[hidden] { display: none; }` but bootstrap.min.css set `[hidden] { display: none !important; }` so we also need the `!important` here to be able to override the default hidden behavior on the sphinx rendered scikit-learn.org. See: https://github.com/scikit-learn/scikit-learn/issues/21755 */display: inline-block !important;position: relative;}#sk-container-id-1 div.sk-text-repr-fallback {display: none;}</style><div id=\"sk-container-id-1\" class=\"sk-top-container\"><div class=\"sk-text-repr-fallback\"><pre>MultiOutputClassifier(estimator=RandomForestClassifier(random_state=42))</pre><b>In a Jupyter environment, please rerun this cell to show the HTML representation or trust the notebook. <br />On GitHub, the HTML representation is unable to render, please try loading this page with nbviewer.org.</b></div><div class=\"sk-container\" hidden><div class=\"sk-item sk-dashed-wrapped\"><div class=\"sk-label-container\"><div class=\"sk-label sk-toggleable\"><input class=\"sk-toggleable__control sk-hidden--visually\" id=\"sk-estimator-id-1\" type=\"checkbox\" ><label for=\"sk-estimator-id-1\" class=\"sk-toggleable__label sk-toggleable__label-arrow\">MultiOutputClassifier</label><div class=\"sk-toggleable__content\"><pre>MultiOutputClassifier(estimator=RandomForestClassifier(random_state=42))</pre></div></div></div><div class=\"sk-parallel\"><div class=\"sk-parallel-item\"><div class=\"sk-item\"><div class=\"sk-label-container\"><div class=\"sk-label sk-toggleable\"><input class=\"sk-toggleable__control sk-hidden--visually\" id=\"sk-estimator-id-2\" type=\"checkbox\" ><label for=\"sk-estimator-id-2\" class=\"sk-toggleable__label sk-toggleable__label-arrow\">estimator: RandomForestClassifier</label><div class=\"sk-toggleable__content\"><pre>RandomForestClassifier(random_state=42)</pre></div></div></div><div class=\"sk-serial\"><div class=\"sk-item\"><div class=\"sk-estimator sk-toggleable\"><input class=\"sk-toggleable__control sk-hidden--visually\" id=\"sk-estimator-id-3\" type=\"checkbox\" ><label for=\"sk-estimator-id-3\" class=\"sk-toggleable__label sk-toggleable__label-arrow\">RandomForestClassifier</label><div class=\"sk-toggleable__content\"><pre>RandomForestClassifier(random_state=42)</pre></div></div></div></div></div></div></div></div></div></div>"
      ],
      "text/plain": [
       "MultiOutputClassifier(estimator=RandomForestClassifier(random_state=42))"
      ]
     },
     "execution_count": 16,
     "metadata": {},
     "output_type": "execute_result"
    }
   ],
   "source": [
    "\n",
    "# Prepare combined training and testing data\n",
    "X_combined = df[sensor_features]\n",
    "y_combined = df[['parcel_0', 'parcel_1', 'parcel_2']]\n",
    "\n",
    "X_train_combined, X_test_combined, y_train_combined, y_test_combined = train_test_split(X_combined, y_combined, test_size=0.2, random_state=42)\n",
    "\n",
    "# Train the combined model\n",
    "combined_model.fit(X_train_combined, y_train_combined)\n"
   ]
  },
  {
   "cell_type": "markdown",
   "metadata": {},
   "source": [
    "Next, we predict and then produce classification report to see the model performance."
   ]
  },
  {
   "cell_type": "code",
   "execution_count": 17,
   "metadata": {},
   "outputs": [
    {
     "name": "stdout",
     "output_type": "stream",
     "text": [
      "              precision    recall  f1-score   support\n",
      "\n",
      "           0       0.90      0.93      0.91       256\n",
      "           1       0.92      0.96      0.94       304\n",
      "           2       0.97      0.44      0.60        87\n",
      "\n",
      "   micro avg       0.91      0.88      0.90       647\n",
      "   macro avg       0.93      0.78      0.82       647\n",
      "weighted avg       0.92      0.88      0.88       647\n",
      " samples avg       0.82      0.78      0.79       647\n",
      "\n"
     ]
    },
    {
     "name": "stderr",
     "output_type": "stream",
     "text": [
      "C:\\Users\\88016\\AppData\\Roaming\\Python\\Python38\\site-packages\\sklearn\\metrics\\_classification.py:1471: UndefinedMetricWarning: Precision and F-score are ill-defined and being set to 0.0 in samples with no predicted labels. Use `zero_division` parameter to control this behavior.\n",
      "  _warn_prf(average, modifier, msg_start, len(result))\n",
      "C:\\Users\\88016\\AppData\\Roaming\\Python\\Python38\\site-packages\\sklearn\\metrics\\_classification.py:1471: UndefinedMetricWarning: Recall and F-score are ill-defined and being set to 0.0 in samples with no true labels. Use `zero_division` parameter to control this behavior.\n",
      "  _warn_prf(average, modifier, msg_start, len(result))\n"
     ]
    }
   ],
   "source": [
    "\n",
    "# Predict with the combined model\n",
    "y_pred_combined = combined_model.predict(X_test_combined)\n",
    "\n",
    "# Apply threshold to convert probabilities to 0 or 1\n",
    "threshold = 0.6\n",
    "y_pred_combined_binary = (y_pred_combined > threshold).astype(int)\n",
    "\n",
    "# Evaluate the combined model\n",
    "print(classification_report(y_test_combined, y_pred_combined_binary))"
   ]
  },
  {
   "cell_type": "markdown",
   "metadata": {},
   "source": [
    "### Deep Learning with stacked model"
   ]
  },
  {
   "cell_type": "markdown",
   "metadata": {},
   "source": [
    "Now we will try to create a deep learning model with similar approach. But first, we will transform the dataset "
   ]
  },
  {
   "cell_type": "code",
   "execution_count": 18,
   "metadata": {},
   "outputs": [],
   "source": [
    "from sklearn.preprocessing import StandardScaler\n",
    "from tensorflow.keras.models import Sequential\n",
    "from tensorflow.keras.layers import Dense, Dropout\n",
    "\n",
    "# Standardize the features\n",
    "scaler = StandardScaler()\n",
    "X1_train = scaler.fit_transform(X1_train)\n",
    "X1_test = scaler.transform(X1_test)\n",
    "X2_train = scaler.fit_transform(X2_train)\n",
    "X2_test = scaler.transform(X2_test)\n",
    "X3_train = scaler.fit_transform(X3_train)\n",
    "X3_test = scaler.transform(X3_test)\n"
   ]
  },
  {
   "cell_type": "markdown",
   "metadata": {},
   "source": [
    "We will now create 3 simple neural network models and train them"
   ]
  },
  {
   "cell_type": "code",
   "execution_count": 19,
   "metadata": {},
   "outputs": [
    {
     "name": "stdout",
     "output_type": "stream",
     "text": [
      "Model: \"sequential_2\"\n",
      "_________________________________________________________________\n",
      "Layer (type)                 Output Shape              Param #   \n",
      "=================================================================\n",
      "dense_2 (Dense)              (None, 64)                1344      \n",
      "_________________________________________________________________\n",
      "dropout (Dropout)            (None, 64)                0         \n",
      "_________________________________________________________________\n",
      "dense_3 (Dense)              (None, 32)                2080      \n",
      "_________________________________________________________________\n",
      "dense_4 (Dense)              (None, 1)                 33        \n",
      "=================================================================\n",
      "Total params: 3,457\n",
      "Trainable params: 3,457\n",
      "Non-trainable params: 0\n",
      "_________________________________________________________________\n",
      "None\n",
      "Model: \"sequential_3\"\n",
      "_________________________________________________________________\n",
      "Layer (type)                 Output Shape              Param #   \n",
      "=================================================================\n",
      "dense_5 (Dense)              (None, 64)                1344      \n",
      "_________________________________________________________________\n",
      "dropout_1 (Dropout)          (None, 64)                0         \n",
      "_________________________________________________________________\n",
      "dense_6 (Dense)              (None, 32)                2080      \n",
      "_________________________________________________________________\n",
      "dense_7 (Dense)              (None, 1)                 33        \n",
      "=================================================================\n",
      "Total params: 3,457\n",
      "Trainable params: 3,457\n",
      "Non-trainable params: 0\n",
      "_________________________________________________________________\n",
      "None\n",
      "Model: \"sequential_4\"\n",
      "_________________________________________________________________\n",
      "Layer (type)                 Output Shape              Param #   \n",
      "=================================================================\n",
      "dense_8 (Dense)              (None, 64)                1344      \n",
      "_________________________________________________________________\n",
      "dropout_2 (Dropout)          (None, 64)                0         \n",
      "_________________________________________________________________\n",
      "dense_9 (Dense)              (None, 32)                2080      \n",
      "_________________________________________________________________\n",
      "dense_10 (Dense)             (None, 1)                 33        \n",
      "=================================================================\n",
      "Total params: 3,457\n",
      "Trainable params: 3,457\n",
      "Non-trainable params: 0\n",
      "_________________________________________________________________\n",
      "None\n"
     ]
    }
   ],
   "source": [
    "\n",
    "# Define a function to create a neural network model\n",
    "def create_model(input_shape):\n",
    "    model = Sequential()\n",
    "    model.add(Dense(64, input_dim=input_shape, activation='relu'))\n",
    "    model.add(Dropout(0.5))\n",
    "    model.add(Dense(32, activation='relu'))\n",
    "    model.add(Dense(1, activation='sigmoid'))\n",
    "    model.compile(optimizer='adam', loss='binary_crossentropy', metrics=['accuracy'])\n",
    "    return model\n",
    "\n",
    "# Create and train individual models\n",
    "model1 = create_model(X1_train.shape[1])\n",
    "model1.fit(X1_train, y1_train, epochs=50, batch_size=32, validation_split=0.2, verbose=0)\n",
    "\n",
    "model2 = create_model(X2_train.shape[1])\n",
    "model2.fit(X2_train, y2_train, epochs=50, batch_size=32, validation_split=0.2, verbose=0)\n",
    "\n",
    "model3 = create_model(X3_train.shape[1])\n",
    "model3.fit(X3_train, y3_train, epochs=50, batch_size=32, validation_split=0.2, verbose=0)\n",
    "\n",
    "print(model1.summary())\n",
    "print(model2.summary())\n",
    "print(model3.summary())\n"
   ]
  },
  {
   "cell_type": "markdown",
   "metadata": {},
   "source": [
    "We will now combine the features. After feature combination, we need to again re-transform the features to make them into standardized data"
   ]
  },
  {
   "cell_type": "code",
   "execution_count": 20,
   "metadata": {},
   "outputs": [],
   "source": [
    "\n",
    "# Combine models for multi-label classification\n",
    "# Prepare combined training and testing data\n",
    "X_combined = df[sensor_features]\n",
    "y_combined = df[['parcel_0', 'parcel_1', 'parcel_2']]\n",
    "\n",
    "X_train_combined, X_test_combined, y_train_combined, y_test_combined = train_test_split(X_combined, y_combined, test_size=0.2, random_state=42)\n",
    "\n",
    "# Standardize the combined data\n",
    "X_train_combined = scaler.fit_transform(X_train_combined)\n",
    "X_test_combined = scaler.transform(X_test_combined)\n"
   ]
  },
  {
   "cell_type": "markdown",
   "metadata": {},
   "source": [
    "We will now create a simple model with 3 outputs"
   ]
  },
  {
   "cell_type": "code",
   "execution_count": 21,
   "metadata": {},
   "outputs": [
    {
     "name": "stdout",
     "output_type": "stream",
     "text": [
      "Model: \"sequential_5\"\n",
      "_________________________________________________________________\n",
      "Layer (type)                 Output Shape              Param #   \n",
      "=================================================================\n",
      "dense_11 (Dense)             (None, 64)                1344      \n",
      "_________________________________________________________________\n",
      "dropout_3 (Dropout)          (None, 64)                0         \n",
      "_________________________________________________________________\n",
      "dense_12 (Dense)             (None, 32)                2080      \n",
      "_________________________________________________________________\n",
      "dense_13 (Dense)             (None, 3)                 99        \n",
      "=================================================================\n",
      "Total params: 3,523\n",
      "Trainable params: 3,523\n",
      "Non-trainable params: 0\n",
      "_________________________________________________________________\n",
      "None\n"
     ]
    }
   ],
   "source": [
    "\n",
    "# Create a combined model for multi-label classification\n",
    "combined_model = Sequential()\n",
    "combined_model.add(Dense(64, input_dim=X_train_combined.shape[1], activation='relu'))\n",
    "combined_model.add(Dropout(0.5))\n",
    "combined_model.add(Dense(32, activation='relu'))\n",
    "combined_model.add(Dense(3, activation='sigmoid'))\n",
    "combined_model.compile(optimizer='adam', loss='binary_crossentropy', metrics=['accuracy'])\n",
    "print(combined_model.summary())"
   ]
  },
  {
   "cell_type": "code",
   "execution_count": 22,
   "metadata": {},
   "outputs": [
    {
     "name": "stdout",
     "output_type": "stream",
     "text": [
      "              precision    recall  f1-score   support\n",
      "\n",
      "           0       0.92      0.91      0.92       256\n",
      "           1       0.96      0.95      0.95       304\n",
      "           2       0.80      0.75      0.77        87\n",
      "\n",
      "   micro avg       0.92      0.91      0.92       647\n",
      "   macro avg       0.89      0.87      0.88       647\n",
      "weighted avg       0.92      0.91      0.91       647\n",
      " samples avg       0.80      0.80      0.79       647\n",
      "\n"
     ]
    },
    {
     "name": "stderr",
     "output_type": "stream",
     "text": [
      "C:\\Users\\88016\\AppData\\Roaming\\Python\\Python38\\site-packages\\sklearn\\metrics\\_classification.py:1471: UndefinedMetricWarning: Precision and F-score are ill-defined and being set to 0.0 in samples with no predicted labels. Use `zero_division` parameter to control this behavior.\n",
      "  _warn_prf(average, modifier, msg_start, len(result))\n",
      "C:\\Users\\88016\\AppData\\Roaming\\Python\\Python38\\site-packages\\sklearn\\metrics\\_classification.py:1471: UndefinedMetricWarning: Recall and F-score are ill-defined and being set to 0.0 in samples with no true labels. Use `zero_division` parameter to control this behavior.\n",
      "  _warn_prf(average, modifier, msg_start, len(result))\n"
     ]
    }
   ],
   "source": [
    "\n",
    "# Train the combined model\n",
    "combined_model.fit(X_train_combined, y_train_combined, epochs=50, batch_size=32, validation_split=0.2, verbose=0)\n",
    "\n",
    "# Predict with the combined model\n",
    "y_pred_combined = combined_model.predict(X_test_combined)\n",
    "\n",
    "# Apply threshold to convert probabilities to 0 or 1\n",
    "threshold = 0.5\n",
    "y_pred_combined_binary = (y_pred_combined > threshold).astype(int)\n",
    "\n",
    "# Evaluate the combined model\n",
    "print(classification_report(y_test_combined, y_pred_combined_binary))"
   ]
  },
  {
   "cell_type": "markdown",
   "metadata": {},
   "source": [
    "We will now train and fit the model and evaluate the performance with classification report"
   ]
  },
  {
   "cell_type": "code",
   "execution_count": 23,
   "metadata": {},
   "outputs": [
    {
     "name": "stdout",
     "output_type": "stream",
     "text": [
      "              precision    recall  f1-score   support\n",
      "\n",
      "           0       0.94      0.88      0.91       256\n",
      "           1       0.97      0.89      0.93       304\n",
      "           2       0.86      0.72      0.79        87\n",
      "\n",
      "   micro avg       0.95      0.86      0.90       647\n",
      "   macro avg       0.93      0.83      0.87       647\n",
      "weighted avg       0.95      0.86      0.90       647\n",
      " samples avg       0.81      0.76      0.77       647\n",
      "\n"
     ]
    },
    {
     "name": "stderr",
     "output_type": "stream",
     "text": [
      "C:\\Users\\88016\\AppData\\Roaming\\Python\\Python38\\site-packages\\sklearn\\metrics\\_classification.py:1471: UndefinedMetricWarning: Precision and F-score are ill-defined and being set to 0.0 in samples with no predicted labels. Use `zero_division` parameter to control this behavior.\n",
      "  _warn_prf(average, modifier, msg_start, len(result))\n",
      "C:\\Users\\88016\\AppData\\Roaming\\Python\\Python38\\site-packages\\sklearn\\metrics\\_classification.py:1471: UndefinedMetricWarning: Recall and F-score are ill-defined and being set to 0.0 in samples with no true labels. Use `zero_division` parameter to control this behavior.\n",
      "  _warn_prf(average, modifier, msg_start, len(result))\n"
     ]
    }
   ],
   "source": [
    "\n",
    "# Train the combined model and store the history\n",
    "history = model.fit(X_train_combined, y_train_combined, epochs=5, batch_size=32, validation_split=0.2, verbose=0)\n",
    "\n",
    "# Predict with the combined model\n",
    "y_pred_combined = model.predict(X_test_combined)\n",
    "\n",
    "# Apply threshold to convert probabilities to 0 or 1\n",
    "threshold = 0.6\n",
    "y_pred_combined_binary = (y_pred_combined > threshold).astype(int)\n",
    "\n",
    "# Evaluate the combined model\n",
    "print(classification_report(y_test_combined, y_pred_combined_binary))\n"
   ]
  },
  {
   "cell_type": "markdown",
   "metadata": {},
   "source": [
    "Let us visualize the training vs validation loss and accuracy"
   ]
  },
  {
   "cell_type": "code",
   "execution_count": 24,
   "metadata": {},
   "outputs": [
    {
     "data": {
      "image/png": "[encoded data removed]",
      "text/plain": [
       "<Figure size 864x360 with 2 Axes>"
      ]
     },
     "metadata": {
      "needs_background": "light"
     },
     "output_type": "display_data"
    }
   ],
   "source": [
    "\n",
    "# Plot training vs validation loss and accuracy\n",
    "plt.figure(figsize=(12, 5))\n",
    "\n",
    "# Plot loss\n",
    "plt.subplot(1, 2, 1)\n",
    "plt.plot(history.history['loss'], label='Training Loss')\n",
    "plt.plot(history.history['val_loss'], label='Validation Loss')\n",
    "plt.xlabel('Epochs')\n",
    "plt.ylabel('Loss')\n",
    "plt.title('Training vs. Validation Loss')\n",
    "plt.legend()\n",
    "\n",
    "# Plot accuracy\n",
    "plt.subplot(1, 2, 2)\n",
    "plt.plot(history.history['accuracy'], label='Training Accuracy')\n",
    "plt.plot(history.history['val_accuracy'], label='Validation Accuracy')\n",
    "plt.xlabel('Epochs')\n",
    "plt.ylabel('Accuracy')\n",
    "plt.title('Training vs. Validation Accuracy')\n",
    "plt.legend()\n",
    "\n",
    "plt.tight_layout()\n",
    "plt.show()"
   ]
  },
  {
   "cell_type": "markdown",
   "metadata": {},
   "source": [
    "We will create a combined model with keras functional API for multiple outputs and see how the model performs if we take the classification problem as per-class binary classification task."
   ]
  },
  {
   "cell_type": "code",
   "execution_count": 25,
   "metadata": {},
   "outputs": [
    {
     "name": "stdout",
     "output_type": "stream",
     "text": [
      "              precision    recall  f1-score   support\n",
      "\n",
      "           0       0.85      0.88      0.86       144\n",
      "           1       0.93      0.91      0.92       256\n",
      "\n",
      "    accuracy                           0.90       400\n",
      "   macro avg       0.89      0.90      0.89       400\n",
      "weighted avg       0.90      0.90      0.90       400\n",
      "\n",
      "              precision    recall  f1-score   support\n",
      "\n",
      "           0       0.78      0.91      0.84        96\n",
      "           1       0.97      0.92      0.94       304\n",
      "\n",
      "    accuracy                           0.92       400\n",
      "   macro avg       0.88      0.91      0.89       400\n",
      "weighted avg       0.92      0.92      0.92       400\n",
      "\n",
      "              precision    recall  f1-score   support\n",
      "\n",
      "           0       0.91      0.97      0.94       313\n",
      "           1       0.88      0.64      0.74        87\n",
      "\n",
      "    accuracy                           0.90       400\n",
      "   macro avg       0.89      0.81      0.84       400\n",
      "weighted avg       0.90      0.90      0.90       400\n",
      "\n"
     ]
    }
   ],
   "source": [
    "from tensorflow.keras.models import Sequential, Model\n",
    "from tensorflow.keras.layers import Dense, Dropout, Input\n",
    "\n",
    "input_layer = Input(shape=(X_train_combined.shape[1],))\n",
    "# Individual model outputs\n",
    "output1 = model1(input_layer)\n",
    "output2 = model2(input_layer)\n",
    "output3 = model3(input_layer)\n",
    "\n",
    "# Combine outputs\n",
    "combined_model = Model(inputs=input_layer, outputs=[output1, output2, output3])\n",
    "combined_model.compile(optimizer='adam', loss='binary_crossentropy', metrics=['accuracy'])\n",
    "\n",
    "# Train the combined model and store the history\n",
    "history = combined_model.fit(X_train_combined, [y_train_combined['parcel_0'], y_train_combined['parcel_1'], y_train_combined['parcel_2']],\n",
    "                             epochs=5, batch_size=32, validation_split=0.2, verbose=0)\n",
    "\n",
    "# Predict with the combined model\n",
    "y_pred_combined = combined_model.predict(X_test_combined)\n",
    "\n",
    "# Apply threshold to convert probabilities to 0 or 1\n",
    "threshold = 0.6\n",
    "y_pred_combined_binary = [(y_pred > threshold).astype(int) for y_pred in y_pred_combined]\n",
    "\n",
    "# Evaluate the combined model\n",
    "print(classification_report(y_test_combined['parcel_0'], y_pred_combined_binary[0]))\n",
    "print(classification_report(y_test_combined['parcel_1'], y_pred_combined_binary[1]))\n",
    "print(classification_report(y_test_combined['parcel_2'], y_pred_combined_binary[2]))\n"
   ]
  }
 ],
 "metadata": {
  "kernelspec": {
   "display_name": "env_py",
   "language": "python",
   "name": "python3"
  },
  "language_info": {
   "codemirror_mode": {
    "name": "ipython",
    "version": 3
   },
   "file_extension": ".py",
   "mimetype": "text/x-python",
   "name": "python",
   "nbconvert_exporter": "python",
   "pygments_lexer": "ipython3",
   "version": "3.8.11"
  }
 },
 "nbformat": 4,
 "nbformat_minor": 2
}
