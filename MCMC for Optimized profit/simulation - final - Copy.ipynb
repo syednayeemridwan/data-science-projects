{
 "cells": [
  {
   "cell_type": "markdown",
   "metadata": {},
   "source": [
    "# Regression with MCMC : Optimizing profits on bike rents"
   ]
  },
  {
   "cell_type": "markdown",
   "metadata": {},
   "source": [
    "### Exploring the dataset"
   ]
  },
  {
   "cell_type": "markdown",
   "metadata": {},
   "source": [
    "Markov Chain Monte Carlo, or MCMC, combines the concepts of Monte Carlo sampling with Markov Chains' property of converging to a steady state. This allows sampling draws from any, even unknown, posterior distribution. We will be using this method to predict the optimized temperature for bike rent.\n",
    "\n",
    "\n",
    "We will try to predict the number of bikes rented per day in a bike-sharing system to solve this optimization problem. Let us explore the dataset first."
   ]
  },
  {
   "cell_type": "code",
   "execution_count": 1,
   "metadata": {},
   "outputs": [
    {
     "data": {
      "text/html": [
       "<div>\n",
       "<style scoped>\n",
       "    .dataframe tbody tr th:only-of-type {\n",
       "        vertical-align: middle;\n",
       "    }\n",
       "\n",
       "    .dataframe tbody tr th {\n",
       "        vertical-align: top;\n",
       "    }\n",
       "\n",
       "    .dataframe thead th {\n",
       "        text-align: right;\n",
       "    }\n",
       "</style>\n",
       "<table border=\"1\" class=\"dataframe\">\n",
       "  <thead>\n",
       "    <tr style=\"text-align: right;\">\n",
       "      <th></th>\n",
       "      <th>work_day</th>\n",
       "      <th>temp</th>\n",
       "      <th>humidity</th>\n",
       "      <th>wind_speed</th>\n",
       "      <th>num_bikes</th>\n",
       "    </tr>\n",
       "  </thead>\n",
       "  <tbody>\n",
       "    <tr>\n",
       "      <th>0</th>\n",
       "      <td>0</td>\n",
       "      <td>0.265833</td>\n",
       "      <td>0.687917</td>\n",
       "      <td>0.175996</td>\n",
       "      <td>2.947</td>\n",
       "    </tr>\n",
       "    <tr>\n",
       "      <th>1</th>\n",
       "      <td>1</td>\n",
       "      <td>0.282609</td>\n",
       "      <td>0.622174</td>\n",
       "      <td>0.153800</td>\n",
       "      <td>3.784</td>\n",
       "    </tr>\n",
       "    <tr>\n",
       "      <th>2</th>\n",
       "      <td>1</td>\n",
       "      <td>0.354167</td>\n",
       "      <td>0.496250</td>\n",
       "      <td>0.147379</td>\n",
       "      <td>4.375</td>\n",
       "    </tr>\n",
       "    <tr>\n",
       "      <th>3</th>\n",
       "      <td>1</td>\n",
       "      <td>0.256667</td>\n",
       "      <td>0.722917</td>\n",
       "      <td>0.133721</td>\n",
       "      <td>2.802</td>\n",
       "    </tr>\n",
       "    <tr>\n",
       "      <th>4</th>\n",
       "      <td>1</td>\n",
       "      <td>0.265000</td>\n",
       "      <td>0.562083</td>\n",
       "      <td>0.194037</td>\n",
       "      <td>3.830</td>\n",
       "    </tr>\n",
       "  </tbody>\n",
       "</table>\n",
       "</div>"
      ],
      "text/plain": [
       "   work_day      temp  humidity  wind_speed  num_bikes\n",
       "0         0  0.265833  0.687917    0.175996      2.947\n",
       "1         1  0.282609  0.622174    0.153800      3.784\n",
       "2         1  0.354167  0.496250    0.147379      4.375\n",
       "3         1  0.256667  0.722917    0.133721      2.802\n",
       "4         1  0.265000  0.562083    0.194037      3.830"
      ]
     },
     "execution_count": 1,
     "metadata": {},
     "output_type": "execute_result"
    }
   ],
   "source": [
    "import pandas as pd\n",
    "bikes = pd.read_csv(\"dataset/bikes_test.csv\")\n",
    "bikes.head()\n"
   ]
  },
  {
   "cell_type": "markdown",
   "metadata": {},
   "source": [
    "We will first separate our training and testing data"
   ]
  },
  {
   "cell_type": "code",
   "execution_count": 2,
   "metadata": {},
   "outputs": [],
   "source": [
    "# Select the last 5 rows for bikes_test\n",
    "bikes_test = bikes.iloc[-5:]\n",
    "\n",
    "# Select the rest of the rows for bikes_train\n",
    "bikes_train = bikes.iloc[:-5]"
   ]
  }
 ],
 "metadata": {
  "kernelspec": {
   "display_name": "env_py",
   "language": "python",
   "name": "python3"
  },
  "language_info": {
   "codemirror_mode": {
    "name": "ipython",
    "version": 3
   },
   "file_extension": ".py",
   "mimetype": "text/x-python",
   "name": "python",
   "nbconvert_exporter": "python",
   "pygments_lexer": "ipython3",
   "version": "3.8.11"
  }
 },
 "nbformat": 4,
 "nbformat_minor": 2
}
