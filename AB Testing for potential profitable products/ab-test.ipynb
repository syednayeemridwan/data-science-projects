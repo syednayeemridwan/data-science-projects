{
 "cells": [
  {
   "cell_type": "markdown",
   "metadata": {},
   "source": [
    "# A/B Testing with Bayesian Analysis : Identifying products with more potentials"
   ]
  },
  {
   "cell_type": "markdown",
   "metadata": {},
   "source": [
    "### Explore Dataset and determine priors"
   ]
  },
  {
   "cell_type": "markdown",
   "metadata": {},
   "source": [
    "Let us first see the dataset"
   ]
  },
  {
   "cell_type": "code",
   "execution_count": 1,
   "metadata": {},
   "outputs": [
    {
     "data": {
      "text/html": [
       "<div>\n",
       "<style scoped>\n",
       "    .dataframe tbody tr th:only-of-type {\n",
       "        vertical-align: middle;\n",
       "    }\n",
       "\n",
       "    .dataframe tbody tr th {\n",
       "        vertical-align: top;\n",
       "    }\n",
       "\n",
       "    .dataframe thead th {\n",
       "        text-align: right;\n",
       "    }\n",
       "</style>\n",
       "<table border=\"1\" class=\"dataframe\">\n",
       "  <thead>\n",
       "    <tr style=\"text-align: right;\">\n",
       "      <th></th>\n",
       "      <th>user_id</th>\n",
       "      <th>product</th>\n",
       "      <th>site_version</th>\n",
       "      <th>time</th>\n",
       "      <th>banner_clicked</th>\n",
       "    </tr>\n",
       "  </thead>\n",
       "  <tbody>\n",
       "    <tr>\n",
       "      <th>0</th>\n",
       "      <td>f500b9f27ac611426935de6f7a52b71f</td>\n",
       "      <td>clothes</td>\n",
       "      <td>desktop</td>\n",
       "      <td>2019-01-28 16:47:08</td>\n",
       "      <td>0</td>\n",
       "    </tr>\n",
       "    <tr>\n",
       "      <th>1</th>\n",
       "      <td>cb4347c030a063c63a555a354984562f</td>\n",
       "      <td>sneakers</td>\n",
       "      <td>mobile</td>\n",
       "      <td>2019-03-31 17:34:59</td>\n",
       "      <td>0</td>\n",
       "    </tr>\n",
       "    <tr>\n",
       "      <th>2</th>\n",
       "      <td>89cec38a654319548af585f4c1c76b51</td>\n",
       "      <td>clothes</td>\n",
       "      <td>mobile</td>\n",
       "      <td>2019-02-06 09:22:50</td>\n",
       "      <td>0</td>\n",
       "    </tr>\n",
       "    <tr>\n",
       "      <th>3</th>\n",
       "      <td>1d4ea406d45686bdbb49476576a1a985</td>\n",
       "      <td>sneakers</td>\n",
       "      <td>mobile</td>\n",
       "      <td>2019-05-23 08:07:07</td>\n",
       "      <td>0</td>\n",
       "    </tr>\n",
       "    <tr>\n",
       "      <th>4</th>\n",
       "      <td>d14b9468a1f9a405fa801a64920367fe</td>\n",
       "      <td>clothes</td>\n",
       "      <td>mobile</td>\n",
       "      <td>2019-01-28 08:16:37</td>\n",
       "      <td>0</td>\n",
       "    </tr>\n",
       "  </tbody>\n",
       "</table>\n",
       "</div>"
      ],
      "text/plain": [
       "                            user_id   product site_version  \\\n",
       "0  f500b9f27ac611426935de6f7a52b71f   clothes      desktop   \n",
       "1  cb4347c030a063c63a555a354984562f  sneakers       mobile   \n",
       "2  89cec38a654319548af585f4c1c76b51   clothes       mobile   \n",
       "3  1d4ea406d45686bdbb49476576a1a985  sneakers       mobile   \n",
       "4  d14b9468a1f9a405fa801a64920367fe   clothes       mobile   \n",
       "\n",
       "                  time  banner_clicked  \n",
       "0  2019-01-28 16:47:08               0  \n",
       "1  2019-03-31 17:34:59               0  \n",
       "2  2019-02-06 09:22:50               0  \n",
       "3  2019-05-23 08:07:07               0  \n",
       "4  2019-01-28 08:16:37               0  "
      ]
     },
     "execution_count": 1,
     "metadata": {},
     "output_type": "execute_result"
    }
   ],
   "source": [
    "import pandas as pd\n",
    "ads = pd.read_csv(\"dataset/ads.csv\")\n",
    "ads.head()"
   ]
  },
  {
   "cell_type": "markdown",
   "metadata": {},
   "source": [
    "We will create a helper function that will take a list of simulation as trials and some priors and then use these informations to generate posteriors. This is nothing but a beta distribution. We will be using beta distribution because it is a good choice for bayesian analysis due to:\n",
    "- The Beta distribution is the conjugate prior for the Binomial distribution : if we start with a Beta prior and update it with Binomial data (`banner_clicked`), the posterior distribution is also a Beta distribution.\n",
    "- Bounded support Limited to [0, 1]: Good way to show distribution of probability for a variable\n",
    "- Variety of Shapes: we can change the shape of the distribution by the two parameters α and 𝛽. This flexibility allows it to represent a wide range of prior beliefs about the probability."
   ]
  },
  {
   "cell_type": "code",
   "execution_count": 2,
   "metadata": {},
   "outputs": [],
   "source": [
    "import numpy as np\n",
    "def simulate_beta_posterior(trials, beta_prior_a, beta_prior_b):\n",
    "    num_successes = np.sum(trials)\n",
    "    return np.random.beta(num_successes + beta_prior_a, len(trials) - num_successes + beta_prior_b, 10000)"
   ]
  },
  {
   "cell_type": "markdown",
   "metadata": {},
   "source": [
    "A company has just run two pilot advertising campaigns: one for sneakers, and one for clothes. Our job is to find out which one was more effective as measured by the click-through rate and should be rolled out to a larger audience.\n",
    "\n",
    "We have decided to run A/B testing, modeling the data using the binomial likelihood. We found out that a typical click-through rate for the previous ads has been around 15% recently, with results varying between 5% and 30%. Based on this, let us conclude that beta(10,50) would be a good prior for the click-through rate. Now we will generate prior draws with the helper function and visualize the distribution."
   ]
  },
  {
   "cell_type": "code",
   "execution_count": 3,
   "metadata": {},
   "outputs": [
    {
     "data": {
      "image/png": "[encoded data removed]",
      "text/plain": [
       "<Figure size 432x288 with 1 Axes>"
      ]
     },
     "metadata": {
      "needs_background": "light"
     },
     "output_type": "display_data"
    }
   ],
   "source": [
    "import seaborn as sns\n",
    "import matplotlib.pyplot as plt\n",
    "# Generate prior draws\n",
    "prior_draws = np.random.beta(10, 50, size=100000) \n",
    "\n",
    "# Plot the prior\n",
    "sns.kdeplot(prior_draws, shade=True, label=\"prior\")\n",
    "plt.show()"
   ]
  },
  {
   "cell_type": "markdown",
   "metadata": {},
   "source": [
    "### A or B : Which product is better?\n"
   ]
  },
  {
   "cell_type": "markdown",
   "metadata": {},
   "source": [
    "We will now sort out the two products - clothes and sneakers into different dataframes."
   ]
  },
  {
   "cell_type": "code",
   "execution_count": 4,
   "metadata": {},
   "outputs": [],
   "source": [
    "\n",
    "# Extract the banner_clicked column for each product\n",
    "clothes_clicked = ads.loc[ads[\"product\"] == \"clothes\"][\"banner_clicked\"]\n",
    "sneakers_clicked = ads.loc[ads[\"product\"] == \"sneakers\"][\"banner_clicked\"]\n",
    "\n"
   ]
  },
  {
   "cell_type": "markdown",
   "metadata": {},
   "source": [
    "Let us now simulate posterior draws with the helper function using the two product dataframes and visualize the distribution\n"
   ]
  },
  {
   "cell_type": "code",
   "execution_count": 5,
   "metadata": {},
   "outputs": [
    {
     "data": {
      "image/png": "[encoded data removed]",
      "text/plain": [
       "<Figure size 432x288 with 1 Axes>"
      ]
     },
     "metadata": {
      "needs_background": "light"
     },
     "output_type": "display_data"
    }
   ],
   "source": [
    "\n",
    "# Simulate posterior draws for each product\n",
    "clothes_posterior = simulate_beta_posterior(clothes_clicked, 10, 50)\n",
    "sneakers_posterior = simulate_beta_posterior(sneakers_clicked, 10, 50)\n",
    "sns.kdeplot(clothes_posterior, shade=True, label=\"clothes\")\n",
    "sns.kdeplot(sneakers_posterior, shade=True, label=\"sneakers\")\n",
    "plt.legend()\n",
    "plt.show()"
   ]
  },
  {
   "cell_type": "markdown",
   "metadata": {},
   "source": [
    "We have discovered that clothes ads are likely to have a higher click ratio than sneakers ads. But we need to find out what is the exact probability that this. For that,  let us calculate the posterior difference between clothes and sneakers click rates and visualize the distribution."
   ]
  },
  {
   "cell_type": "code",
   "execution_count": 6,
   "metadata": {},
   "outputs": [
    {
     "data": {
      "image/png": "[encoded data removed]",
      "text/plain": [
       "<Figure size 432x288 with 1 Axes>"
      ]
     },
     "metadata": {
      "needs_background": "light"
     },
     "output_type": "display_data"
    }
   ],
   "source": [
    "# Calculate posterior difference and plot it\n",
    "diff = clothes_posterior - sneakers_posterior\n",
    "sns.kdeplot(diff, shade=True, label=\"diff\")\n",
    "plt.show()"
   ]
  },
  {
   "cell_type": "markdown",
   "metadata": {},
   "source": [
    "Now, we will calculate a credible interval for the difference to measure the uncertainty in the estimate. \n"
   ]
  },
  {
   "cell_type": "code",
   "execution_count": 7,
   "metadata": {},
   "outputs": [
    {
     "name": "stdout",
     "output_type": "stream",
     "text": [
      "[0.00268133 0.02428919]\n"
     ]
    }
   ],
   "source": [
    "import arviz as az\n",
    "# Calculate and print 90% credible interval of posterior difference\n",
    "interval =  az.hdi(diff, hdi_prob=0.9)\n",
    "print(interval)"
   ]
  },
  {
   "cell_type": "markdown",
   "metadata": {},
   "source": [
    "Let us also visualize 90% credible interval of this distribution\n"
   ]
  },
  {
   "cell_type": "code",
   "execution_count": 8,
   "metadata": {},
   "outputs": [
    {
     "name": "stderr",
     "output_type": "stream",
     "text": [
      "The version of PyMC you are using is very outdated.\n",
      "\n",
      "Please upgrade to the latest version of PyMC https://www.pymc.io/projects/docs/en/stable/installation.html\n",
      "\n",
      "Also notice that PyMC3 has been renamed to PyMC.\n"
     ]
    },
    {
     "data": {
      "text/plain": [
       "<AxesSubplot:title={'center':'x'}>"
      ]
     },
     "execution_count": 8,
     "metadata": {},
     "output_type": "execute_result"
    },
    {
     "data": {
      "image/png": "[encoded data removed]",
      "text/plain": [
       "<Figure size 432x288 with 1 Axes>"
      ]
     },
     "metadata": {
      "needs_background": "light"
     },
     "output_type": "display_data"
    }
   ],
   "source": [
    "import pymc3 as pm\n",
    "# Calculate and print 90% credible interval of posterior difference\n",
    "# interval =  pm.plot_posterior(diff, hdi_prob=0.9)\n",
    "pm.plot_posterior(diff, hdi_prob=0.9)\n",
    "# print(interval)"
   ]
  },
  {
   "cell_type": "markdown",
   "metadata": {},
   "source": [
    "Now, we will calculate the percentage of cases where this difference is positive, which corresponds to clothes click rate being higher. "
   ]
  },
  {
   "cell_type": "code",
   "execution_count": 9,
   "metadata": {},
   "outputs": [
    {
     "name": "stdout",
     "output_type": "stream",
     "text": [
      "0.9787\n"
     ]
    }
   ],
   "source": [
    "\n",
    "# Calculate and print probability of clothes ad being better\n",
    "clothes_better_prob = (diff>0).mean()\n",
    "print(clothes_better_prob)"
   ]
  },
  {
   "cell_type": "markdown",
   "metadata": {},
   "source": [
    "We have concluded that with 98% probability, clothes ads have a higher click-through ratio than sneakers ads. This suggests rolling out the clothes campaign to a larger audience. However, there is a 2% risk that it's the sneakers ads that are actually better. If that's the case, how many clicks do we lose if we roll out the clothes campaign?\n",
    "The answer to this is the expected loss: the average posterior difference between the two click-through ratios given that sneakers ads do better. Let us also calculate it using the difference of distribution directly."
   ]
  },
  {
   "cell_type": "code",
   "execution_count": 10,
   "metadata": {},
   "outputs": [
    {
     "name": "stdout",
     "output_type": "stream",
     "text": [
      "-0.002526076911162875\n"
     ]
    }
   ],
   "source": [
    "# Slice diff to take only cases where it is negative\n",
    "loss = diff[diff < 0] # NOT (diff<0).mean()\n",
    "\n",
    "# Compute and print expected loss\n",
    "expected_loss = loss.mean()\n",
    "print(expected_loss)"
   ]
  },
  {
   "cell_type": "code",
   "execution_count": null,
   "metadata": {},
   "outputs": [],
   "source": []
  }
 ],
 "metadata": {
  "kernelspec": {
   "display_name": "env_py",
   "language": "python",
   "name": "python3"
  },
  "language_info": {
   "codemirror_mode": {
    "name": "ipython",
    "version": 3
   },
   "file_extension": ".py",
   "mimetype": "text/x-python",
   "name": "python",
   "nbconvert_exporter": "python",
   "pygments_lexer": "ipython3",
   "version": "3.8.11"
  }
 },
 "nbformat": 4,
 "nbformat_minor": 2
}
