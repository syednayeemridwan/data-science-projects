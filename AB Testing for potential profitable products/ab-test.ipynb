{
 "cells": [
  {
   "cell_type": "markdown",
   "metadata": {},
   "source": [
    "# A/B Testing with Bayesian Analysis : Identifying products with more potentials"
   ]
  },
  {
   "cell_type": "markdown",
   "metadata": {},
   "source": [
    "### Explore Dataset and determine priors"
   ]
  },
  {
   "cell_type": "markdown",
   "metadata": {},
   "source": [
    "Let us first see the dataset"
   ]
  },
  {
   "cell_type": "code",
   "execution_count": 1,
   "metadata": {},
   "outputs": [
    {
     "data": {
      "text/html": [
       "<div>\n",
       "<style scoped>\n",
       "    .dataframe tbody tr th:only-of-type {\n",
       "        vertical-align: middle;\n",
       "    }\n",
       "\n",
       "    .dataframe tbody tr th {\n",
       "        vertical-align: top;\n",
       "    }\n",
       "\n",
       "    .dataframe thead th {\n",
       "        text-align: right;\n",
       "    }\n",
       "</style>\n",
       "<table border=\"1\" class=\"dataframe\">\n",
       "  <thead>\n",
       "    <tr style=\"text-align: right;\">\n",
       "      <th></th>\n",
       "      <th>user_id</th>\n",
       "      <th>product</th>\n",
       "      <th>site_version</th>\n",
       "      <th>time</th>\n",
       "      <th>banner_clicked</th>\n",
       "    </tr>\n",
       "  </thead>\n",
       "  <tbody>\n",
       "    <tr>\n",
       "      <th>0</th>\n",
       "      <td>f500b9f27ac611426935de6f7a52b71f</td>\n",
       "      <td>clothes</td>\n",
       "      <td>desktop</td>\n",
       "      <td>2019-01-28 16:47:08</td>\n",
       "      <td>0</td>\n",
       "    </tr>\n",
       "    <tr>\n",
       "      <th>1</th>\n",
       "      <td>cb4347c030a063c63a555a354984562f</td>\n",
       "      <td>sneakers</td>\n",
       "      <td>mobile</td>\n",
       "      <td>2019-03-31 17:34:59</td>\n",
       "      <td>0</td>\n",
       "    </tr>\n",
       "    <tr>\n",
       "      <th>2</th>\n",
       "      <td>89cec38a654319548af585f4c1c76b51</td>\n",
       "      <td>clothes</td>\n",
       "      <td>mobile</td>\n",
       "      <td>2019-02-06 09:22:50</td>\n",
       "      <td>0</td>\n",
       "    </tr>\n",
       "    <tr>\n",
       "      <th>3</th>\n",
       "      <td>1d4ea406d45686bdbb49476576a1a985</td>\n",
       "      <td>sneakers</td>\n",
       "      <td>mobile</td>\n",
       "      <td>2019-05-23 08:07:07</td>\n",
       "      <td>0</td>\n",
       "    </tr>\n",
       "    <tr>\n",
       "      <th>4</th>\n",
       "      <td>d14b9468a1f9a405fa801a64920367fe</td>\n",
       "      <td>clothes</td>\n",
       "      <td>mobile</td>\n",
       "      <td>2019-01-28 08:16:37</td>\n",
       "      <td>0</td>\n",
       "    </tr>\n",
       "  </tbody>\n",
       "</table>\n",
       "</div>"
      ],
      "text/plain": [
       "                            user_id   product site_version  \\\n",
       "0  f500b9f27ac611426935de6f7a52b71f   clothes      desktop   \n",
       "1  cb4347c030a063c63a555a354984562f  sneakers       mobile   \n",
       "2  89cec38a654319548af585f4c1c76b51   clothes       mobile   \n",
       "3  1d4ea406d45686bdbb49476576a1a985  sneakers       mobile   \n",
       "4  d14b9468a1f9a405fa801a64920367fe   clothes       mobile   \n",
       "\n",
       "                  time  banner_clicked  \n",
       "0  2019-01-28 16:47:08               0  \n",
       "1  2019-03-31 17:34:59               0  \n",
       "2  2019-02-06 09:22:50               0  \n",
       "3  2019-05-23 08:07:07               0  \n",
       "4  2019-01-28 08:16:37               0  "
      ]
     },
     "execution_count": 1,
     "metadata": {},
     "output_type": "execute_result"
    }
   ],
   "source": [
    "import pandas as pd\n",
    "ads = pd.read_csv(\"dataset/ads.csv\")\n",
    "ads.head()"
   ]
  },
  {
   "cell_type": "markdown",
   "metadata": {},
   "source": [
    "We will create a helper function that will take a list of simulation as trials and some priors and then use these informations to generate posteriors. This is nothing but a beta distribution. We will be using beta distribution because it is a good choice for bayesian analysis due to:\n",
    "- The Beta distribution is the conjugate prior for the Binomial distribution : if we start with a Beta prior and update it with Binomial data (`banner_clicked`), the posterior distribution is also a Beta distribution.\n",
    "- Bounded support Limited to [0, 1]: Good way to show distribution of probability for a variable\n",
    "- Variety of Shapes: we can change the shape of the distribution by the two parameters α and 𝛽. This flexibility allows it to represent a wide range of prior beliefs about the probability."
   ]
  },
  {
   "cell_type": "code",
   "execution_count": 2,
   "metadata": {},
   "outputs": [],
   "source": [
    "import numpy as np\n",
    "def simulate_beta_posterior(trials, beta_prior_a, beta_prior_b):\n",
    "    num_successes = np.sum(trials)\n",
    "    return np.random.beta(num_successes + beta_prior_a, len(trials) - num_successes + beta_prior_b, 10000)"
   ]
  },
  {
   "cell_type": "markdown",
   "metadata": {},
   "source": [
    "A company has just run two pilot advertising campaigns: one for sneakers, and one for clothes. Our job is to find out which one was more effective as measured by the click-through rate and should be rolled out to a larger audience.\n",
    "\n",
    "We have decided to run A/B testing, modeling the data using the binomial likelihood. We found out that a typical click-through rate for the previous ads has been around 15% recently, with results varying between 5% and 30%. Based on this, let us conclude that beta(10,50) would be a good prior for the click-through rate. Now we will generate prior draws with the helper function and visualize the distribution."
   ]
  },
  {
   "cell_type": "code",
   "execution_count": 3,
   "metadata": {},
   "outputs": [
    {
     "data": {
      "image/png": "[encoded data removed]",
      "text/plain": [
       "<Figure size 432x288 with 1 Axes>"
      ]
     },
     "metadata": {
      "needs_background": "light"
     },
     "output_type": "display_data"
    }
   ],
   "source": [
    "import seaborn as sns\n",
    "import matplotlib.pyplot as plt\n",
    "# Generate prior draws\n",
    "prior_draws = np.random.beta(10, 50, size=100000) \n",
    "\n",
    "# Plot the prior\n",
    "sns.kdeplot(prior_draws, shade=True, label=\"prior\")\n",
    "plt.show()"
   ]
  },
  {
   "cell_type": "markdown",
   "metadata": {},
   "source": [
    "We will now sort out the two products into different dataframes "
   ]
  }
 ],
 "metadata": {
  "kernelspec": {
   "display_name": "env_py",
   "language": "python",
   "name": "python3"
  },
  "language_info": {
   "codemirror_mode": {
    "name": "ipython",
    "version": 3
   },
   "file_extension": ".py",
   "mimetype": "text/x-python",
   "name": "python",
   "nbconvert_exporter": "python",
   "pygments_lexer": "ipython3",
   "version": "3.8.11"
  }
 },
 "nbformat": 4,
 "nbformat_minor": 2
}
