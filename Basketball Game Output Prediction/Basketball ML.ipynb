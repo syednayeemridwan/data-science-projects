{
 "cells": [
  {
   "cell_type": "markdown",
   "metadata": {},
   "source": [
    "# Multi-task deep learning on basketball data\n"
   ]
  },
  {
   "cell_type": "markdown",
   "metadata": {},
   "source": [
    "### Explore Datasets"
   ]
  },
  {
   "cell_type": "markdown",
   "metadata": {},
   "source": [
    "We will use a dataset of scores from US College Basketball tournament games. Dataset has the the seed difference that represents the ranking of how strong the teams are and the score difference of the game (e.g. if team_1 wins by 5 points, the score difference is 5).\n"
   ]
  },
  {
   "cell_type": "code",
   "execution_count": 1,
   "metadata": {},
   "outputs": [
    {
     "name": "stdout",
     "output_type": "stream",
     "text": [
      "(4234, 9)\n"
     ]
    },
    {
     "data": {
      "text/html": [
       "<div>\n",
       "<style scoped>\n",
       "    .dataframe tbody tr th:only-of-type {\n",
       "        vertical-align: middle;\n",
       "    }\n",
       "\n",
       "    .dataframe tbody tr th {\n",
       "        vertical-align: top;\n",
       "    }\n",
       "\n",
       "    .dataframe thead th {\n",
       "        text-align: right;\n",
       "    }\n",
       "</style>\n",
       "<table border=\"1\" class=\"dataframe\">\n",
       "  <thead>\n",
       "    <tr style=\"text-align: right;\">\n",
       "      <th></th>\n",
       "      <th>season</th>\n",
       "      <th>team_1</th>\n",
       "      <th>team_2</th>\n",
       "      <th>home</th>\n",
       "      <th>seed_diff</th>\n",
       "      <th>score_diff</th>\n",
       "      <th>score_1</th>\n",
       "      <th>score_2</th>\n",
       "      <th>won</th>\n",
       "    </tr>\n",
       "  </thead>\n",
       "  <tbody>\n",
       "    <tr>\n",
       "      <th>0</th>\n",
       "      <td>1985</td>\n",
       "      <td>288</td>\n",
       "      <td>73</td>\n",
       "      <td>0</td>\n",
       "      <td>-3</td>\n",
       "      <td>-9</td>\n",
       "      <td>41</td>\n",
       "      <td>50</td>\n",
       "      <td>0</td>\n",
       "    </tr>\n",
       "    <tr>\n",
       "      <th>1</th>\n",
       "      <td>1985</td>\n",
       "      <td>5929</td>\n",
       "      <td>73</td>\n",
       "      <td>0</td>\n",
       "      <td>4</td>\n",
       "      <td>6</td>\n",
       "      <td>61</td>\n",
       "      <td>55</td>\n",
       "      <td>1</td>\n",
       "    </tr>\n",
       "    <tr>\n",
       "      <th>2</th>\n",
       "      <td>1985</td>\n",
       "      <td>9884</td>\n",
       "      <td>73</td>\n",
       "      <td>0</td>\n",
       "      <td>5</td>\n",
       "      <td>-4</td>\n",
       "      <td>59</td>\n",
       "      <td>63</td>\n",
       "      <td>0</td>\n",
       "    </tr>\n",
       "    <tr>\n",
       "      <th>3</th>\n",
       "      <td>1985</td>\n",
       "      <td>73</td>\n",
       "      <td>288</td>\n",
       "      <td>0</td>\n",
       "      <td>3</td>\n",
       "      <td>9</td>\n",
       "      <td>50</td>\n",
       "      <td>41</td>\n",
       "      <td>1</td>\n",
       "    </tr>\n",
       "    <tr>\n",
       "      <th>4</th>\n",
       "      <td>1985</td>\n",
       "      <td>3920</td>\n",
       "      <td>410</td>\n",
       "      <td>0</td>\n",
       "      <td>1</td>\n",
       "      <td>-9</td>\n",
       "      <td>54</td>\n",
       "      <td>63</td>\n",
       "      <td>0</td>\n",
       "    </tr>\n",
       "  </tbody>\n",
       "</table>\n",
       "</div>"
      ],
      "text/plain": [
       "   season  team_1  team_2  home  seed_diff  score_diff  score_1  score_2  won\n",
       "0    1985     288      73     0         -3          -9       41       50    0\n",
       "1    1985    5929      73     0          4           6       61       55    1\n",
       "2    1985    9884      73     0          5          -4       59       63    0\n",
       "3    1985      73     288     0          3           9       50       41    1\n",
       "4    1985    3920     410     0          1          -9       54       63    0"
      ]
     },
     "execution_count": 1,
     "metadata": {},
     "output_type": "execute_result"
    }
   ],
   "source": [
    "import pandas as pd\n",
    "games_tourney = pd.read_csv(\"dataset/games_tourney.csv\")\n",
    "print(games_tourney.shape)\n",
    "games_tourney.head()"
   ]
  },
  {
   "cell_type": "code",
   "execution_count": 2,
   "metadata": {},
   "outputs": [
    {
     "name": "stdout",
     "output_type": "stream",
     "text": [
      "(312178, 8)\n"
     ]
    },
    {
     "data": {
      "text/html": [
       "<div>\n",
       "<style scoped>\n",
       "    .dataframe tbody tr th:only-of-type {\n",
       "        vertical-align: middle;\n",
       "    }\n",
       "\n",
       "    .dataframe tbody tr th {\n",
       "        vertical-align: top;\n",
       "    }\n",
       "\n",
       "    .dataframe thead th {\n",
       "        text-align: right;\n",
       "    }\n",
       "</style>\n",
       "<table border=\"1\" class=\"dataframe\">\n",
       "  <thead>\n",
       "    <tr style=\"text-align: right;\">\n",
       "      <th></th>\n",
       "      <th>season</th>\n",
       "      <th>team_1</th>\n",
       "      <th>team_2</th>\n",
       "      <th>home</th>\n",
       "      <th>score_diff</th>\n",
       "      <th>score_1</th>\n",
       "      <th>score_2</th>\n",
       "      <th>won</th>\n",
       "    </tr>\n",
       "  </thead>\n",
       "  <tbody>\n",
       "    <tr>\n",
       "      <th>0</th>\n",
       "      <td>1985</td>\n",
       "      <td>3745</td>\n",
       "      <td>6664</td>\n",
       "      <td>0</td>\n",
       "      <td>17</td>\n",
       "      <td>81</td>\n",
       "      <td>64</td>\n",
       "      <td>1</td>\n",
       "    </tr>\n",
       "    <tr>\n",
       "      <th>1</th>\n",
       "      <td>1985</td>\n",
       "      <td>126</td>\n",
       "      <td>7493</td>\n",
       "      <td>1</td>\n",
       "      <td>7</td>\n",
       "      <td>77</td>\n",
       "      <td>70</td>\n",
       "      <td>1</td>\n",
       "    </tr>\n",
       "    <tr>\n",
       "      <th>2</th>\n",
       "      <td>1985</td>\n",
       "      <td>288</td>\n",
       "      <td>3593</td>\n",
       "      <td>1</td>\n",
       "      <td>7</td>\n",
       "      <td>63</td>\n",
       "      <td>56</td>\n",
       "      <td>1</td>\n",
       "    </tr>\n",
       "    <tr>\n",
       "      <th>3</th>\n",
       "      <td>1985</td>\n",
       "      <td>1846</td>\n",
       "      <td>9881</td>\n",
       "      <td>1</td>\n",
       "      <td>16</td>\n",
       "      <td>70</td>\n",
       "      <td>54</td>\n",
       "      <td>1</td>\n",
       "    </tr>\n",
       "    <tr>\n",
       "      <th>4</th>\n",
       "      <td>1985</td>\n",
       "      <td>2675</td>\n",
       "      <td>10298</td>\n",
       "      <td>1</td>\n",
       "      <td>12</td>\n",
       "      <td>86</td>\n",
       "      <td>74</td>\n",
       "      <td>1</td>\n",
       "    </tr>\n",
       "  </tbody>\n",
       "</table>\n",
       "</div>"
      ],
      "text/plain": [
       "   season  team_1  team_2  home  score_diff  score_1  score_2  won\n",
       "0    1985    3745    6664     0          17       81       64    1\n",
       "1    1985     126    7493     1           7       77       70    1\n",
       "2    1985     288    3593     1           7       63       56    1\n",
       "3    1985    1846    9881     1          16       70       54    1\n",
       "4    1985    2675   10298     1          12       86       74    1"
      ]
     },
     "execution_count": 2,
     "metadata": {},
     "output_type": "execute_result"
    }
   ],
   "source": [
    "games_season = pd.read_csv(\"dataset/games_season.csv\")\n",
    "print(games_season.shape)\n",
    "games_season.head()"
   ]
  },
  {
   "cell_type": "markdown",
   "metadata": {},
   "source": [
    "Among these two datasets, `games_season` dataset has the most number of data. We can use this dataset to train a deep learning model and then use that model to see how the model performs in `games_tourney` being the test dataset"
   ]
  },
  {
   "cell_type": "markdown",
   "metadata": {},
   "source": [
    "### Creating a very simple model\n"
   ]
  },
  {
   "cell_type": "markdown",
   "metadata": {},
   "source": [
    "There is an issue with one dataset and that is `seed_diff` feature is not available in `games_season` whereas it is available in `games_tourney`. This is an important feature that represents team strength. In order to get this feature available for `games_season`, we can create a simple regression model using deep learning. This model will be trained with `games_tourney` dataset and then used to produce the missing feature in `games_season` dataset."
   ]
  },
  {
   "cell_type": "code",
   "execution_count": 3,
   "metadata": {},
   "outputs": [],
   "source": [
    "# Load layers\n",
    "from tensorflow.keras.layers import Input, Dense\n",
    "from tensorflow.keras.models import Model\n",
    "\n",
    "# Input layer\n",
    "input_tensor = Input(shape=(1,))\n",
    "\n",
    "# Dense layer\n",
    "output_layer = Dense(1)\n",
    "\n",
    "# Connect the dense layer to the input_tensor\n",
    "output_tensor = output_layer(input_tensor)\n",
    "\n",
    "# Build the model\n",
    "model = Model(input_tensor, output_tensor)\n",
    "\n",
    "# Compile the model\n",
    "model.compile(optimizer='adam', loss='mean_absolute_error')\n"
   ]
  },
  {
   "cell_type": "markdown",
   "metadata": {},
   "source": [
    "Let us create a helper function to visualize the model structure and then use it to see the layers in the deep learning model"
   ]
  },
  {
   "cell_type": "code",
   "execution_count": 4,
   "metadata": {},
   "outputs": [],
   "source": [
    "# Import the plotting function\n",
    "from tensorflow.keras.utils import plot_model\n",
    "import matplotlib.pyplot as plt\n",
    "\n",
    "def model_summary(model, model_name):\n",
    "    # Summarize the model\n",
    "    model.summary()\n",
    "\n",
    "    # Plot the model\n",
    "    plot_model(model, to_file=model_name)\n",
    "\n",
    "    # Display the image\n",
    "    data = plt.imread(model_name)\n",
    "    plt.imshow(data)\n",
    "    plt.show()"
   ]
  },
  {
   "cell_type": "code",
   "execution_count": 5,
   "metadata": {},
   "outputs": [
    {
     "name": "stdout",
     "output_type": "stream",
     "text": [
      "Model: \"functional_1\"\n",
      "_________________________________________________________________\n",
      "Layer (type)                 Output Shape              Param #   \n",
      "=================================================================\n",
      "input_1 (InputLayer)         [(None, 1)]               0         \n",
      "_________________________________________________________________\n",
      "dense (Dense)                (None, 1)                 2         \n",
      "=================================================================\n",
      "Total params: 2\n",
      "Trainable params: 2\n",
      "Non-trainable params: 0\n",
      "_________________________________________________________________\n"
     ]
    },
    {
     "data": {
      "image/png": "[encoded data removed]",
      "text/plain": [
       "<Figure size 432x288 with 1 Axes>"
      ]
     },
     "metadata": {
      "needs_background": "light"
     },
     "output_type": "display_data"
    }
   ],
   "source": [
    "model_summary(model=model, model_name=\"seed_diff_model.png\")\n",
    "\n"
   ]
  },
  {
   "cell_type": "markdown",
   "metadata": {},
   "source": [
    "Let us train the model and also evaluate the performance"
   ]
  },
  {
   "cell_type": "code",
   "execution_count": 6,
   "metadata": {},
   "outputs": [
    {
     "name": "stdout",
     "output_type": "stream",
     "text": [
      "Epoch 1/25\n",
      "24/24 [==============================] - 0s 12ms/step - loss: 22.2904 - val_loss: 20.5868\n",
      "Epoch 2/25\n",
      "24/24 [==============================] - 0s 2ms/step - loss: 22.0162 - val_loss: 20.3351\n",
      "Epoch 3/25\n",
      "24/24 [==============================] - 0s 2ms/step - loss: 21.7446 - val_loss: 20.0818\n",
      "Epoch 4/25\n",
      "24/24 [==============================] - 0s 2ms/step - loss: 21.4701 - val_loss: 19.8320\n",
      "Epoch 5/25\n",
      "24/24 [==============================] - 0s 2ms/step - loss: 21.1997 - val_loss: 19.5786\n",
      "Epoch 6/25\n",
      "24/24 [==============================] - 0s 2ms/step - loss: 20.9264 - val_loss: 19.3286\n",
      "Epoch 7/25\n",
      "24/24 [==============================] - 0s 2ms/step - loss: 20.6540 - val_loss: 19.0803\n",
      "Epoch 8/25\n",
      "24/24 [==============================] - 0s 2ms/step - loss: 20.3840 - val_loss: 18.8287\n",
      "Epoch 9/25\n",
      "24/24 [==============================] - 0s 2ms/step - loss: 20.1124 - val_loss: 18.5803\n",
      "Epoch 10/25\n",
      "24/24 [==============================] - 0s 2ms/step - loss: 19.8407 - val_loss: 18.3355\n",
      "Epoch 11/25\n",
      "24/24 [==============================] - 0s 2ms/step - loss: 19.5712 - val_loss: 18.0887\n",
      "Epoch 12/25\n",
      "24/24 [==============================] - 0s 2ms/step - loss: 19.3013 - val_loss: 17.8416\n",
      "Epoch 13/25\n",
      "24/24 [==============================] - 0s 2ms/step - loss: 19.0321 - val_loss: 17.5944\n",
      "Epoch 14/25\n",
      "24/24 [==============================] - 0s 2ms/step - loss: 18.7622 - val_loss: 17.3493\n",
      "Epoch 15/25\n",
      "24/24 [==============================] - 0s 2ms/step - loss: 18.4942 - val_loss: 17.1018\n",
      "Epoch 16/25\n",
      "24/24 [==============================] - 0s 2ms/step - loss: 18.2247 - val_loss: 16.8553\n",
      "Epoch 17/25\n",
      "24/24 [==============================] - 0s 1ms/step - loss: 17.9555 - val_loss: 16.6097\n",
      "Epoch 18/25\n",
      "24/24 [==============================] - 0s 1ms/step - loss: 17.6881 - val_loss: 16.3615\n",
      "Epoch 19/25\n",
      "24/24 [==============================] - 0s 1ms/step - loss: 17.4185 - val_loss: 16.1152\n",
      "Epoch 20/25\n",
      "24/24 [==============================] - 0s 1ms/step - loss: 17.1505 - val_loss: 15.8686\n",
      "Epoch 21/25\n",
      "24/24 [==============================] - 0s 1ms/step - loss: 16.8804 - val_loss: 15.6245\n",
      "Epoch 22/25\n",
      "24/24 [==============================] - 0s 1ms/step - loss: 16.6125 - val_loss: 15.3782\n",
      "Epoch 23/25\n",
      "24/24 [==============================] - 0s 1ms/step - loss: 16.3445 - val_loss: 15.1340\n",
      "Epoch 24/25\n",
      "24/24 [==============================] - 0s 1ms/step - loss: 16.0796 - val_loss: 14.8937\n",
      "Epoch 25/25\n",
      "24/24 [==============================] - 0s 1ms/step - loss: 15.8162 - val_loss: 14.6535\n",
      "27/27 [==============================] - 0s 443us/step - loss: 15.1188\n",
      "15.11884593963623\n"
     ]
    }
   ],
   "source": [
    "# Now fit the model\n",
    "y = games_tourney['seed_diff']\n",
    "X = games_tourney['score_diff']\n",
    "\n",
    "from sklearn.model_selection import train_test_split\n",
    "X_train, X_test, y_train, y_test = train_test_split(X, y , random_state=42, test_size=0.2, shuffle=True)\n",
    "model.fit(X_train, y_train, epochs=25, batch_size=128, validation_split=0.1)\n",
    "\n",
    "# Evaluate the model on the test data\n",
    "print(model.evaluate(X_test, y_test))\n",
    "\n"
   ]
  },
  {
   "cell_type": "markdown",
   "metadata": {},
   "source": [
    "Now we will create the desired `seed_diff` feature for the `games_season` dataset."
   ]
  },
  {
   "cell_type": "code",
   "execution_count": 7,
   "metadata": {},
   "outputs": [
    {
     "data": {
      "text/html": [
       "<div>\n",
       "<style scoped>\n",
       "    .dataframe tbody tr th:only-of-type {\n",
       "        vertical-align: middle;\n",
       "    }\n",
       "\n",
       "    .dataframe tbody tr th {\n",
       "        vertical-align: top;\n",
       "    }\n",
       "\n",
       "    .dataframe thead th {\n",
       "        text-align: right;\n",
       "    }\n",
       "</style>\n",
       "<table border=\"1\" class=\"dataframe\">\n",
       "  <thead>\n",
       "    <tr style=\"text-align: right;\">\n",
       "      <th></th>\n",
       "      <th>season</th>\n",
       "      <th>team_1</th>\n",
       "      <th>team_2</th>\n",
       "      <th>home</th>\n",
       "      <th>score_diff</th>\n",
       "      <th>score_1</th>\n",
       "      <th>score_2</th>\n",
       "      <th>won</th>\n",
       "      <th>seed_diff</th>\n",
       "    </tr>\n",
       "  </thead>\n",
       "  <tbody>\n",
       "    <tr>\n",
       "      <th>0</th>\n",
       "      <td>1985</td>\n",
       "      <td>3745</td>\n",
       "      <td>6664</td>\n",
       "      <td>0</td>\n",
       "      <td>17</td>\n",
       "      <td>81</td>\n",
       "      <td>64</td>\n",
       "      <td>1</td>\n",
       "      <td>-15.959502</td>\n",
       "    </tr>\n",
       "    <tr>\n",
       "      <th>1</th>\n",
       "      <td>1985</td>\n",
       "      <td>126</td>\n",
       "      <td>7493</td>\n",
       "      <td>1</td>\n",
       "      <td>7</td>\n",
       "      <td>77</td>\n",
       "      <td>70</td>\n",
       "      <td>1</td>\n",
       "      <td>-6.571542</td>\n",
       "    </tr>\n",
       "    <tr>\n",
       "      <th>2</th>\n",
       "      <td>1985</td>\n",
       "      <td>288</td>\n",
       "      <td>3593</td>\n",
       "      <td>1</td>\n",
       "      <td>7</td>\n",
       "      <td>63</td>\n",
       "      <td>56</td>\n",
       "      <td>1</td>\n",
       "      <td>-6.571542</td>\n",
       "    </tr>\n",
       "    <tr>\n",
       "      <th>3</th>\n",
       "      <td>1985</td>\n",
       "      <td>1846</td>\n",
       "      <td>9881</td>\n",
       "      <td>1</td>\n",
       "      <td>16</td>\n",
       "      <td>70</td>\n",
       "      <td>54</td>\n",
       "      <td>1</td>\n",
       "      <td>-15.020706</td>\n",
       "    </tr>\n",
       "    <tr>\n",
       "      <th>4</th>\n",
       "      <td>1985</td>\n",
       "      <td>2675</td>\n",
       "      <td>10298</td>\n",
       "      <td>1</td>\n",
       "      <td>12</td>\n",
       "      <td>86</td>\n",
       "      <td>74</td>\n",
       "      <td>1</td>\n",
       "      <td>-11.265522</td>\n",
       "    </tr>\n",
       "  </tbody>\n",
       "</table>\n",
       "</div>"
      ],
      "text/plain": [
       "   season  team_1  team_2  home  score_diff  score_1  score_2  won  seed_diff\n",
       "0    1985    3745    6664     0          17       81       64    1 -15.959502\n",
       "1    1985     126    7493     1           7       77       70    1  -6.571542\n",
       "2    1985     288    3593     1           7       63       56    1  -6.571542\n",
       "3    1985    1846    9881     1          16       70       54    1 -15.020706\n",
       "4    1985    2675   10298     1          12       86       74    1 -11.265522"
      ]
     },
     "execution_count": 7,
     "metadata": {},
     "output_type": "execute_result"
    }
   ],
   "source": [
    "games_season[\"seed_diff\"] = model.predict(games_season['score_diff'])\n",
    "games_season.head()"
   ]
  },
  {
   "cell_type": "markdown",
   "metadata": {},
   "source": [
    "### Can we create a better `seed_diff` feature?"
   ]
  },
  {
   "cell_type": "markdown",
   "metadata": {},
   "source": [
    "We can try creating `seed_diff` feature another way by using the two team ids and their performance. Our neural network will take two inputs as team ids and create one regression value `seed_diff` as output. We will now take into account each team's strength. Shared layers allow a model to use the same weight matrix for multiple steps. We will build a \"team strength\" layer that represents each team by a single number and use this number for both teams in the model. The model will learn a number for each team that works well both when the team is `team_1` and when the team is `team_2` in the input data. "
   ]
  },
  {
   "cell_type": "code",
   "execution_count": 8,
   "metadata": {},
   "outputs": [],
   "source": [
    "# Imports\n",
    "from tensorflow.keras.layers import Embedding, Flatten\n",
    "from numpy import unique\n",
    "\n",
    "# Count the unique number of teams\n",
    "n_teams = unique(games_season[\"team_1\"]).shape[0]\n",
    "\n",
    "# Create an embedding layer\n",
    "# team_lookup = Embedding(input_dim=n_teams, output_dim=1, input_length=1, name='Team-Strength')\n",
    "\n",
    "\n",
    "team_lookup = Embedding(input_dim=n_teams, input_length=1, output_dim=1)\n",
    "\n",
    "# Create an input layer for the team ID\n",
    "teamid_in = Input(shape=(1,))\n",
    "\n",
    "# Lookup the input in the team strength embedding layer\n",
    "strength_lookup = team_lookup(teamid_in)\n",
    "\n",
    "# Flatten the output\n",
    "strength_lookup_flat = Flatten()(strength_lookup)\n",
    "\n",
    "# Combine the operations into a single, re-usable model\n",
    "team_strength_model = Model(teamid_in, strength_lookup_flat, name='Team-Strength-Model')"
   ]
  },
  {
   "cell_type": "markdown",
   "metadata": {},
   "source": [
    "Now we will use `team_strength_model` as shared layer and use it to lookup both inputs in the same model. There will be two inputs coming into this shared layer. After completion of processing of the shared layer, the final output will be computed from the subtraction result of two processed inputs in shared layer."
   ]
  },
  {
   "cell_type": "code",
   "execution_count": 9,
   "metadata": {},
   "outputs": [],
   "source": [
    "# Imports\n",
    "from tensorflow.keras.layers import Subtract, Multiply\n",
    "from tensorflow.keras.models import Model\n",
    "\n",
    "\n",
    "# Input layer for team 1\n",
    "team_in_1 = Input(shape=(1,), name=\"Team-1-In\")\n",
    "\n",
    "# Separate input layer for team 2\n",
    "team_in_2 = Input(shape=(1,), name=\"Team-2-In\")\n",
    "\n",
    "# Lookup team 1 in the team strength model\n",
    "team_1_strength = team_strength_model(team_in_1)\n",
    "\n",
    "# Lookup team 2 in the team strength model\n",
    "team_2_strength =  team_strength_model(team_in_2)\n",
    "\n",
    "\n",
    "# Subtraction layer from previous exercise\n",
    "score_diff = Subtract()([team_1_strength, team_2_strength])\n",
    "\n",
    "# Create the model\n",
    "model = Model([team_in_1, team_in_2], score_diff)\n",
    "\n",
    "# Compile the model\n",
    "model.compile(loss='mean_absolute_error', optimizer='adam')"
   ]
  },
  {
   "cell_type": "markdown",
   "metadata": {},
   "source": [
    "Let us visualize the model structure"
   ]
  },
  {
   "cell_type": "code",
   "execution_count": 10,
   "metadata": {},
   "outputs": [
    {
     "name": "stdout",
     "output_type": "stream",
     "text": [
      "Model: \"functional_3\"\n",
      "__________________________________________________________________________________________________\n",
      "Layer (type)                    Output Shape         Param #     Connected to                     \n",
      "==================================================================================================\n",
      "Team-1-In (InputLayer)          [(None, 1)]          0                                            \n",
      "__________________________________________________________________________________________________\n",
      "Team-2-In (InputLayer)          [(None, 1)]          0                                            \n",
      "__________________________________________________________________________________________________\n",
      "Team-Strength-Model (Functional (None, 1)            10888       Team-1-In[0][0]                  \n",
      "                                                                 Team-2-In[0][0]                  \n",
      "__________________________________________________________________________________________________\n",
      "subtract (Subtract)             (None, 1)            0           Team-Strength-Model[0][0]        \n",
      "                                                                 Team-Strength-Model[1][0]        \n",
      "==================================================================================================\n",
      "Total params: 10,888\n",
      "Trainable params: 10,888\n",
      "Non-trainable params: 0\n",
      "__________________________________________________________________________________________________\n"
     ]
    },
    {
     "data": {
      "image/png": "[encoded data removed]",
      "text/plain": [
       "<Figure size 432x288 with 1 Axes>"
      ]
     },
     "metadata": {
      "needs_background": "light"
     },
     "output_type": "display_data"
    }
   ],
   "source": [
    "model_summary(model=model, model_name=\"two_input_seed_diff.png\")\n"
   ]
  },
  {
   "cell_type": "markdown",
   "metadata": {},
   "source": [
    "We will now use games tournament dataset for training and then use games season dataset for evaluating and comparing with previous model loss"
   ]
  },
  {
   "cell_type": "code",
   "execution_count": 11,
   "metadata": {},
   "outputs": [
    {
     "name": "stdout",
     "output_type": "stream",
     "text": [
      "Epoch 1/10\n",
      "2/2 [==============================] - 0s 136ms/step - loss: 6.2427 - val_loss: 6.0720\n",
      "Epoch 2/10\n",
      "2/2 [==============================] - 0s 14ms/step - loss: 6.2401 - val_loss: 6.0719\n",
      "Epoch 3/10\n",
      "2/2 [==============================] - 0s 14ms/step - loss: 6.2376 - val_loss: 6.0718\n",
      "Epoch 4/10\n",
      "2/2 [==============================] - 0s 14ms/step - loss: 6.2351 - val_loss: 6.0717\n",
      "Epoch 5/10\n",
      "2/2 [==============================] - 0s 57ms/step - loss: 6.2327 - val_loss: 6.0716\n",
      "Epoch 6/10\n",
      "2/2 [==============================] - 0s 18ms/step - loss: 6.2302 - val_loss: 6.0715\n",
      "Epoch 7/10\n",
      "2/2 [==============================] - 0s 13ms/step - loss: 6.2278 - val_loss: 6.0714\n",
      "Epoch 8/10\n",
      "2/2 [==============================] - 0s 14ms/step - loss: 6.2253 - val_loss: 6.0712\n",
      "Epoch 9/10\n",
      "2/2 [==============================] - 0s 14ms/step - loss: 6.2229 - val_loss: 6.0711\n",
      "Epoch 10/10\n",
      "2/2 [==============================] - 0s 13ms/step - loss: 6.2204 - val_loss: 6.0710\n"
     ]
    },
    {
     "data": {
      "text/plain": [
       "<tensorflow.python.keras.callbacks.History at 0x1dfdd677460>"
      ]
     },
     "execution_count": 11,
     "metadata": {},
     "output_type": "execute_result"
    }
   ],
   "source": [
    "# Get the team_1 column from the regular season data\n",
    "input_1 = games_tourney[\"team_1\"]\n",
    "\n",
    "# Get the team_2 column from the regular season data\n",
    "input_2 = games_tourney[\"team_2\"]\n",
    "\n",
    "# Fit the model to input 1 and 2, using score diff as a target\n",
    "model.fit([input_1, input_2], games_tourney[\"seed_diff\"],  epochs=10, batch_size=2048, validation_split=.1, verbose=True)"
   ]
  },
  {
   "cell_type": "code",
   "execution_count": 12,
   "metadata": {},
   "outputs": [
    {
     "name": "stdout",
     "output_type": "stream",
     "text": [
      "9756/9756 [==============================] - 15s 2ms/step - loss: 11.3621\n"
     ]
    },
    {
     "data": {
      "text/plain": [
       "11.362130165100098"
      ]
     },
     "execution_count": 12,
     "metadata": {},
     "output_type": "execute_result"
    }
   ],
   "source": [
    "# Get the team_1 column from the regular season data\n",
    "input_1 = games_season[\"team_1\"]\n",
    "\n",
    "# Get the team_2 column from the regular season data\n",
    "input_2 = games_season[\"team_2\"]\n",
    "\n",
    "model.evaluate([input_1, input_2], games_season[\"seed_diff\"])"
   ]
  },
  {
   "cell_type": "code",
   "execution_count": 13,
   "metadata": {},
   "outputs": [
    {
     "data": {
      "text/html": [
       "<div>\n",
       "<style scoped>\n",
       "    .dataframe tbody tr th:only-of-type {\n",
       "        vertical-align: middle;\n",
       "    }\n",
       "\n",
       "    .dataframe tbody tr th {\n",
       "        vertical-align: top;\n",
       "    }\n",
       "\n",
       "    .dataframe thead th {\n",
       "        text-align: right;\n",
       "    }\n",
       "</style>\n",
       "<table border=\"1\" class=\"dataframe\">\n",
       "  <thead>\n",
       "    <tr style=\"text-align: right;\">\n",
       "      <th></th>\n",
       "      <th>season</th>\n",
       "      <th>team_1</th>\n",
       "      <th>team_2</th>\n",
       "      <th>home</th>\n",
       "      <th>score_diff</th>\n",
       "      <th>score_1</th>\n",
       "      <th>score_2</th>\n",
       "      <th>won</th>\n",
       "      <th>seed_diff</th>\n",
       "      <th>seed_diff_2</th>\n",
       "    </tr>\n",
       "  </thead>\n",
       "  <tbody>\n",
       "    <tr>\n",
       "      <th>0</th>\n",
       "      <td>1985</td>\n",
       "      <td>3745</td>\n",
       "      <td>6664</td>\n",
       "      <td>0</td>\n",
       "      <td>17</td>\n",
       "      <td>81</td>\n",
       "      <td>64</td>\n",
       "      <td>1</td>\n",
       "      <td>-15.959502</td>\n",
       "      <td>-0.029946</td>\n",
       "    </tr>\n",
       "    <tr>\n",
       "      <th>1</th>\n",
       "      <td>1985</td>\n",
       "      <td>126</td>\n",
       "      <td>7493</td>\n",
       "      <td>1</td>\n",
       "      <td>7</td>\n",
       "      <td>77</td>\n",
       "      <td>70</td>\n",
       "      <td>1</td>\n",
       "      <td>-6.571542</td>\n",
       "      <td>-0.028436</td>\n",
       "    </tr>\n",
       "    <tr>\n",
       "      <th>2</th>\n",
       "      <td>1985</td>\n",
       "      <td>288</td>\n",
       "      <td>3593</td>\n",
       "      <td>1</td>\n",
       "      <td>7</td>\n",
       "      <td>63</td>\n",
       "      <td>56</td>\n",
       "      <td>1</td>\n",
       "      <td>-6.571542</td>\n",
       "      <td>0.027796</td>\n",
       "    </tr>\n",
       "    <tr>\n",
       "      <th>3</th>\n",
       "      <td>1985</td>\n",
       "      <td>1846</td>\n",
       "      <td>9881</td>\n",
       "      <td>1</td>\n",
       "      <td>16</td>\n",
       "      <td>70</td>\n",
       "      <td>54</td>\n",
       "      <td>1</td>\n",
       "      <td>-15.020706</td>\n",
       "      <td>0.032299</td>\n",
       "    </tr>\n",
       "    <tr>\n",
       "      <th>4</th>\n",
       "      <td>1985</td>\n",
       "      <td>2675</td>\n",
       "      <td>10298</td>\n",
       "      <td>1</td>\n",
       "      <td>12</td>\n",
       "      <td>86</td>\n",
       "      <td>74</td>\n",
       "      <td>1</td>\n",
       "      <td>-11.265522</td>\n",
       "      <td>0.038777</td>\n",
       "    </tr>\n",
       "  </tbody>\n",
       "</table>\n",
       "</div>"
      ],
      "text/plain": [
       "   season  team_1  team_2  home  score_diff  score_1  score_2  won  seed_diff  \\\n",
       "0    1985    3745    6664     0          17       81       64    1 -15.959502   \n",
       "1    1985     126    7493     1           7       77       70    1  -6.571542   \n",
       "2    1985     288    3593     1           7       63       56    1  -6.571542   \n",
       "3    1985    1846    9881     1          16       70       54    1 -15.020706   \n",
       "4    1985    2675   10298     1          12       86       74    1 -11.265522   \n",
       "\n",
       "   seed_diff_2  \n",
       "0    -0.029946  \n",
       "1    -0.028436  \n",
       "2     0.027796  \n",
       "3     0.032299  \n",
       "4     0.038777  "
      ]
     },
     "execution_count": 13,
     "metadata": {},
     "output_type": "execute_result"
    }
   ],
   "source": [
    "\n",
    "# Fit the model to input 1 and 2, using score diff as a target\n",
    "games_season[\"seed_diff_2\"] = model.predict([input_1, input_2]) \n",
    "games_season.head()"
   ]
  },
  {
   "cell_type": "markdown",
   "metadata": {},
   "source": [
    "Comparing `seed_diff` and `seed_diff_2` features, we find `seed_diff` more meaningful and we will proceed with `seed_diff` feature for `games_season` dataset in further processes. We will modify the current model and We will now make an input layer for home vs. away after the shared layer. It will now be a 3 input model.\n"
   ]
  },
  {
   "cell_type": "code",
   "execution_count": 14,
   "metadata": {},
   "outputs": [],
   "source": [
    "from tensorflow.keras.layers import Input, Concatenate, Dense\n",
    "# Create an Input for each team\n",
    "team_in_1 = Input(shape=(1,), name='Team-1-In')\n",
    "team_in_2 = Input(shape=(1,), name='Team-2-In')\n",
    "\n",
    "# Create an input for home vs away\n",
    "home_in = Input(shape=(1,), name='Home-In')\n",
    "\n",
    "# Lookup the team inputs in the team strength model\n",
    "team_1_strength = team_strength_model(team_in_1)\n",
    "team_2_strength = team_strength_model(team_in_2)\n",
    "\n",
    "# Combine the team strengths with the home input using a Concatenate layer, then add a Dense layer\n",
    "out = Concatenate()([team_1_strength, team_2_strength, home_in])\n",
    "out = Dense(1)(out)\n",
    "\n",
    "\n",
    "# Make a Model\n",
    "model = Model([team_in_1, team_in_2, home_in], out)\n",
    "\n",
    "# Compile the model\n",
    "model.compile(optimizer='adam', loss='mean_absolute_error')"
   ]
  },
  {
   "cell_type": "markdown",
   "metadata": {},
   "source": [
    "We will now train with season data and evaluate with tournament data\n"
   ]
  },
  {
   "cell_type": "code",
   "execution_count": 15,
   "metadata": {},
   "outputs": [
    {
     "name": "stdout",
     "output_type": "stream",
     "text": [
      "Epoch 1/10\n",
      "138/138 [==============================] - 1s 4ms/step - loss: 12.1468 - val_loss: 11.9508\n",
      "Epoch 2/10\n",
      "138/138 [==============================] - 0s 2ms/step - loss: 12.0963 - val_loss: 12.1349\n",
      "Epoch 3/10\n",
      "138/138 [==============================] - 0s 3ms/step - loss: 12.0299 - val_loss: 12.3033\n",
      "Epoch 4/10\n",
      "138/138 [==============================] - 0s 2ms/step - loss: 11.9467 - val_loss: 12.4569\n",
      "Epoch 5/10\n",
      "138/138 [==============================] - 0s 2ms/step - loss: 11.8513 - val_loss: 12.5821\n",
      "Epoch 6/10\n",
      "138/138 [==============================] - 0s 2ms/step - loss: 11.7485 - val_loss: 12.6802\n",
      "Epoch 7/10\n",
      "138/138 [==============================] - 0s 2ms/step - loss: 11.6374 - val_loss: 12.7569\n",
      "Epoch 8/10\n",
      "138/138 [==============================] - 0s 3ms/step - loss: 11.5191 - val_loss: 12.8115\n",
      "Epoch 9/10\n",
      "138/138 [==============================] - 0s 2ms/step - loss: 11.3957 - val_loss: 12.8430\n",
      "Epoch 10/10\n",
      "138/138 [==============================] - 0s 2ms/step - loss: 11.2683 - val_loss: 12.8534\n",
      "11.429740905761719\n"
     ]
    }
   ],
   "source": [
    "# Fit the model to the games_season dataset\n",
    "model.fit([games_season['team_1'], games_season['team_2'], games_season['home']],\n",
    "          games_season['score_diff'],\n",
    "          epochs=10,\n",
    "          verbose=True,\n",
    "          validation_split=0.1,\n",
    "          batch_size=2048)\n",
    "\n",
    "# Evaluate the model on the games_tourney dataset\n",
    "print(model.evaluate([games_tourney['team_1'], games_tourney['team_2'], games_tourney['home']],\n",
    "          games_tourney['score_diff'], verbose=False))\n",
    "\n",
    "\n"
   ]
  },
  {
   "cell_type": "markdown",
   "metadata": {},
   "source": [
    "Let us visualize the model architecture"
   ]
  },
  {
   "cell_type": "code",
   "execution_count": 16,
   "metadata": {},
   "outputs": [
    {
     "name": "stdout",
     "output_type": "stream",
     "text": [
      "Model: \"functional_5\"\n",
      "__________________________________________________________________________________________________\n",
      "Layer (type)                    Output Shape         Param #     Connected to                     \n",
      "==================================================================================================\n",
      "Team-1-In (InputLayer)          [(None, 1)]          0                                            \n",
      "__________________________________________________________________________________________________\n",
      "Team-2-In (InputLayer)          [(None, 1)]          0                                            \n",
      "__________________________________________________________________________________________________\n",
      "Team-Strength-Model (Functional (None, 1)            10888       Team-1-In[0][0]                  \n",
      "                                                                 Team-2-In[0][0]                  \n",
      "__________________________________________________________________________________________________\n",
      "Home-In (InputLayer)            [(None, 1)]          0                                            \n",
      "__________________________________________________________________________________________________\n",
      "concatenate (Concatenate)       (None, 3)            0           Team-Strength-Model[2][0]        \n",
      "                                                                 Team-Strength-Model[3][0]        \n",
      "                                                                 Home-In[0][0]                    \n",
      "__________________________________________________________________________________________________\n",
      "dense_1 (Dense)                 (None, 1)            4           concatenate[0][0]                \n",
      "==================================================================================================\n",
      "Total params: 10,892\n",
      "Trainable params: 10,892\n",
      "Non-trainable params: 0\n",
      "__________________________________________________________________________________________________\n"
     ]
    },
    {
     "data": {
      "image/png": "[encoded data removed]",
      "text/plain": [
       "<Figure size 432x288 with 1 Axes>"
      ]
     },
     "metadata": {
      "needs_background": "light"
     },
     "output_type": "display_data"
    }
   ],
   "source": [
    "model_summary(model=model, model_name=\"three_input_score_diff_pred.png\")\n"
   ]
  },
  {
   "cell_type": "markdown",
   "metadata": {},
   "source": [
    "We will add the model predictions of score difference data as predicted `score_diff` to both dataset so that we can see the comparison.\n"
   ]
  },
  {
   "cell_type": "code",
   "execution_count": 17,
   "metadata": {},
   "outputs": [
    {
     "data": {
      "text/html": [
       "<div>\n",
       "<style scoped>\n",
       "    .dataframe tbody tr th:only-of-type {\n",
       "        vertical-align: middle;\n",
       "    }\n",
       "\n",
       "    .dataframe tbody tr th {\n",
       "        vertical-align: top;\n",
       "    }\n",
       "\n",
       "    .dataframe thead th {\n",
       "        text-align: right;\n",
       "    }\n",
       "</style>\n",
       "<table border=\"1\" class=\"dataframe\">\n",
       "  <thead>\n",
       "    <tr style=\"text-align: right;\">\n",
       "      <th></th>\n",
       "      <th>season</th>\n",
       "      <th>team_1</th>\n",
       "      <th>team_2</th>\n",
       "      <th>home</th>\n",
       "      <th>seed_diff</th>\n",
       "      <th>score_diff</th>\n",
       "      <th>score_1</th>\n",
       "      <th>score_2</th>\n",
       "      <th>won</th>\n",
       "      <th>score_diff_pred</th>\n",
       "    </tr>\n",
       "  </thead>\n",
       "  <tbody>\n",
       "    <tr>\n",
       "      <th>0</th>\n",
       "      <td>1985</td>\n",
       "      <td>288</td>\n",
       "      <td>73</td>\n",
       "      <td>0</td>\n",
       "      <td>-3</td>\n",
       "      <td>-9</td>\n",
       "      <td>41</td>\n",
       "      <td>50</td>\n",
       "      <td>0</td>\n",
       "      <td>1.123209</td>\n",
       "    </tr>\n",
       "    <tr>\n",
       "      <th>1</th>\n",
       "      <td>1985</td>\n",
       "      <td>5929</td>\n",
       "      <td>73</td>\n",
       "      <td>0</td>\n",
       "      <td>4</td>\n",
       "      <td>6</td>\n",
       "      <td>61</td>\n",
       "      <td>55</td>\n",
       "      <td>1</td>\n",
       "      <td>1.315570</td>\n",
       "    </tr>\n",
       "    <tr>\n",
       "      <th>2</th>\n",
       "      <td>1985</td>\n",
       "      <td>9884</td>\n",
       "      <td>73</td>\n",
       "      <td>0</td>\n",
       "      <td>5</td>\n",
       "      <td>-4</td>\n",
       "      <td>59</td>\n",
       "      <td>63</td>\n",
       "      <td>0</td>\n",
       "      <td>2.050014</td>\n",
       "    </tr>\n",
       "    <tr>\n",
       "      <th>3</th>\n",
       "      <td>1985</td>\n",
       "      <td>73</td>\n",
       "      <td>288</td>\n",
       "      <td>0</td>\n",
       "      <td>3</td>\n",
       "      <td>9</td>\n",
       "      <td>50</td>\n",
       "      <td>41</td>\n",
       "      <td>1</td>\n",
       "      <td>1.209208</td>\n",
       "    </tr>\n",
       "    <tr>\n",
       "      <th>4</th>\n",
       "      <td>1985</td>\n",
       "      <td>3920</td>\n",
       "      <td>410</td>\n",
       "      <td>0</td>\n",
       "      <td>1</td>\n",
       "      <td>-9</td>\n",
       "      <td>54</td>\n",
       "      <td>63</td>\n",
       "      <td>0</td>\n",
       "      <td>1.415087</td>\n",
       "    </tr>\n",
       "  </tbody>\n",
       "</table>\n",
       "</div>"
      ],
      "text/plain": [
       "   season  team_1  team_2  home  seed_diff  score_diff  score_1  score_2  won  \\\n",
       "0    1985     288      73     0         -3          -9       41       50    0   \n",
       "1    1985    5929      73     0          4           6       61       55    1   \n",
       "2    1985    9884      73     0          5          -4       59       63    0   \n",
       "3    1985      73     288     0          3           9       50       41    1   \n",
       "4    1985    3920     410     0          1          -9       54       63    0   \n",
       "\n",
       "   score_diff_pred  \n",
       "0         1.123209  \n",
       "1         1.315570  \n",
       "2         2.050014  \n",
       "3         1.209208  \n",
       "4         1.415087  "
      ]
     },
     "execution_count": 17,
     "metadata": {},
     "output_type": "execute_result"
    }
   ],
   "source": [
    "# Predict\n",
    "games_tourney['score_diff_pred'] = model.predict([games_tourney['team_1'], games_tourney['team_2'], games_tourney['home']])\n",
    "games_tourney.head()"
   ]
  },
  {
   "cell_type": "code",
   "execution_count": 18,
   "metadata": {},
   "outputs": [
    {
     "data": {
      "text/html": [
       "<div>\n",
       "<style scoped>\n",
       "    .dataframe tbody tr th:only-of-type {\n",
       "        vertical-align: middle;\n",
       "    }\n",
       "\n",
       "    .dataframe tbody tr th {\n",
       "        vertical-align: top;\n",
       "    }\n",
       "\n",
       "    .dataframe thead th {\n",
       "        text-align: right;\n",
       "    }\n",
       "</style>\n",
       "<table border=\"1\" class=\"dataframe\">\n",
       "  <thead>\n",
       "    <tr style=\"text-align: right;\">\n",
       "      <th></th>\n",
       "      <th>season</th>\n",
       "      <th>team_1</th>\n",
       "      <th>team_2</th>\n",
       "      <th>home</th>\n",
       "      <th>score_diff</th>\n",
       "      <th>score_1</th>\n",
       "      <th>score_2</th>\n",
       "      <th>won</th>\n",
       "      <th>seed_diff</th>\n",
       "      <th>seed_diff_2</th>\n",
       "      <th>score_diff_pred</th>\n",
       "    </tr>\n",
       "  </thead>\n",
       "  <tbody>\n",
       "    <tr>\n",
       "      <th>0</th>\n",
       "      <td>1985</td>\n",
       "      <td>3745</td>\n",
       "      <td>6664</td>\n",
       "      <td>0</td>\n",
       "      <td>17</td>\n",
       "      <td>81</td>\n",
       "      <td>64</td>\n",
       "      <td>1</td>\n",
       "      <td>-15.959502</td>\n",
       "      <td>-0.029946</td>\n",
       "      <td>0.781489</td>\n",
       "    </tr>\n",
       "    <tr>\n",
       "      <th>1</th>\n",
       "      <td>1985</td>\n",
       "      <td>126</td>\n",
       "      <td>7493</td>\n",
       "      <td>1</td>\n",
       "      <td>7</td>\n",
       "      <td>77</td>\n",
       "      <td>70</td>\n",
       "      <td>1</td>\n",
       "      <td>-6.571542</td>\n",
       "      <td>-0.028436</td>\n",
       "      <td>2.072527</td>\n",
       "    </tr>\n",
       "    <tr>\n",
       "      <th>2</th>\n",
       "      <td>1985</td>\n",
       "      <td>288</td>\n",
       "      <td>3593</td>\n",
       "      <td>1</td>\n",
       "      <td>7</td>\n",
       "      <td>63</td>\n",
       "      <td>56</td>\n",
       "      <td>1</td>\n",
       "      <td>-6.571542</td>\n",
       "      <td>0.027796</td>\n",
       "      <td>2.223377</td>\n",
       "    </tr>\n",
       "    <tr>\n",
       "      <th>3</th>\n",
       "      <td>1985</td>\n",
       "      <td>1846</td>\n",
       "      <td>9881</td>\n",
       "      <td>1</td>\n",
       "      <td>16</td>\n",
       "      <td>70</td>\n",
       "      <td>54</td>\n",
       "      <td>1</td>\n",
       "      <td>-15.020706</td>\n",
       "      <td>0.032299</td>\n",
       "      <td>2.374442</td>\n",
       "    </tr>\n",
       "    <tr>\n",
       "      <th>4</th>\n",
       "      <td>1985</td>\n",
       "      <td>2675</td>\n",
       "      <td>10298</td>\n",
       "      <td>1</td>\n",
       "      <td>12</td>\n",
       "      <td>86</td>\n",
       "      <td>74</td>\n",
       "      <td>1</td>\n",
       "      <td>-11.265522</td>\n",
       "      <td>0.038777</td>\n",
       "      <td>3.740028</td>\n",
       "    </tr>\n",
       "  </tbody>\n",
       "</table>\n",
       "</div>"
      ],
      "text/plain": [
       "   season  team_1  team_2  home  score_diff  score_1  score_2  won  seed_diff  \\\n",
       "0    1985    3745    6664     0          17       81       64    1 -15.959502   \n",
       "1    1985     126    7493     1           7       77       70    1  -6.571542   \n",
       "2    1985     288    3593     1           7       63       56    1  -6.571542   \n",
       "3    1985    1846    9881     1          16       70       54    1 -15.020706   \n",
       "4    1985    2675   10298     1          12       86       74    1 -11.265522   \n",
       "\n",
       "   seed_diff_2  score_diff_pred  \n",
       "0    -0.029946         0.781489  \n",
       "1    -0.028436         2.072527  \n",
       "2     0.027796         2.223377  \n",
       "3     0.032299         2.374442  \n",
       "4     0.038777         3.740028  "
      ]
     },
     "execution_count": 18,
     "metadata": {},
     "output_type": "execute_result"
    }
   ],
   "source": [
    "# Predict\n",
    "games_season['score_diff_pred'] = model.predict([games_season['team_1'], games_season['team_2'], games_season['home']])\n",
    "games_season.head()"
   ]
  },
  {
   "cell_type": "markdown",
   "metadata": {},
   "source": [
    "Previously we have seen that the error is around 11.85 from real values. We will not use `score_diff_pred` as a substitute for `score_diff`. Instead, we will use it as a transformed feature that will help us in next steps. We will create a neural network model that will take in this feature and will make the model learn the mapping between `score_diff` and `score_diff_pred`."
   ]
  },
  {
   "cell_type": "code",
   "execution_count": 19,
   "metadata": {},
   "outputs": [
    {
     "name": "stdout",
     "output_type": "stream",
     "text": [
      "Epoch 1/10\n",
      "8780/8780 [==============================] - 6s 735us/step - loss: 2.2759 - val_loss: 2.0175e-04\n",
      "Epoch 2/10\n",
      "8780/8780 [==============================] - 7s 841us/step - loss: 0.0012 - val_loss: 0.0013\n",
      "Epoch 3/10\n",
      "8780/8780 [==============================] - 9s 972us/step - loss: 0.0012 - val_loss: 5.2644e-04\n",
      "Epoch 4/10\n",
      "8780/8780 [==============================] - 9s 1ms/step - loss: 0.0012 - val_loss: 4.7843e-04\n",
      "Epoch 5/10\n",
      "8780/8780 [==============================] - 8s 963us/step - loss: 0.0012 - val_loss: 2.0174e-04\n",
      "Epoch 6/10\n",
      "8780/8780 [==============================] - 10s 1ms/step - loss: 0.0012 - val_loss: 0.0031\n",
      "Epoch 7/10\n",
      "8780/8780 [==============================] - 9s 1ms/step - loss: 0.0012 - val_loss: 4.9281e-04\n",
      "Epoch 8/10\n",
      "8780/8780 [==============================] - 11s 1ms/step - loss: 0.0012 - val_loss: 0.0028\n",
      "Epoch 9/10\n",
      "8780/8780 [==============================] - 9s 1ms/step - loss: 0.0013 - val_loss: 8.4277e-04\n",
      "Epoch 10/10\n",
      "8780/8780 [==============================] - 8s 967us/step - loss: 0.0012 - val_loss: 6.3838e-04\n"
     ]
    },
    {
     "data": {
      "text/plain": [
       "<tensorflow.python.keras.callbacks.History at 0x1dfdd67d550>"
      ]
     },
     "execution_count": 19,
     "metadata": {},
     "output_type": "execute_result"
    }
   ],
   "source": [
    "# Create an input layer with 3 columns\n",
    "input_tensor = Input((3,))\n",
    "\n",
    "# Pass it to a Dense layer with 1 unit\n",
    "output_tensor = Dense(1)(input_tensor)\n",
    "\n",
    "# Create a model\n",
    "model = Model(input_tensor, output_tensor)\n",
    "\n",
    "# Compile the model\n",
    "model.compile(optimizer='adam', loss='mean_absolute_error')\n",
    "\n",
    "# Fit the model\n",
    "model.fit(games_season[['home', 'seed_diff', 'score_diff_pred']],\n",
    "          games_season['score_diff'],\n",
    "          epochs=10,\n",
    "          verbose=True, validation_split=0.1)\n"
   ]
  },
  {
   "cell_type": "markdown",
   "metadata": {},
   "source": [
    "Let us see the structure of this simple model"
   ]
  },
  {
   "cell_type": "code",
   "execution_count": 20,
   "metadata": {},
   "outputs": [
    {
     "name": "stdout",
     "output_type": "stream",
     "text": [
      "Model: \"functional_7\"\n",
      "_________________________________________________________________\n",
      "Layer (type)                 Output Shape              Param #   \n",
      "=================================================================\n",
      "input_3 (InputLayer)         [(None, 3)]               0         \n",
      "_________________________________________________________________\n",
      "dense_2 (Dense)              (None, 1)                 4         \n",
      "=================================================================\n",
      "Total params: 4\n",
      "Trainable params: 4\n",
      "Non-trainable params: 0\n",
      "_________________________________________________________________\n"
     ]
    },
    {
     "data": {
      "image/png": "[encoded data removed]",
      "text/plain": [
       "<Figure size 432x288 with 1 Axes>"
      ]
     },
     "metadata": {
      "needs_background": "light"
     },
     "output_type": "display_data"
    }
   ],
   "source": [
    "model_summary(model=model, model_name=\"three_input_score_diff_pred.png\")\n"
   ]
  },
  {
   "cell_type": "markdown",
   "metadata": {},
   "source": [
    "Let us evaluate the model"
   ]
  },
  {
   "cell_type": "code",
   "execution_count": 21,
   "metadata": {},
   "outputs": [
    {
     "name": "stdout",
     "output_type": "stream",
     "text": [
      "16.494800567626953\n"
     ]
    }
   ],
   "source": [
    "# Evaluate the model\n",
    "print(model.evaluate(games_tourney[['home', 'seed_diff', 'score_diff_pred']],\n",
    "          games_tourney['score_diff'], verbose=False))"
   ]
  },
  {
   "cell_type": "markdown",
   "metadata": {},
   "source": [
    "We will tweak this model a little so that instead of 3 featues, we can take 2 features and instead of 1 output, there will be 2 outputs. Now we will increase the last layer's output neuron to 2"
   ]
  },
  {
   "cell_type": "code",
   "execution_count": 22,
   "metadata": {},
   "outputs": [],
   "source": [
    "# Define the input\n",
    "input_tensor = Input(shape=(2,))\n",
    "\n",
    "# Define the output\n",
    "output_tensor = Dense(2)(input_tensor)\n",
    "\n",
    "# Create a model\n",
    "model = Model(input_tensor, output_tensor)\n",
    "\n",
    "# Compile the model\n",
    "model.compile(loss='mean_absolute_error', optimizer='adam')"
   ]
  },
  {
   "cell_type": "code",
   "execution_count": 23,
   "metadata": {},
   "outputs": [
    {
     "name": "stdout",
     "output_type": "stream",
     "text": [
      "Model: \"functional_9\"\n",
      "_________________________________________________________________\n",
      "Layer (type)                 Output Shape              Param #   \n",
      "=================================================================\n",
      "input_4 (InputLayer)         [(None, 2)]               0         \n",
      "_________________________________________________________________\n",
      "dense_3 (Dense)              (None, 2)                 6         \n",
      "=================================================================\n",
      "Total params: 6\n",
      "Trainable params: 6\n",
      "Non-trainable params: 0\n",
      "_________________________________________________________________\n"
     ]
    },
    {
     "data": {
      "image/png": "[encoded data removed]",
      "text/plain": [
       "<Figure size 432x288 with 1 Axes>"
      ]
     },
     "metadata": {
      "needs_background": "light"
     },
     "output_type": "display_data"
    }
   ],
   "source": [
    "model_summary(model=model, model_name=\"model4.png\")\n"
   ]
  },
  {
   "cell_type": "markdown",
   "metadata": {},
   "source": [
    "We will use this model to take 'seed_diff' and 'score_diff' features as inputs and generate regression values for 'score_1' and 'score_2'"
   ]
  },
  {
   "cell_type": "code",
   "execution_count": 24,
   "metadata": {},
   "outputs": [
    {
     "name": "stdout",
     "output_type": "stream",
     "text": [
      "Epoch 1/10\n",
      "20/20 [==============================] - 0s 3ms/step - loss: 70.6966\n",
      "Epoch 2/10\n",
      "20/20 [==============================] - 0s 2ms/step - loss: 70.6766\n",
      "Epoch 3/10\n",
      "20/20 [==============================] - 0s 3ms/step - loss: 70.6565\n",
      "Epoch 4/10\n",
      "20/20 [==============================] - 0s 2ms/step - loss: 70.6367\n",
      "Epoch 5/10\n",
      "20/20 [==============================] - 0s 2ms/step - loss: 70.6166\n",
      "Epoch 6/10\n",
      "20/20 [==============================] - 0s 3ms/step - loss: 70.5965\n",
      "Epoch 7/10\n",
      "20/20 [==============================] - 0s 2ms/step - loss: 70.5765\n",
      "Epoch 8/10\n",
      "20/20 [==============================] - 0s 3ms/step - loss: 70.5566\n",
      "Epoch 9/10\n",
      "20/20 [==============================] - 0s 3ms/step - loss: 70.5365\n",
      "Epoch 10/10\n",
      "20/20 [==============================] - 0s 3ms/step - loss: 70.5165\n"
     ]
    },
    {
     "data": {
      "text/plain": [
       "<tensorflow.python.keras.callbacks.History at 0x1dfddf58f40>"
      ]
     },
     "execution_count": 24,
     "metadata": {},
     "output_type": "execute_result"
    }
   ],
   "source": [
    "# Fit the model\n",
    "model.fit(games_season[['seed_diff', 'score_diff']],\n",
    "  \t\t  games_season[['score_1' , 'score_2']],\n",
    "  \t\t  verbose=True,\n",
    "  \t\t  epochs=10,\n",
    "  \t\t  batch_size=16384)"
   ]
  },
  {
   "cell_type": "code",
   "execution_count": 25,
   "metadata": {},
   "outputs": [
    {
     "name": "stdout",
     "output_type": "stream",
     "text": [
      "133/133 [==============================] - 0s 944us/step - loss: 71.9922\n"
     ]
    },
    {
     "data": {
      "text/plain": [
       "71.99224853515625"
      ]
     },
     "execution_count": 25,
     "metadata": {},
     "output_type": "execute_result"
    }
   ],
   "source": [
    "# Evaluate the model\n",
    "model.evaluate(games_tourney[['seed_diff', 'score_diff_pred']],\n",
    "  \t\t  games_tourney[['score_1' , 'score_2']])\n"
   ]
  },
  {
   "cell_type": "markdown",
   "metadata": {},
   "source": [
    "### Classification and Regression"
   ]
  },
  {
   "cell_type": "markdown",
   "metadata": {},
   "source": [
    "In the final model, we will perform both classification and regression task. This model wil be trained with `games_season` to predict whether in a match, based on the two team's `seed_diff` feature and transformed feature `score_diff_pred`, what will be the output of the game will be. The outputs shall answer:\n",
    "1. Whether they won or lose\n",
    "2. What will be the actual difference in score for winning and losing"
   ]
  },
  {
   "cell_type": "code",
   "execution_count": 26,
   "metadata": {},
   "outputs": [],
   "source": [
    "\n",
    "import numpy as np\n",
    "import pandas as pd\n",
    "from tensorflow.keras.models import Model\n",
    "from tensorflow.keras.layers import Input, Dense\n",
    "from tensorflow.keras.optimizers import Adam\n",
    "from tensorflow.keras.metrics import Precision, Recall\n",
    "from tensorflow.keras.preprocessing.image import ImageDataGenerator\n",
    "from sklearn.metrics import mean_absolute_error, accuracy_score, classification_report\n",
    "\n",
    "\n",
    "# Prepare the input and output data\n",
    "X = games_tourney[['seed_diff', 'score_diff_pred']]\n",
    "y1 = games_tourney[['score_diff']]\n",
    "y2 = games_tourney[['won']]\n",
    "\n",
    "# Augment the data\n",
    "# X_augmented, _ = augment_data(X, y1)\n",
    "X_train = games_season[['seed_diff', 'score_diff_pred']]\n",
    "y1_train =  games_season[['score_diff']]\n",
    "y2_train = games_season[['won']]\n",
    "\n",
    "# Define the model\n",
    "input_tensor = Input(shape=(2,))\n",
    "output_tensor_1 = Dense(1, activation='linear', use_bias=False, name='regression_output')(input_tensor)\n",
    "output_tensor_2 = Dense(1, activation='sigmoid', use_bias=False, name='classification_output')(output_tensor_1)\n",
    "model = Model(inputs=input_tensor, outputs=[output_tensor_1, output_tensor_2])\n",
    "\n",
    "# Compile the model\n",
    "model.compile(\n",
    "    optimizer=Adam(learning_rate=0.01),\n",
    "    loss={'regression_output': 'mean_absolute_error', 'classification_output': 'binary_crossentropy'},\n",
    "    metrics={'classification_output': [Precision(), Recall()]}\n",
    ")"
   ]
  },
  {
   "cell_type": "markdown",
   "metadata": {},
   "source": [
    "Let us visualize the model structure and parameters"
   ]
  },
  {
   "cell_type": "code",
   "execution_count": 27,
   "metadata": {},
   "outputs": [
    {
     "name": "stdout",
     "output_type": "stream",
     "text": [
      "Model: \"functional_11\"\n",
      "_________________________________________________________________\n",
      "Layer (type)                 Output Shape              Param #   \n",
      "=================================================================\n",
      "input_5 (InputLayer)         [(None, 2)]               0         \n",
      "_________________________________________________________________\n",
      "regression_output (Dense)    (None, 1)                 2         \n",
      "_________________________________________________________________\n",
      "classification_output (Dense (None, 1)                 1         \n",
      "=================================================================\n",
      "Total params: 3\n",
      "Trainable params: 3\n",
      "Non-trainable params: 0\n",
      "_________________________________________________________________\n"
     ]
    },
    {
     "data": {
      "image/png": "[encoded data removed]",
      "text/plain": [
       "<Figure size 432x288 with 1 Axes>"
      ]
     },
     "metadata": {
      "needs_background": "light"
     },
     "output_type": "display_data"
    }
   ],
   "source": [
    "model_summary(model=model, model_name=\"classification_regression_model.png\")\n"
   ]
  },
  {
   "cell_type": "markdown",
   "metadata": {},
   "source": [
    "We will now fit and evaluate the model"
   ]
  },
  {
   "cell_type": "code",
   "execution_count": 28,
   "metadata": {},
   "outputs": [
    {
     "name": "stdout",
     "output_type": "stream",
     "text": [
      "Epoch 1/10\n",
      "16/16 [==============================] - 1s 88ms/step - loss: 16.7308 - regression_output_loss: 3.9659 - classification_output_loss: 12.7649 - classification_output_precision: 0.0941 - classification_output_recall: 0.0623 - val_loss: 15.9657 - val_regression_output_loss: 3.5501 - val_classification_output_loss: 12.4156 - val_classification_output_precision: 0.0000e+00 - val_classification_output_recall: 0.0000e+00\n",
      "Epoch 2/10\n",
      "16/16 [==============================] - 0s 6ms/step - loss: 14.7940 - regression_output_loss: 5.8315 - classification_output_loss: 8.9625 - classification_output_precision: 0.1570 - classification_output_recall: 0.1116 - val_loss: 14.2208 - val_regression_output_loss: 5.0252 - val_classification_output_loss: 9.1956 - val_classification_output_precision: 0.0000e+00 - val_classification_output_recall: 0.0000e+00\n",
      "Epoch 3/10\n",
      "16/16 [==============================] - 0s 6ms/step - loss: 13.5726 - regression_output_loss: 7.2598 - classification_output_loss: 6.3128 - classification_output_precision: 0.1998 - classification_output_recall: 0.1496 - val_loss: 13.0297 - val_regression_output_loss: 6.2434 - val_classification_output_loss: 6.7864 - val_classification_output_precision: 0.0000e+00 - val_classification_output_recall: 0.0000e+00\n",
      "Epoch 4/10\n",
      "16/16 [==============================] - 0s 6ms/step - loss: 12.8367 - regression_output_loss: 8.0707 - classification_output_loss: 4.7660 - classification_output_precision: 0.1970 - classification_output_recall: 0.1469 - val_loss: 12.2869 - val_regression_output_loss: 7.0556 - val_classification_output_loss: 5.2313 - val_classification_output_precision: 0.0000e+00 - val_classification_output_recall: 0.0000e+00\n",
      "Epoch 5/10\n",
      "16/16 [==============================] - 0s 6ms/step - loss: 12.3363 - regression_output_loss: 8.2810 - classification_output_loss: 4.0552 - classification_output_precision: 0.1460 - classification_output_recall: 0.1024 - val_loss: 11.7696 - val_regression_output_loss: 7.3360 - val_classification_output_loss: 4.4336 - val_classification_output_precision: 0.0000e+00 - val_classification_output_recall: 0.0000e+00\n",
      "Epoch 6/10\n",
      "16/16 [==============================] - 0s 5ms/step - loss: 11.8294 - regression_output_loss: 7.8834 - classification_output_loss: 3.9460 - classification_output_precision: 0.0572 - classification_output_recall: 0.0364 - val_loss: 11.1981 - val_regression_output_loss: 6.9998 - val_classification_output_loss: 4.1984 - val_classification_output_precision: 0.0000e+00 - val_classification_output_recall: 0.0000e+00\n",
      "Epoch 7/10\n",
      "16/16 [==============================] - 0s 5ms/step - loss: 11.0260 - regression_output_loss: 6.8138 - classification_output_loss: 4.2123 - classification_output_precision: 0.0011 - classification_output_recall: 6.8551e-04 - val_loss: 10.2184 - val_regression_output_loss: 5.9726 - val_classification_output_loss: 4.2458 - val_classification_output_precision: 0.0000e+00 - val_classification_output_recall: 0.0000e+00\n",
      "Epoch 8/10\n",
      "16/16 [==============================] - 0s 6ms/step - loss: 9.4818 - regression_output_loss: 4.9722 - classification_output_loss: 4.5095 - classification_output_precision: 0.0000e+00 - classification_output_recall: 0.0000e+00 - val_loss: 8.3368 - val_regression_output_loss: 4.2073 - val_classification_output_loss: 4.1295 - val_classification_output_precision: 0.0000e+00 - val_classification_output_recall: 0.0000e+00\n",
      "Epoch 9/10\n",
      "16/16 [==============================] - 0s 6ms/step - loss: 6.6783 - regression_output_loss: 2.4826 - classification_output_loss: 4.1958 - classification_output_precision: 1.0878e-05 - classification_output_recall: 6.4066e-06 - val_loss: 4.9684 - val_regression_output_loss: 1.7742 - val_classification_output_loss: 3.1942 - val_classification_output_precision: 0.0000e+00 - val_classification_output_recall: 0.0000e+00\n",
      "Epoch 10/10\n",
      "16/16 [==============================] - 0s 6ms/step - loss: 3.1720 - regression_output_loss: 0.7096 - classification_output_loss: 2.4624 - classification_output_precision: 1.0789e-05 - classification_output_recall: 6.4066e-06 - val_loss: 1.5000 - val_regression_output_loss: 0.4581 - val_classification_output_loss: 1.0418 - val_classification_output_precision: 0.0000e+00 - val_classification_output_recall: 0.0000e+00\n",
      "133/133 [==============================] - 0s 3ms/step - loss: 16.9150 - regression_output_loss: 16.3002 - classification_output_loss: 0.6149 - classification_output_precision: 0.7192 - classification_output_recall: 0.6982\n",
      "Total Loss: 16.915042877197266\n",
      "Regression Loss: 16.300153732299805\n",
      "Classification Loss: 0.6148868203163147\n",
      "Precision: 0.7192214131355286\n",
      "Recall: 0.698157787322998\n"
     ]
    }
   ],
   "source": [
    "\n",
    "# Train the model\n",
    "history = model.fit(\n",
    "    X_train,\n",
    "    {'regression_output': y1_train, 'classification_output': y2_train},\n",
    "    epochs=10,\n",
    "    verbose=True,\n",
    "    batch_size=16384,\n",
    "    validation_split=0.2\n",
    ")\n",
    "\n",
    "# Evaluate the model\n",
    "loss, reg_loss, class_loss, precision, recall = model.evaluate(X, [y1, y2])\n",
    "\n",
    "# Print evaluation metrics\n",
    "print(f\"Total Loss: {loss}\")\n",
    "print(f\"Regression Loss: {reg_loss}\")\n",
    "print(f\"Classification Loss: {class_loss}\")\n",
    "print(f\"Precision: {precision}\")\n",
    "print(f\"Recall: {recall}\")\n"
   ]
  },
  {
   "cell_type": "markdown",
   "metadata": {},
   "source": [
    "Let us see classification report based on predictions"
   ]
  },
  {
   "cell_type": "code",
   "execution_count": 29,
   "metadata": {},
   "outputs": [
    {
     "name": "stdout",
     "output_type": "stream",
     "text": [
      "Mean Absolute Error (Regression): 16.30015319429478\n",
      "Accuracy (Classification): 0.7128011336797355\n",
      "\n",
      "Classification Report:\n",
      "               precision    recall  f1-score   support\n",
      "\n",
      "     Class 0       0.71      0.73      0.72      2117\n",
      "     Class 1       0.72      0.70      0.71      2117\n",
      "\n",
      "    accuracy                           0.71      4234\n",
      "   macro avg       0.71      0.71      0.71      4234\n",
      "weighted avg       0.71      0.71      0.71      4234\n",
      "\n"
     ]
    }
   ],
   "source": [
    "\n",
    "# Get predictions\n",
    "y_pred1, y_pred2 = model.predict(X)\n",
    "y_pred1 = y_pred1.flatten()\n",
    "y_pred2 = (y_pred2.flatten() > 0.5).astype(int)\n",
    "\n",
    "# Calculate metrics\n",
    "mae = mean_absolute_error(y1, y_pred1)\n",
    "accuracy = accuracy_score(y2, y_pred2)\n",
    "classification_rep = classification_report(y2, y_pred2, target_names=['Class 0', 'Class 1'])\n",
    "\n",
    "# Print regression metrics\n",
    "print(f\"Mean Absolute Error (Regression): {mae}\")\n",
    "\n",
    "# Print classification metrics\n",
    "print(f\"Accuracy (Classification): {accuracy}\")\n",
    "print(\"\\nClassification Report:\\n\", classification_rep)\n"
   ]
  },
  {
   "cell_type": "markdown",
   "metadata": {},
   "source": [
    "Finally, we will visualize the model's classification report through plotting."
   ]
  },
  {
   "cell_type": "code",
   "execution_count": 30,
   "metadata": {},
   "outputs": [
    {
     "data": {
      "image/png": "[encoded data removed]",
      "text/plain": [
       "<Figure size 864x288 with 2 Axes>"
      ]
     },
     "metadata": {
      "needs_background": "light"
     },
     "output_type": "display_data"
    }
   ],
   "source": [
    "\n",
    "# Plot the training history\n",
    "plt.figure(figsize=(12, 4))\n",
    "\n",
    "# Plot the loss for each output\n",
    "plt.subplot(1, 2, 1)\n",
    "plt.plot(history.history['loss'], label='Total Loss')\n",
    "plt.plot(history.history['regression_output_loss'], label='Regression Loss')\n",
    "plt.plot(history.history['classification_output_loss'], label='Classification Loss')\n",
    "plt.legend()\n",
    "plt.title('Training Loss')\n",
    "plt.xlabel('Epoch')\n",
    "plt.ylabel('Loss')\n",
    "\n",
    "# Plot the accuracy for classification output\n",
    "plt.subplot(1, 2, 2)\n",
    "plt.plot(history.history['classification_output_precision'], label='Classification Precision')\n",
    "plt.plot(history.history['classification_output_recall'], label='Classification Recall')\n",
    "plt.legend()\n",
    "plt.title('Training Precision and Recall')\n",
    "plt.xlabel('Epoch')\n",
    "plt.ylabel('Score')\n",
    "\n",
    "plt.tight_layout()\n",
    "plt.show()"
   ]
  }
 ],
 "metadata": {
  "kernelspec": {
   "display_name": "env_py",
   "language": "python",
   "name": "python3"
  },
  "language_info": {
   "codemirror_mode": {
    "name": "ipython",
    "version": 3
   },
   "file_extension": ".py",
   "mimetype": "text/x-python",
   "name": "python",
   "nbconvert_exporter": "python",
   "pygments_lexer": "ipython3",
   "version": "3.8.11"
  }
 },
 "nbformat": 4,
 "nbformat_minor": 2
}
