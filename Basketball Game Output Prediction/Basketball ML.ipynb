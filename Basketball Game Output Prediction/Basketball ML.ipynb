{
 "cells": [
  {
   "cell_type": "markdown",
   "metadata": {},
   "source": [
    "# Multi-modal deep learning on basketball data\n"
   ]
  },
  {
   "cell_type": "markdown",
   "metadata": {},
   "source": [
    "### Explore Datasets"
   ]
  },
  {
   "cell_type": "markdown",
   "metadata": {},
   "source": [
    "We will use a dataset of scores from US College Basketball tournament games. Dataset has the the seed difference that represents the ranking of how strong the teams are and the score difference of the game (e.g. if team_1 wins by 5 points, the score difference is 5).\n"
   ]
  },
  {
   "cell_type": "code",
   "execution_count": 1,
   "metadata": {},
   "outputs": [
    {
     "name": "stdout",
     "output_type": "stream",
     "text": [
      "(4234, 9)\n"
     ]
    },
    {
     "data": {
      "text/html": [
       "<div>\n",
       "<style scoped>\n",
       "    .dataframe tbody tr th:only-of-type {\n",
       "        vertical-align: middle;\n",
       "    }\n",
       "\n",
       "    .dataframe tbody tr th {\n",
       "        vertical-align: top;\n",
       "    }\n",
       "\n",
       "    .dataframe thead th {\n",
       "        text-align: right;\n",
       "    }\n",
       "</style>\n",
       "<table border=\"1\" class=\"dataframe\">\n",
       "  <thead>\n",
       "    <tr style=\"text-align: right;\">\n",
       "      <th></th>\n",
       "      <th>season</th>\n",
       "      <th>team_1</th>\n",
       "      <th>team_2</th>\n",
       "      <th>home</th>\n",
       "      <th>seed_diff</th>\n",
       "      <th>score_diff</th>\n",
       "      <th>score_1</th>\n",
       "      <th>score_2</th>\n",
       "      <th>won</th>\n",
       "    </tr>\n",
       "  </thead>\n",
       "  <tbody>\n",
       "    <tr>\n",
       "      <th>0</th>\n",
       "      <td>1985</td>\n",
       "      <td>288</td>\n",
       "      <td>73</td>\n",
       "      <td>0</td>\n",
       "      <td>-3</td>\n",
       "      <td>-9</td>\n",
       "      <td>41</td>\n",
       "      <td>50</td>\n",
       "      <td>0</td>\n",
       "    </tr>\n",
       "    <tr>\n",
       "      <th>1</th>\n",
       "      <td>1985</td>\n",
       "      <td>5929</td>\n",
       "      <td>73</td>\n",
       "      <td>0</td>\n",
       "      <td>4</td>\n",
       "      <td>6</td>\n",
       "      <td>61</td>\n",
       "      <td>55</td>\n",
       "      <td>1</td>\n",
       "    </tr>\n",
       "    <tr>\n",
       "      <th>2</th>\n",
       "      <td>1985</td>\n",
       "      <td>9884</td>\n",
       "      <td>73</td>\n",
       "      <td>0</td>\n",
       "      <td>5</td>\n",
       "      <td>-4</td>\n",
       "      <td>59</td>\n",
       "      <td>63</td>\n",
       "      <td>0</td>\n",
       "    </tr>\n",
       "    <tr>\n",
       "      <th>3</th>\n",
       "      <td>1985</td>\n",
       "      <td>73</td>\n",
       "      <td>288</td>\n",
       "      <td>0</td>\n",
       "      <td>3</td>\n",
       "      <td>9</td>\n",
       "      <td>50</td>\n",
       "      <td>41</td>\n",
       "      <td>1</td>\n",
       "    </tr>\n",
       "    <tr>\n",
       "      <th>4</th>\n",
       "      <td>1985</td>\n",
       "      <td>3920</td>\n",
       "      <td>410</td>\n",
       "      <td>0</td>\n",
       "      <td>1</td>\n",
       "      <td>-9</td>\n",
       "      <td>54</td>\n",
       "      <td>63</td>\n",
       "      <td>0</td>\n",
       "    </tr>\n",
       "  </tbody>\n",
       "</table>\n",
       "</div>"
      ],
      "text/plain": [
       "   season  team_1  team_2  home  seed_diff  score_diff  score_1  score_2  won\n",
       "0    1985     288      73     0         -3          -9       41       50    0\n",
       "1    1985    5929      73     0          4           6       61       55    1\n",
       "2    1985    9884      73     0          5          -4       59       63    0\n",
       "3    1985      73     288     0          3           9       50       41    1\n",
       "4    1985    3920     410     0          1          -9       54       63    0"
      ]
     },
     "execution_count": 1,
     "metadata": {},
     "output_type": "execute_result"
    }
   ],
   "source": [
    "import pandas as pd\n",
    "games_tourney = pd.read_csv(\"dataset/games_tourney.csv\")\n",
    "print(games_tourney.shape)\n",
    "games_tourney.head()"
   ]
  },
  {
   "cell_type": "code",
   "execution_count": 2,
   "metadata": {},
   "outputs": [
    {
     "name": "stdout",
     "output_type": "stream",
     "text": [
      "(312178, 8)\n"
     ]
    },
    {
     "data": {
      "text/html": [
       "<div>\n",
       "<style scoped>\n",
       "    .dataframe tbody tr th:only-of-type {\n",
       "        vertical-align: middle;\n",
       "    }\n",
       "\n",
       "    .dataframe tbody tr th {\n",
       "        vertical-align: top;\n",
       "    }\n",
       "\n",
       "    .dataframe thead th {\n",
       "        text-align: right;\n",
       "    }\n",
       "</style>\n",
       "<table border=\"1\" class=\"dataframe\">\n",
       "  <thead>\n",
       "    <tr style=\"text-align: right;\">\n",
       "      <th></th>\n",
       "      <th>season</th>\n",
       "      <th>team_1</th>\n",
       "      <th>team_2</th>\n",
       "      <th>home</th>\n",
       "      <th>score_diff</th>\n",
       "      <th>score_1</th>\n",
       "      <th>score_2</th>\n",
       "      <th>won</th>\n",
       "    </tr>\n",
       "  </thead>\n",
       "  <tbody>\n",
       "    <tr>\n",
       "      <th>0</th>\n",
       "      <td>1985</td>\n",
       "      <td>3745</td>\n",
       "      <td>6664</td>\n",
       "      <td>0</td>\n",
       "      <td>17</td>\n",
       "      <td>81</td>\n",
       "      <td>64</td>\n",
       "      <td>1</td>\n",
       "    </tr>\n",
       "    <tr>\n",
       "      <th>1</th>\n",
       "      <td>1985</td>\n",
       "      <td>126</td>\n",
       "      <td>7493</td>\n",
       "      <td>1</td>\n",
       "      <td>7</td>\n",
       "      <td>77</td>\n",
       "      <td>70</td>\n",
       "      <td>1</td>\n",
       "    </tr>\n",
       "    <tr>\n",
       "      <th>2</th>\n",
       "      <td>1985</td>\n",
       "      <td>288</td>\n",
       "      <td>3593</td>\n",
       "      <td>1</td>\n",
       "      <td>7</td>\n",
       "      <td>63</td>\n",
       "      <td>56</td>\n",
       "      <td>1</td>\n",
       "    </tr>\n",
       "    <tr>\n",
       "      <th>3</th>\n",
       "      <td>1985</td>\n",
       "      <td>1846</td>\n",
       "      <td>9881</td>\n",
       "      <td>1</td>\n",
       "      <td>16</td>\n",
       "      <td>70</td>\n",
       "      <td>54</td>\n",
       "      <td>1</td>\n",
       "    </tr>\n",
       "    <tr>\n",
       "      <th>4</th>\n",
       "      <td>1985</td>\n",
       "      <td>2675</td>\n",
       "      <td>10298</td>\n",
       "      <td>1</td>\n",
       "      <td>12</td>\n",
       "      <td>86</td>\n",
       "      <td>74</td>\n",
       "      <td>1</td>\n",
       "    </tr>\n",
       "  </tbody>\n",
       "</table>\n",
       "</div>"
      ],
      "text/plain": [
       "   season  team_1  team_2  home  score_diff  score_1  score_2  won\n",
       "0    1985    3745    6664     0          17       81       64    1\n",
       "1    1985     126    7493     1           7       77       70    1\n",
       "2    1985     288    3593     1           7       63       56    1\n",
       "3    1985    1846    9881     1          16       70       54    1\n",
       "4    1985    2675   10298     1          12       86       74    1"
      ]
     },
     "execution_count": 2,
     "metadata": {},
     "output_type": "execute_result"
    }
   ],
   "source": [
    "games_season = pd.read_csv(\"dataset/games_season.csv\")\n",
    "print(games_season.shape)\n",
    "games_season.head()"
   ]
  },
  {
   "cell_type": "markdown",
   "metadata": {},
   "source": [
    "Among these two datasets, `games_season` dataset has the most number of data. We can use this dataset to train a deep learning model and then use that model to see how the model performs in `games_tourney` being the test dataset"
   ]
  },
  {
   "cell_type": "markdown",
   "metadata": {},
   "source": [
    "### Creating a very simple model\n"
   ]
  },
  {
   "cell_type": "markdown",
   "metadata": {},
   "source": [
    "There is an issue with one dataset and that is `seed_diff` feature is not available in `games_season` whereas it is available in `games_tourney`. This is an important feature that represents team strength. In order to get this feature available for `games_season`, we can create a simple regression model using deep learning. This model will be trained with `games_tourney` dataset and then used to produce the missing feature in `games_season` dataset."
   ]
  },
  {
   "cell_type": "code",
   "execution_count": 3,
   "metadata": {},
   "outputs": [],
   "source": [
    "# Load layers\n",
    "from tensorflow.keras.layers import Input, Dense\n",
    "from tensorflow.keras.models import Model\n",
    "\n",
    "# Input layer\n",
    "input_tensor = Input(shape=(1,))\n",
    "\n",
    "# Dense layer\n",
    "output_layer = Dense(1)\n",
    "\n",
    "# Connect the dense layer to the input_tensor\n",
    "output_tensor = output_layer(input_tensor)\n",
    "\n",
    "# Build the model\n",
    "model = Model(input_tensor, output_tensor)\n",
    "\n",
    "# Compile the model\n",
    "model.compile(optimizer='adam', loss='mean_absolute_error')\n"
   ]
  },
  {
   "cell_type": "markdown",
   "metadata": {},
   "source": [
    "Let us create a helper function to visualize the model structure and then use it to see the layers in the deep learning model"
   ]
  },
  {
   "cell_type": "code",
   "execution_count": 4,
   "metadata": {},
   "outputs": [],
   "source": [
    "# Import the plotting function\n",
    "from tensorflow.keras.utils import plot_model\n",
    "import matplotlib.pyplot as plt\n",
    "\n",
    "def model_summary(model, model_name):\n",
    "    # Summarize the model\n",
    "    model.summary()\n",
    "\n",
    "    # Plot the model\n",
    "    plot_model(model, to_file=model_name)\n",
    "\n",
    "    # Display the image\n",
    "    data = plt.imread(model_name)\n",
    "    plt.imshow(data)\n",
    "    plt.show()"
   ]
  },
  {
   "cell_type": "code",
   "execution_count": 5,
   "metadata": {},
   "outputs": [
    {
     "name": "stdout",
     "output_type": "stream",
     "text": [
      "Model: \"functional_1\"\n",
      "_________________________________________________________________\n",
      "Layer (type)                 Output Shape              Param #   \n",
      "=================================================================\n",
      "input_1 (InputLayer)         [(None, 1)]               0         \n",
      "_________________________________________________________________\n",
      "dense (Dense)                (None, 1)                 2         \n",
      "=================================================================\n",
      "Total params: 2\n",
      "Trainable params: 2\n",
      "Non-trainable params: 0\n",
      "_________________________________________________________________\n"
     ]
    },
    {
     "data": {
      "image/png": "[encoded data removed]",
      "text/plain": [
       "<Figure size 432x288 with 1 Axes>"
      ]
     },
     "metadata": {
      "needs_background": "light"
     },
     "output_type": "display_data"
    }
   ],
   "source": [
    "model_summary(model=model, model_name=\"seed_diff_model.png\")\n",
    "\n"
   ]
  },
  {
   "cell_type": "markdown",
   "metadata": {},
   "source": [
    "Let us train the model and also evaluate the performance"
   ]
  },
  {
   "cell_type": "code",
   "execution_count": 6,
   "metadata": {},
   "outputs": [
    {
     "name": "stdout",
     "output_type": "stream",
     "text": [
      "Epoch 1/25\n",
      "24/24 [==============================] - 0s 6ms/step - loss: 11.9070 - val_loss: 11.0995\n",
      "Epoch 2/25\n",
      "24/24 [==============================] - 0s 1ms/step - loss: 11.6540 - val_loss: 10.8716\n",
      "Epoch 3/25\n",
      "24/24 [==============================] - 0s 1ms/step - loss: 11.4009 - val_loss: 10.6444\n",
      "Epoch 4/25\n",
      "24/24 [==============================] - 0s 2ms/step - loss: 11.1505 - val_loss: 10.4159\n",
      "Epoch 5/25\n",
      "24/24 [==============================] - 0s 1ms/step - loss: 10.8991 - val_loss: 10.1942\n",
      "Epoch 6/25\n",
      "24/24 [==============================] - 0s 1ms/step - loss: 10.6553 - val_loss: 9.9762\n",
      "Epoch 7/25\n",
      "24/24 [==============================] - 0s 1ms/step - loss: 10.4120 - val_loss: 9.7606\n",
      "Epoch 8/25\n",
      "24/24 [==============================] - 0s 1ms/step - loss: 10.1714 - val_loss: 9.5500\n",
      "Epoch 9/25\n",
      "24/24 [==============================] - 0s 1ms/step - loss: 9.9333 - val_loss: 9.3446\n",
      "Epoch 10/25\n",
      "24/24 [==============================] - 0s 2ms/step - loss: 9.7006 - val_loss: 9.1381\n",
      "Epoch 11/25\n",
      "24/24 [==============================] - 0s 1ms/step - loss: 9.4708 - val_loss: 8.9361\n",
      "Epoch 12/25\n",
      "24/24 [==============================] - 0s 1ms/step - loss: 9.2426 - val_loss: 8.7403\n",
      "Epoch 13/25\n",
      "24/24 [==============================] - 0s 1ms/step - loss: 9.0231 - val_loss: 8.5430\n",
      "Epoch 14/25\n",
      "24/24 [==============================] - 0s 1ms/step - loss: 8.8052 - val_loss: 8.3481\n",
      "Epoch 15/25\n",
      "24/24 [==============================] - 0s 2ms/step - loss: 8.5900 - val_loss: 8.1554\n",
      "Epoch 16/25\n",
      "24/24 [==============================] - 0s 1ms/step - loss: 8.3786 - val_loss: 7.9662\n",
      "Epoch 17/25\n",
      "24/24 [==============================] - 0s 2ms/step - loss: 8.1745 - val_loss: 7.7791\n",
      "Epoch 18/25\n",
      "24/24 [==============================] - 0s 1ms/step - loss: 7.9698 - val_loss: 7.5997\n",
      "Epoch 19/25\n",
      "24/24 [==============================] - 0s 1ms/step - loss: 7.7715 - val_loss: 7.4199\n",
      "Epoch 20/25\n",
      "24/24 [==============================] - 0s 1ms/step - loss: 7.5754 - val_loss: 7.2421\n",
      "Epoch 21/25\n",
      "24/24 [==============================] - 0s 1ms/step - loss: 7.3830 - val_loss: 7.0698\n",
      "Epoch 22/25\n",
      "24/24 [==============================] - 0s 1ms/step - loss: 7.1999 - val_loss: 6.8968\n",
      "Epoch 23/25\n",
      "24/24 [==============================] - 0s 1ms/step - loss: 7.0195 - val_loss: 6.7317\n",
      "Epoch 24/25\n",
      "24/24 [==============================] - 0s 1ms/step - loss: 6.8494 - val_loss: 6.5724\n",
      "Epoch 25/25\n",
      "24/24 [==============================] - 0s 1ms/step - loss: 6.6884 - val_loss: 6.4261\n",
      "27/27 [==============================] - 0s 591us/step - loss: 6.3368\n",
      "6.336828231811523\n"
     ]
    }
   ],
   "source": [
    "# Now fit the model\n",
    "y = games_tourney['seed_diff']\n",
    "X = games_tourney['score_diff']\n",
    "\n",
    "from sklearn.model_selection import train_test_split\n",
    "X_train, X_test, y_train, y_test = train_test_split(X, y , random_state=42, test_size=0.2, shuffle=True)\n",
    "model.fit(X_train, y_train, epochs=25, batch_size=128, validation_split=0.1)\n",
    "\n",
    "# Evaluate the model on the test data\n",
    "print(model.evaluate(X_test, y_test))\n",
    "\n"
   ]
  },
  {
   "cell_type": "markdown",
   "metadata": {},
   "source": [
    "Now we will create the desired `seed_diff` feature for the `games_season` dataset."
   ]
  },
  {
   "cell_type": "code",
   "execution_count": 7,
   "metadata": {},
   "outputs": [
    {
     "data": {
      "text/html": [
       "<div>\n",
       "<style scoped>\n",
       "    .dataframe tbody tr th:only-of-type {\n",
       "        vertical-align: middle;\n",
       "    }\n",
       "\n",
       "    .dataframe tbody tr th {\n",
       "        vertical-align: top;\n",
       "    }\n",
       "\n",
       "    .dataframe thead th {\n",
       "        text-align: right;\n",
       "    }\n",
       "</style>\n",
       "<table border=\"1\" class=\"dataframe\">\n",
       "  <thead>\n",
       "    <tr style=\"text-align: right;\">\n",
       "      <th></th>\n",
       "      <th>season</th>\n",
       "      <th>team_1</th>\n",
       "      <th>team_2</th>\n",
       "      <th>home</th>\n",
       "      <th>score_diff</th>\n",
       "      <th>score_1</th>\n",
       "      <th>score_2</th>\n",
       "      <th>won</th>\n",
       "      <th>seed_diff</th>\n",
       "    </tr>\n",
       "  </thead>\n",
       "  <tbody>\n",
       "    <tr>\n",
       "      <th>0</th>\n",
       "      <td>1985</td>\n",
       "      <td>3745</td>\n",
       "      <td>6664</td>\n",
       "      <td>0</td>\n",
       "      <td>17</td>\n",
       "      <td>81</td>\n",
       "      <td>64</td>\n",
       "      <td>1</td>\n",
       "      <td>-0.699280</td>\n",
       "    </tr>\n",
       "    <tr>\n",
       "      <th>1</th>\n",
       "      <td>1985</td>\n",
       "      <td>126</td>\n",
       "      <td>7493</td>\n",
       "      <td>1</td>\n",
       "      <td>7</td>\n",
       "      <td>77</td>\n",
       "      <td>70</td>\n",
       "      <td>1</td>\n",
       "      <td>-0.273044</td>\n",
       "    </tr>\n",
       "    <tr>\n",
       "      <th>2</th>\n",
       "      <td>1985</td>\n",
       "      <td>288</td>\n",
       "      <td>3593</td>\n",
       "      <td>1</td>\n",
       "      <td>7</td>\n",
       "      <td>63</td>\n",
       "      <td>56</td>\n",
       "      <td>1</td>\n",
       "      <td>-0.273044</td>\n",
       "    </tr>\n",
       "    <tr>\n",
       "      <th>3</th>\n",
       "      <td>1985</td>\n",
       "      <td>1846</td>\n",
       "      <td>9881</td>\n",
       "      <td>1</td>\n",
       "      <td>16</td>\n",
       "      <td>70</td>\n",
       "      <td>54</td>\n",
       "      <td>1</td>\n",
       "      <td>-0.656656</td>\n",
       "    </tr>\n",
       "    <tr>\n",
       "      <th>4</th>\n",
       "      <td>1985</td>\n",
       "      <td>2675</td>\n",
       "      <td>10298</td>\n",
       "      <td>1</td>\n",
       "      <td>12</td>\n",
       "      <td>86</td>\n",
       "      <td>74</td>\n",
       "      <td>1</td>\n",
       "      <td>-0.486162</td>\n",
       "    </tr>\n",
       "  </tbody>\n",
       "</table>\n",
       "</div>"
      ],
      "text/plain": [
       "   season  team_1  team_2  home  score_diff  score_1  score_2  won  seed_diff\n",
       "0    1985    3745    6664     0          17       81       64    1  -0.699280\n",
       "1    1985     126    7493     1           7       77       70    1  -0.273044\n",
       "2    1985     288    3593     1           7       63       56    1  -0.273044\n",
       "3    1985    1846    9881     1          16       70       54    1  -0.656656\n",
       "4    1985    2675   10298     1          12       86       74    1  -0.486162"
      ]
     },
     "execution_count": 7,
     "metadata": {},
     "output_type": "execute_result"
    }
   ],
   "source": [
    "games_season[\"seed_diff\"] = model.predict(games_season['score_diff'])\n",
    "games_season.head()"
   ]
  },
  {
   "cell_type": "code",
   "execution_count": null,
   "metadata": {},
   "outputs": [],
   "source": []
  }
 ],
 "metadata": {
  "kernelspec": {
   "display_name": "env_py",
   "language": "python",
   "name": "python3"
  },
  "language_info": {
   "codemirror_mode": {
    "name": "ipython",
    "version": 3
   },
   "file_extension": ".py",
   "mimetype": "text/x-python",
   "name": "python",
   "nbconvert_exporter": "python",
   "pygments_lexer": "ipython3",
   "version": "3.8.11"
  }
 },
 "nbformat": 4,
 "nbformat_minor": 2
}
