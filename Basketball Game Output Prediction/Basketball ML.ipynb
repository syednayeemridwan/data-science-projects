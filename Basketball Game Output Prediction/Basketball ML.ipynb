{
 "cells": [
  {
   "cell_type": "markdown",
   "metadata": {},
   "source": [
    "# Multi-modal deep learning on basketball data\n"
   ]
  },
  {
   "cell_type": "markdown",
   "metadata": {},
   "source": [
    "### Explore Datasets"
   ]
  },
  {
   "cell_type": "markdown",
   "metadata": {},
   "source": [
    "We will use a dataset of scores from US College Basketball tournament games. Dataset has the the seed difference that represents the ranking of how strong the teams are and the score difference of the game (e.g. if team_1 wins by 5 points, the score difference is 5).\n"
   ]
  },
  {
   "cell_type": "code",
   "execution_count": 1,
   "metadata": {},
   "outputs": [
    {
     "name": "stdout",
     "output_type": "stream",
     "text": [
      "(4234, 9)\n"
     ]
    },
    {
     "data": {
      "text/html": [
       "<div>\n",
       "<style scoped>\n",
       "    .dataframe tbody tr th:only-of-type {\n",
       "        vertical-align: middle;\n",
       "    }\n",
       "\n",
       "    .dataframe tbody tr th {\n",
       "        vertical-align: top;\n",
       "    }\n",
       "\n",
       "    .dataframe thead th {\n",
       "        text-align: right;\n",
       "    }\n",
       "</style>\n",
       "<table border=\"1\" class=\"dataframe\">\n",
       "  <thead>\n",
       "    <tr style=\"text-align: right;\">\n",
       "      <th></th>\n",
       "      <th>season</th>\n",
       "      <th>team_1</th>\n",
       "      <th>team_2</th>\n",
       "      <th>home</th>\n",
       "      <th>seed_diff</th>\n",
       "      <th>score_diff</th>\n",
       "      <th>score_1</th>\n",
       "      <th>score_2</th>\n",
       "      <th>won</th>\n",
       "    </tr>\n",
       "  </thead>\n",
       "  <tbody>\n",
       "    <tr>\n",
       "      <th>0</th>\n",
       "      <td>1985</td>\n",
       "      <td>288</td>\n",
       "      <td>73</td>\n",
       "      <td>0</td>\n",
       "      <td>-3</td>\n",
       "      <td>-9</td>\n",
       "      <td>41</td>\n",
       "      <td>50</td>\n",
       "      <td>0</td>\n",
       "    </tr>\n",
       "    <tr>\n",
       "      <th>1</th>\n",
       "      <td>1985</td>\n",
       "      <td>5929</td>\n",
       "      <td>73</td>\n",
       "      <td>0</td>\n",
       "      <td>4</td>\n",
       "      <td>6</td>\n",
       "      <td>61</td>\n",
       "      <td>55</td>\n",
       "      <td>1</td>\n",
       "    </tr>\n",
       "    <tr>\n",
       "      <th>2</th>\n",
       "      <td>1985</td>\n",
       "      <td>9884</td>\n",
       "      <td>73</td>\n",
       "      <td>0</td>\n",
       "      <td>5</td>\n",
       "      <td>-4</td>\n",
       "      <td>59</td>\n",
       "      <td>63</td>\n",
       "      <td>0</td>\n",
       "    </tr>\n",
       "    <tr>\n",
       "      <th>3</th>\n",
       "      <td>1985</td>\n",
       "      <td>73</td>\n",
       "      <td>288</td>\n",
       "      <td>0</td>\n",
       "      <td>3</td>\n",
       "      <td>9</td>\n",
       "      <td>50</td>\n",
       "      <td>41</td>\n",
       "      <td>1</td>\n",
       "    </tr>\n",
       "    <tr>\n",
       "      <th>4</th>\n",
       "      <td>1985</td>\n",
       "      <td>3920</td>\n",
       "      <td>410</td>\n",
       "      <td>0</td>\n",
       "      <td>1</td>\n",
       "      <td>-9</td>\n",
       "      <td>54</td>\n",
       "      <td>63</td>\n",
       "      <td>0</td>\n",
       "    </tr>\n",
       "  </tbody>\n",
       "</table>\n",
       "</div>"
      ],
      "text/plain": [
       "   season  team_1  team_2  home  seed_diff  score_diff  score_1  score_2  won\n",
       "0    1985     288      73     0         -3          -9       41       50    0\n",
       "1    1985    5929      73     0          4           6       61       55    1\n",
       "2    1985    9884      73     0          5          -4       59       63    0\n",
       "3    1985      73     288     0          3           9       50       41    1\n",
       "4    1985    3920     410     0          1          -9       54       63    0"
      ]
     },
     "execution_count": 1,
     "metadata": {},
     "output_type": "execute_result"
    }
   ],
   "source": [
    "import pandas as pd\n",
    "games_tourney = pd.read_csv(\"dataset/games_tourney.csv\")\n",
    "print(games_tourney.shape)\n",
    "games_tourney.head()"
   ]
  },
  {
   "cell_type": "code",
   "execution_count": 2,
   "metadata": {},
   "outputs": [
    {
     "name": "stdout",
     "output_type": "stream",
     "text": [
      "(312178, 8)\n"
     ]
    },
    {
     "data": {
      "text/html": [
       "<div>\n",
       "<style scoped>\n",
       "    .dataframe tbody tr th:only-of-type {\n",
       "        vertical-align: middle;\n",
       "    }\n",
       "\n",
       "    .dataframe tbody tr th {\n",
       "        vertical-align: top;\n",
       "    }\n",
       "\n",
       "    .dataframe thead th {\n",
       "        text-align: right;\n",
       "    }\n",
       "</style>\n",
       "<table border=\"1\" class=\"dataframe\">\n",
       "  <thead>\n",
       "    <tr style=\"text-align: right;\">\n",
       "      <th></th>\n",
       "      <th>season</th>\n",
       "      <th>team_1</th>\n",
       "      <th>team_2</th>\n",
       "      <th>home</th>\n",
       "      <th>score_diff</th>\n",
       "      <th>score_1</th>\n",
       "      <th>score_2</th>\n",
       "      <th>won</th>\n",
       "    </tr>\n",
       "  </thead>\n",
       "  <tbody>\n",
       "    <tr>\n",
       "      <th>0</th>\n",
       "      <td>1985</td>\n",
       "      <td>3745</td>\n",
       "      <td>6664</td>\n",
       "      <td>0</td>\n",
       "      <td>17</td>\n",
       "      <td>81</td>\n",
       "      <td>64</td>\n",
       "      <td>1</td>\n",
       "    </tr>\n",
       "    <tr>\n",
       "      <th>1</th>\n",
       "      <td>1985</td>\n",
       "      <td>126</td>\n",
       "      <td>7493</td>\n",
       "      <td>1</td>\n",
       "      <td>7</td>\n",
       "      <td>77</td>\n",
       "      <td>70</td>\n",
       "      <td>1</td>\n",
       "    </tr>\n",
       "    <tr>\n",
       "      <th>2</th>\n",
       "      <td>1985</td>\n",
       "      <td>288</td>\n",
       "      <td>3593</td>\n",
       "      <td>1</td>\n",
       "      <td>7</td>\n",
       "      <td>63</td>\n",
       "      <td>56</td>\n",
       "      <td>1</td>\n",
       "    </tr>\n",
       "    <tr>\n",
       "      <th>3</th>\n",
       "      <td>1985</td>\n",
       "      <td>1846</td>\n",
       "      <td>9881</td>\n",
       "      <td>1</td>\n",
       "      <td>16</td>\n",
       "      <td>70</td>\n",
       "      <td>54</td>\n",
       "      <td>1</td>\n",
       "    </tr>\n",
       "    <tr>\n",
       "      <th>4</th>\n",
       "      <td>1985</td>\n",
       "      <td>2675</td>\n",
       "      <td>10298</td>\n",
       "      <td>1</td>\n",
       "      <td>12</td>\n",
       "      <td>86</td>\n",
       "      <td>74</td>\n",
       "      <td>1</td>\n",
       "    </tr>\n",
       "  </tbody>\n",
       "</table>\n",
       "</div>"
      ],
      "text/plain": [
       "   season  team_1  team_2  home  score_diff  score_1  score_2  won\n",
       "0    1985    3745    6664     0          17       81       64    1\n",
       "1    1985     126    7493     1           7       77       70    1\n",
       "2    1985     288    3593     1           7       63       56    1\n",
       "3    1985    1846    9881     1          16       70       54    1\n",
       "4    1985    2675   10298     1          12       86       74    1"
      ]
     },
     "execution_count": 2,
     "metadata": {},
     "output_type": "execute_result"
    }
   ],
   "source": [
    "games_season = pd.read_csv(\"dataset/games_season.csv\")\n",
    "print(games_season.shape)\n",
    "games_season.head()"
   ]
  },
  {
   "cell_type": "markdown",
   "metadata": {},
   "source": [
    "Among these two datasets, `games_season` dataset has the most number of data. We can use this dataset to train a deep learning model and then use that model to see how the model performs in `games_tourney` being the test dataset"
   ]
  },
  {
   "cell_type": "markdown",
   "metadata": {},
   "source": [
    "### Creating a very simple model\n"
   ]
  },
  {
   "cell_type": "markdown",
   "metadata": {},
   "source": [
    "There is an issue with one dataset and that is `seed_diff` feature is not available in `games_season` whereas it is available in `games_tourney`. This is an important feature that represents team strength. In order to get this feature available for `games_season`, we can create a simple regression model using deep learning. This model will be trained with `games_tourney` dataset and then used to produce the missing feature in `games_season` dataset."
   ]
  },
  {
   "cell_type": "code",
   "execution_count": 3,
   "metadata": {},
   "outputs": [],
   "source": [
    "# Load layers\n",
    "from tensorflow.keras.layers import Input, Dense\n",
    "from tensorflow.keras.models import Model\n",
    "\n",
    "# Input layer\n",
    "input_tensor = Input(shape=(1,))\n",
    "\n",
    "# Dense layer\n",
    "output_layer = Dense(1)\n",
    "\n",
    "# Connect the dense layer to the input_tensor\n",
    "output_tensor = output_layer(input_tensor)\n",
    "\n",
    "# Build the model\n",
    "model = Model(input_tensor, output_tensor)\n",
    "\n",
    "# Compile the model\n",
    "model.compile(optimizer='adam', loss='mean_absolute_error')\n"
   ]
  },
  {
   "cell_type": "markdown",
   "metadata": {},
   "source": [
    "Let us create a helper function to visualize the model structure and then use it to see the layers in the deep learning model"
   ]
  },
  {
   "cell_type": "code",
   "execution_count": 4,
   "metadata": {},
   "outputs": [],
   "source": [
    "# Import the plotting function\n",
    "from tensorflow.keras.utils import plot_model\n",
    "import matplotlib.pyplot as plt\n",
    "\n",
    "def model_summary(model, model_name):\n",
    "    # Summarize the model\n",
    "    model.summary()\n",
    "\n",
    "    # Plot the model\n",
    "    plot_model(model, to_file=model_name)\n",
    "\n",
    "    # Display the image\n",
    "    data = plt.imread(model_name)\n",
    "    plt.imshow(data)\n",
    "    plt.show()"
   ]
  },
  {
   "cell_type": "code",
   "execution_count": 5,
   "metadata": {},
   "outputs": [
    {
     "name": "stdout",
     "output_type": "stream",
     "text": [
      "Model: \"functional_1\"\n",
      "_________________________________________________________________\n",
      "Layer (type)                 Output Shape              Param #   \n",
      "=================================================================\n",
      "input_1 (InputLayer)         [(None, 1)]               0         \n",
      "_________________________________________________________________\n",
      "dense (Dense)                (None, 1)                 2         \n",
      "=================================================================\n",
      "Total params: 2\n",
      "Trainable params: 2\n",
      "Non-trainable params: 0\n",
      "_________________________________________________________________\n"
     ]
    },
    {
     "data": {
      "image/png": "[encoded data removed]",
      "text/plain": [
       "<Figure size 432x288 with 1 Axes>"
      ]
     },
     "metadata": {
      "needs_background": "light"
     },
     "output_type": "display_data"
    }
   ],
   "source": [
    "model_summary(model=model, model_name=\"seed_diff_model.png\")\n",
    "\n"
   ]
  },
  {
   "cell_type": "markdown",
   "metadata": {},
   "source": [
    "Let us train the model and also evaluate the performance"
   ]
  },
  {
   "cell_type": "code",
   "execution_count": 6,
   "metadata": {},
   "outputs": [
    {
     "name": "stdout",
     "output_type": "stream",
     "text": [
      "Epoch 1/25\n",
      "24/24 [==============================] - 0s 5ms/step - loss: 20.2933 - val_loss: 18.7474\n",
      "Epoch 2/25\n",
      "24/24 [==============================] - 0s 1ms/step - loss: 20.0213 - val_loss: 18.4983\n",
      "Epoch 3/25\n",
      "24/24 [==============================] - 0s 1ms/step - loss: 19.7498 - val_loss: 18.2509\n",
      "Epoch 4/25\n",
      "24/24 [==============================] - 0s 1ms/step - loss: 19.4783 - val_loss: 18.0035\n",
      "Epoch 5/25\n",
      "24/24 [==============================] - 0s 1ms/step - loss: 19.2094 - val_loss: 17.7532\n",
      "Epoch 6/25\n",
      "24/24 [==============================] - 0s 1ms/step - loss: 18.9370 - val_loss: 17.5091\n",
      "Epoch 7/25\n",
      "24/24 [==============================] - 0s 1ms/step - loss: 18.6679 - val_loss: 17.2625\n",
      "Epoch 8/25\n",
      "24/24 [==============================] - 0s 1ms/step - loss: 18.3983 - val_loss: 17.0145\n",
      "Epoch 9/25\n",
      "24/24 [==============================] - 0s 1ms/step - loss: 18.1280 - val_loss: 16.7665\n",
      "Epoch 10/25\n",
      "24/24 [==============================] - 0s 1ms/step - loss: 17.8585 - val_loss: 16.5185\n",
      "Epoch 11/25\n",
      "24/24 [==============================] - 0s 997us/step - loss: 17.5887 - val_loss: 16.2709\n",
      "Epoch 12/25\n",
      "24/24 [==============================] - 0s 1ms/step - loss: 17.3180 - val_loss: 16.0259\n",
      "Epoch 13/25\n",
      "24/24 [==============================] - 0s 1ms/step - loss: 17.0498 - val_loss: 15.7777\n",
      "Epoch 14/25\n",
      "24/24 [==============================] - 0s 1ms/step - loss: 16.7794 - val_loss: 15.5308\n",
      "Epoch 15/25\n",
      "24/24 [==============================] - 0s 2ms/step - loss: 16.5098 - val_loss: 15.2833\n",
      "Epoch 16/25\n",
      "24/24 [==============================] - 0s 2ms/step - loss: 16.2423 - val_loss: 15.0407\n",
      "Epoch 17/25\n",
      "24/24 [==============================] - 0s 1ms/step - loss: 15.9773 - val_loss: 14.8003\n",
      "Epoch 18/25\n",
      "24/24 [==============================] - 0s 1ms/step - loss: 15.7138 - val_loss: 14.5580\n",
      "Epoch 19/25\n",
      "24/24 [==============================] - 0s 1ms/step - loss: 15.4495 - val_loss: 14.3158\n",
      "Epoch 20/25\n",
      "24/24 [==============================] - 0s 1ms/step - loss: 15.1849 - val_loss: 14.0748\n",
      "Epoch 21/25\n",
      "24/24 [==============================] - 0s 1ms/step - loss: 14.9209 - val_loss: 13.8353\n",
      "Epoch 22/25\n",
      "24/24 [==============================] - 0s 1ms/step - loss: 14.6574 - val_loss: 13.5968\n",
      "Epoch 23/25\n",
      "24/24 [==============================] - ETA: 0s - loss: 15.00 - 0s 1ms/step - loss: 14.3959 - val_loss: 13.3583\n",
      "Epoch 24/25\n",
      "24/24 [==============================] - 0s 1ms/step - loss: 14.1346 - val_loss: 13.1221\n",
      "Epoch 25/25\n",
      "24/24 [==============================] - 0s 997us/step - loss: 13.8763 - val_loss: 12.8859\n",
      " 1/27 [>.............................] - ETA: 0s - loss: 15.5542WARNING:tensorflow:Callbacks method `on_test_batch_begin` is slow compared to the batch time (batch time: 0.0000s vs `on_test_batch_begin` time: 0.0001s). Check your callbacks.\n",
      "27/27 [==============================] - 0s 574us/step - loss: 13.1921\n",
      "13.19209098815918\n"
     ]
    }
   ],
   "source": [
    "# Now fit the model\n",
    "y = games_tourney['seed_diff']\n",
    "X = games_tourney['score_diff']\n",
    "\n",
    "from sklearn.model_selection import train_test_split\n",
    "X_train, X_test, y_train, y_test = train_test_split(X, y , random_state=42, test_size=0.2, shuffle=True)\n",
    "model.fit(X_train, y_train, epochs=25, batch_size=128, validation_split=0.1)\n",
    "\n",
    "# Evaluate the model on the test data\n",
    "print(model.evaluate(X_test, y_test))\n",
    "\n"
   ]
  },
  {
   "cell_type": "markdown",
   "metadata": {},
   "source": [
    "Now we will create the desired `seed_diff` feature for the `games_season` dataset."
   ]
  },
  {
   "cell_type": "code",
   "execution_count": 7,
   "metadata": {},
   "outputs": [
    {
     "data": {
      "text/html": [
       "<div>\n",
       "<style scoped>\n",
       "    .dataframe tbody tr th:only-of-type {\n",
       "        vertical-align: middle;\n",
       "    }\n",
       "\n",
       "    .dataframe tbody tr th {\n",
       "        vertical-align: top;\n",
       "    }\n",
       "\n",
       "    .dataframe thead th {\n",
       "        text-align: right;\n",
       "    }\n",
       "</style>\n",
       "<table border=\"1\" class=\"dataframe\">\n",
       "  <thead>\n",
       "    <tr style=\"text-align: right;\">\n",
       "      <th></th>\n",
       "      <th>season</th>\n",
       "      <th>team_1</th>\n",
       "      <th>team_2</th>\n",
       "      <th>home</th>\n",
       "      <th>score_diff</th>\n",
       "      <th>score_1</th>\n",
       "      <th>score_2</th>\n",
       "      <th>won</th>\n",
       "      <th>seed_diff</th>\n",
       "    </tr>\n",
       "  </thead>\n",
       "  <tbody>\n",
       "    <tr>\n",
       "      <th>0</th>\n",
       "      <td>1985</td>\n",
       "      <td>3745</td>\n",
       "      <td>6664</td>\n",
       "      <td>0</td>\n",
       "      <td>17</td>\n",
       "      <td>81</td>\n",
       "      <td>64</td>\n",
       "      <td>1</td>\n",
       "      <td>-12.986662</td>\n",
       "    </tr>\n",
       "    <tr>\n",
       "      <th>1</th>\n",
       "      <td>1985</td>\n",
       "      <td>126</td>\n",
       "      <td>7493</td>\n",
       "      <td>1</td>\n",
       "      <td>7</td>\n",
       "      <td>77</td>\n",
       "      <td>70</td>\n",
       "      <td>1</td>\n",
       "      <td>-5.347477</td>\n",
       "    </tr>\n",
       "    <tr>\n",
       "      <th>2</th>\n",
       "      <td>1985</td>\n",
       "      <td>288</td>\n",
       "      <td>3593</td>\n",
       "      <td>1</td>\n",
       "      <td>7</td>\n",
       "      <td>63</td>\n",
       "      <td>56</td>\n",
       "      <td>1</td>\n",
       "      <td>-5.347477</td>\n",
       "    </tr>\n",
       "    <tr>\n",
       "      <th>3</th>\n",
       "      <td>1985</td>\n",
       "      <td>1846</td>\n",
       "      <td>9881</td>\n",
       "      <td>1</td>\n",
       "      <td>16</td>\n",
       "      <td>70</td>\n",
       "      <td>54</td>\n",
       "      <td>1</td>\n",
       "      <td>-12.222743</td>\n",
       "    </tr>\n",
       "    <tr>\n",
       "      <th>4</th>\n",
       "      <td>1985</td>\n",
       "      <td>2675</td>\n",
       "      <td>10298</td>\n",
       "      <td>1</td>\n",
       "      <td>12</td>\n",
       "      <td>86</td>\n",
       "      <td>74</td>\n",
       "      <td>1</td>\n",
       "      <td>-9.167069</td>\n",
       "    </tr>\n",
       "  </tbody>\n",
       "</table>\n",
       "</div>"
      ],
      "text/plain": [
       "   season  team_1  team_2  home  score_diff  score_1  score_2  won  seed_diff\n",
       "0    1985    3745    6664     0          17       81       64    1 -12.986662\n",
       "1    1985     126    7493     1           7       77       70    1  -5.347477\n",
       "2    1985     288    3593     1           7       63       56    1  -5.347477\n",
       "3    1985    1846    9881     1          16       70       54    1 -12.222743\n",
       "4    1985    2675   10298     1          12       86       74    1  -9.167069"
      ]
     },
     "execution_count": 7,
     "metadata": {},
     "output_type": "execute_result"
    }
   ],
   "source": [
    "games_season[\"seed_diff\"] = model.predict(games_season['score_diff'])\n",
    "games_season.head()"
   ]
  },
  {
   "cell_type": "markdown",
   "metadata": {},
   "source": [
    "### Can we create a better `seed_diff` feature?"
   ]
  },
  {
   "cell_type": "markdown",
   "metadata": {},
   "source": [
    "We can try creating `seed_diff` feature another way by using the two team ids and their performance. Our neural network will take two inputs as team ids and create one regression value `seed_diff` as output. We will now take into account each team's strength. Shared layers allow a model to use the same weight matrix for multiple steps. We will build a \"team strength\" layer that represents each team by a single number and use this number for both teams in the model. The model will learn a number for each team that works well both when the team is `team_1` and when the team is `team_2` in the input data. "
   ]
  },
  {
   "cell_type": "code",
   "execution_count": 8,
   "metadata": {},
   "outputs": [],
   "source": [
    "# Imports\n",
    "from tensorflow.keras.layers import Embedding, Flatten\n",
    "from numpy import unique\n",
    "\n",
    "# Count the unique number of teams\n",
    "n_teams = unique(games_season[\"team_1\"]).shape[0]\n",
    "\n",
    "# Create an embedding layer\n",
    "# team_lookup = Embedding(input_dim=n_teams, output_dim=1, input_length=1, name='Team-Strength')\n",
    "\n",
    "\n",
    "team_lookup = Embedding(input_dim=n_teams, input_length=1, output_dim=1)\n",
    "\n",
    "# Create an input layer for the team ID\n",
    "teamid_in = Input(shape=(1,))\n",
    "\n",
    "# Lookup the input in the team strength embedding layer\n",
    "strength_lookup = team_lookup(teamid_in)\n",
    "\n",
    "# Flatten the output\n",
    "strength_lookup_flat = Flatten()(strength_lookup)\n",
    "\n",
    "# Combine the operations into a single, re-usable model\n",
    "team_strength_model = Model(teamid_in, strength_lookup_flat, name='Team-Strength-Model')"
   ]
  },
  {
   "cell_type": "markdown",
   "metadata": {},
   "source": [
    "Now we will use `team_strength_model` as shared layer and use it to lookup both inputs in the same model. There will be two inputs coming into this shared layer. After completion of processing of the shared layer, the final output will be computed from the subtraction result of two processed inputs in shared layer."
   ]
  },
  {
   "cell_type": "code",
   "execution_count": 9,
   "metadata": {},
   "outputs": [],
   "source": [
    "# Imports\n",
    "from tensorflow.keras.layers import Subtract, Multiply\n",
    "from tensorflow.keras.models import Model\n",
    "\n",
    "\n",
    "# Input layer for team 1\n",
    "team_in_1 = Input(shape=(1,), name=\"Team-1-In\")\n",
    "\n",
    "# Separate input layer for team 2\n",
    "team_in_2 = Input(shape=(1,), name=\"Team-2-In\")\n",
    "\n",
    "# Lookup team 1 in the team strength model\n",
    "team_1_strength = team_strength_model(team_in_1)\n",
    "\n",
    "# Lookup team 2 in the team strength model\n",
    "team_2_strength =  team_strength_model(team_in_2)\n",
    "\n",
    "\n",
    "# Subtraction layer from previous exercise\n",
    "score_diff = Subtract()([team_1_strength, team_2_strength])\n",
    "\n",
    "# Create the model\n",
    "model = Model([team_in_1, team_in_2], score_diff)\n",
    "\n",
    "# Compile the model\n",
    "model.compile(loss='mean_absolute_error', optimizer='adam')"
   ]
  },
  {
   "cell_type": "markdown",
   "metadata": {},
   "source": [
    "Let us visualize the model structure"
   ]
  },
  {
   "cell_type": "code",
   "execution_count": 10,
   "metadata": {},
   "outputs": [
    {
     "name": "stdout",
     "output_type": "stream",
     "text": [
      "Model: \"functional_3\"\n",
      "__________________________________________________________________________________________________\n",
      "Layer (type)                    Output Shape         Param #     Connected to                     \n",
      "==================================================================================================\n",
      "Team-1-In (InputLayer)          [(None, 1)]          0                                            \n",
      "__________________________________________________________________________________________________\n",
      "Team-2-In (InputLayer)          [(None, 1)]          0                                            \n",
      "__________________________________________________________________________________________________\n",
      "Team-Strength-Model (Functional (None, 1)            10888       Team-1-In[0][0]                  \n",
      "                                                                 Team-2-In[0][0]                  \n",
      "__________________________________________________________________________________________________\n",
      "subtract (Subtract)             (None, 1)            0           Team-Strength-Model[0][0]        \n",
      "                                                                 Team-Strength-Model[1][0]        \n",
      "==================================================================================================\n",
      "Total params: 10,888\n",
      "Trainable params: 10,888\n",
      "Non-trainable params: 0\n",
      "__________________________________________________________________________________________________\n"
     ]
    },
    {
     "data": {
      "image/png": "[encoded data removed]",
      "text/plain": [
       "<Figure size 432x288 with 1 Axes>"
      ]
     },
     "metadata": {
      "needs_background": "light"
     },
     "output_type": "display_data"
    }
   ],
   "source": [
    "model_summary(model=model, model_name=\"two_input_seed_diff.png\")\n"
   ]
  },
  {
   "cell_type": "markdown",
   "metadata": {},
   "source": [
    "We will now use games tournament dataset for training and then use games season dataset for evaluating and comparing with previous model loss"
   ]
  },
  {
   "cell_type": "code",
   "execution_count": 11,
   "metadata": {},
   "outputs": [
    {
     "name": "stdout",
     "output_type": "stream",
     "text": [
      "Epoch 1/10\n",
      "2/2 [==============================] - 0s 53ms/step - loss: 6.2428 - val_loss: 6.0642\n",
      "Epoch 2/10\n",
      "2/2 [==============================] - 0s 7ms/step - loss: 6.2402 - val_loss: 6.0641\n",
      "Epoch 3/10\n",
      "2/2 [==============================] - 0s 7ms/step - loss: 6.2377 - val_loss: 6.0640\n",
      "Epoch 4/10\n",
      "2/2 [==============================] - 0s 7ms/step - loss: 6.2352 - val_loss: 6.0639\n",
      "Epoch 5/10\n",
      "2/2 [==============================] - 0s 7ms/step - loss: 6.2327 - val_loss: 6.0638\n",
      "Epoch 6/10\n",
      "2/2 [==============================] - 0s 7ms/step - loss: 6.2303 - val_loss: 6.0636\n",
      "Epoch 7/10\n",
      "2/2 [==============================] - 0s 7ms/step - loss: 6.2278 - val_loss: 6.0635\n",
      "Epoch 8/10\n",
      "2/2 [==============================] - 0s 7ms/step - loss: 6.2254 - val_loss: 6.0634\n",
      "Epoch 9/10\n",
      "2/2 [==============================] - 0s 8ms/step - loss: 6.2229 - val_loss: 6.0633\n",
      "Epoch 10/10\n",
      "2/2 [==============================] - 0s 6ms/step - loss: 6.2205 - val_loss: 6.0632\n"
     ]
    },
    {
     "data": {
      "text/plain": [
       "<tensorflow.python.keras.callbacks.History at 0x24432119340>"
      ]
     },
     "execution_count": 11,
     "metadata": {},
     "output_type": "execute_result"
    }
   ],
   "source": [
    "# Get the team_1 column from the regular season data\n",
    "input_1 = games_tourney[\"team_1\"]\n",
    "\n",
    "# Get the team_2 column from the regular season data\n",
    "input_2 = games_tourney[\"team_2\"]\n",
    "\n",
    "# Fit the model to input 1 and 2, using score diff as a target\n",
    "model.fit([input_1, input_2], games_tourney[\"seed_diff\"],  epochs=10, batch_size=2048, validation_split=.1, verbose=True)"
   ]
  },
  {
   "cell_type": "code",
   "execution_count": 12,
   "metadata": {},
   "outputs": [
    {
     "name": "stdout",
     "output_type": "stream",
     "text": [
      "9756/9756 [==============================] - 10s 1ms/step - loss: 9.2458\n"
     ]
    },
    {
     "data": {
      "text/plain": [
       "9.24583625793457"
      ]
     },
     "execution_count": 12,
     "metadata": {},
     "output_type": "execute_result"
    }
   ],
   "source": [
    "# Get the team_1 column from the regular season data\n",
    "input_1 = games_season[\"team_1\"]\n",
    "\n",
    "# Get the team_2 column from the regular season data\n",
    "input_2 = games_season[\"team_2\"]\n",
    "\n",
    "model.evaluate([input_1, input_2], games_season[\"seed_diff\"])"
   ]
  },
  {
   "cell_type": "code",
   "execution_count": 13,
   "metadata": {},
   "outputs": [
    {
     "data": {
      "text/html": [
       "<div>\n",
       "<style scoped>\n",
       "    .dataframe tbody tr th:only-of-type {\n",
       "        vertical-align: middle;\n",
       "    }\n",
       "\n",
       "    .dataframe tbody tr th {\n",
       "        vertical-align: top;\n",
       "    }\n",
       "\n",
       "    .dataframe thead th {\n",
       "        text-align: right;\n",
       "    }\n",
       "</style>\n",
       "<table border=\"1\" class=\"dataframe\">\n",
       "  <thead>\n",
       "    <tr style=\"text-align: right;\">\n",
       "      <th></th>\n",
       "      <th>season</th>\n",
       "      <th>team_1</th>\n",
       "      <th>team_2</th>\n",
       "      <th>home</th>\n",
       "      <th>score_diff</th>\n",
       "      <th>score_1</th>\n",
       "      <th>score_2</th>\n",
       "      <th>won</th>\n",
       "      <th>seed_diff</th>\n",
       "      <th>seed_diff_2</th>\n",
       "    </tr>\n",
       "  </thead>\n",
       "  <tbody>\n",
       "    <tr>\n",
       "      <th>0</th>\n",
       "      <td>1985</td>\n",
       "      <td>3745</td>\n",
       "      <td>6664</td>\n",
       "      <td>0</td>\n",
       "      <td>17</td>\n",
       "      <td>81</td>\n",
       "      <td>64</td>\n",
       "      <td>1</td>\n",
       "      <td>-12.986662</td>\n",
       "      <td>0.015512</td>\n",
       "    </tr>\n",
       "    <tr>\n",
       "      <th>1</th>\n",
       "      <td>1985</td>\n",
       "      <td>126</td>\n",
       "      <td>7493</td>\n",
       "      <td>1</td>\n",
       "      <td>7</td>\n",
       "      <td>77</td>\n",
       "      <td>70</td>\n",
       "      <td>1</td>\n",
       "      <td>-5.347477</td>\n",
       "      <td>0.030347</td>\n",
       "    </tr>\n",
       "    <tr>\n",
       "      <th>2</th>\n",
       "      <td>1985</td>\n",
       "      <td>288</td>\n",
       "      <td>3593</td>\n",
       "      <td>1</td>\n",
       "      <td>7</td>\n",
       "      <td>63</td>\n",
       "      <td>56</td>\n",
       "      <td>1</td>\n",
       "      <td>-5.347477</td>\n",
       "      <td>0.068499</td>\n",
       "    </tr>\n",
       "    <tr>\n",
       "      <th>3</th>\n",
       "      <td>1985</td>\n",
       "      <td>1846</td>\n",
       "      <td>9881</td>\n",
       "      <td>1</td>\n",
       "      <td>16</td>\n",
       "      <td>70</td>\n",
       "      <td>54</td>\n",
       "      <td>1</td>\n",
       "      <td>-12.222743</td>\n",
       "      <td>0.082106</td>\n",
       "    </tr>\n",
       "    <tr>\n",
       "      <th>4</th>\n",
       "      <td>1985</td>\n",
       "      <td>2675</td>\n",
       "      <td>10298</td>\n",
       "      <td>1</td>\n",
       "      <td>12</td>\n",
       "      <td>86</td>\n",
       "      <td>74</td>\n",
       "      <td>1</td>\n",
       "      <td>-9.167069</td>\n",
       "      <td>-0.019589</td>\n",
       "    </tr>\n",
       "  </tbody>\n",
       "</table>\n",
       "</div>"
      ],
      "text/plain": [
       "   season  team_1  team_2  home  score_diff  score_1  score_2  won  seed_diff  \\\n",
       "0    1985    3745    6664     0          17       81       64    1 -12.986662   \n",
       "1    1985     126    7493     1           7       77       70    1  -5.347477   \n",
       "2    1985     288    3593     1           7       63       56    1  -5.347477   \n",
       "3    1985    1846    9881     1          16       70       54    1 -12.222743   \n",
       "4    1985    2675   10298     1          12       86       74    1  -9.167069   \n",
       "\n",
       "   seed_diff_2  \n",
       "0     0.015512  \n",
       "1     0.030347  \n",
       "2     0.068499  \n",
       "3     0.082106  \n",
       "4    -0.019589  "
      ]
     },
     "execution_count": 13,
     "metadata": {},
     "output_type": "execute_result"
    }
   ],
   "source": [
    "\n",
    "# Fit the model to input 1 and 2, using score diff as a target\n",
    "games_season[\"seed_diff_2\"] = model.predict([input_1, input_2]) \n",
    "games_season.head()"
   ]
  },
  {
   "cell_type": "markdown",
   "metadata": {},
   "source": [
    "Comparing `seed_diff` and `seed_diff_2` features, we find `seed_diff` more meaningful and we will proceed with `seed_diff` feature for `games_season` dataset in further processes. We will modify the current model and We will now make an input layer for home vs. away after the shared layer. It will now be a 3 input model.\n"
   ]
  },
  {
   "cell_type": "code",
   "execution_count": 14,
   "metadata": {},
   "outputs": [],
   "source": [
    "from tensorflow.keras.layers import Input, Concatenate, Dense\n",
    "# Create an Input for each team\n",
    "team_in_1 = Input(shape=(1,), name='Team-1-In')\n",
    "team_in_2 = Input(shape=(1,), name='Team-2-In')\n",
    "\n",
    "# Create an input for home vs away\n",
    "home_in = Input(shape=(1,), name='Home-In')\n",
    "\n",
    "# Lookup the team inputs in the team strength model\n",
    "team_1_strength = team_strength_model(team_in_1)\n",
    "team_2_strength = team_strength_model(team_in_2)\n",
    "\n",
    "# Combine the team strengths with the home input using a Concatenate layer, then add a Dense layer\n",
    "out = Concatenate()([team_1_strength, team_2_strength, home_in])\n",
    "out = Dense(1)(out)\n",
    "\n",
    "\n",
    "# Make a Model\n",
    "model = Model([team_in_1, team_in_2, home_in], out)\n",
    "\n",
    "# Compile the model\n",
    "model.compile(optimizer='adam', loss='mean_absolute_error')"
   ]
  },
  {
   "cell_type": "markdown",
   "metadata": {},
   "source": [
    "We will now train with season data and evaluate with tournament data\n"
   ]
  },
  {
   "cell_type": "code",
   "execution_count": 15,
   "metadata": {},
   "outputs": [
    {
     "name": "stdout",
     "output_type": "stream",
     "text": [
      "Epoch 1/10\n",
      "138/138 [==============================] - 0s 2ms/step - loss: 11.9748 - val_loss: 12.4005\n",
      "Epoch 2/10\n",
      "138/138 [==============================] - 0s 1ms/step - loss: 11.9294 - val_loss: 12.5596\n",
      "Epoch 3/10\n",
      "138/138 [==============================] - 0s 1ms/step - loss: 11.8676 - val_loss: 12.7121\n",
      "Epoch 4/10\n",
      "138/138 [==============================] - 0s 1ms/step - loss: 11.7897 - val_loss: 12.8478\n",
      "Epoch 5/10\n",
      "138/138 [==============================] - 0s 2ms/step - loss: 11.7029 - val_loss: 12.9488\n",
      "Epoch 6/10\n",
      "138/138 [==============================] - 0s 2ms/step - loss: 11.6083 - val_loss: 13.0218\n",
      "Epoch 7/10\n",
      "138/138 [==============================] - 0s 2ms/step - loss: 11.5050 - val_loss: 13.0685\n",
      "Epoch 8/10\n",
      "138/138 [==============================] - 0s 2ms/step - loss: 11.3947 - val_loss: 13.0916\n",
      "Epoch 9/10\n",
      "138/138 [==============================] - 0s 2ms/step - loss: 11.2781 - val_loss: 13.0862\n",
      "Epoch 10/10\n",
      "138/138 [==============================] - 0s 1ms/step - loss: 11.1566 - val_loss: 13.0560\n",
      "11.417844772338867\n"
     ]
    }
   ],
   "source": [
    "# Fit the model to the games_season dataset\n",
    "model.fit([games_season['team_1'], games_season['team_2'], games_season['home']],\n",
    "          games_season['score_diff'],\n",
    "          epochs=10,\n",
    "          verbose=True,\n",
    "          validation_split=0.1,\n",
    "          batch_size=2048)\n",
    "\n",
    "# Evaluate the model on the games_tourney dataset\n",
    "print(model.evaluate([games_tourney['team_1'], games_tourney['team_2'], games_tourney['home']],\n",
    "          games_tourney['score_diff'], verbose=False))\n",
    "\n",
    "\n"
   ]
  },
  {
   "cell_type": "markdown",
   "metadata": {},
   "source": [
    "Let us visualize the model architecture"
   ]
  },
  {
   "cell_type": "code",
   "execution_count": 16,
   "metadata": {},
   "outputs": [
    {
     "name": "stdout",
     "output_type": "stream",
     "text": [
      "Model: \"functional_5\"\n",
      "__________________________________________________________________________________________________\n",
      "Layer (type)                    Output Shape         Param #     Connected to                     \n",
      "==================================================================================================\n",
      "Team-1-In (InputLayer)          [(None, 1)]          0                                            \n",
      "__________________________________________________________________________________________________\n",
      "Team-2-In (InputLayer)          [(None, 1)]          0                                            \n",
      "__________________________________________________________________________________________________\n",
      "Team-Strength-Model (Functional (None, 1)            10888       Team-1-In[0][0]                  \n",
      "                                                                 Team-2-In[0][0]                  \n",
      "__________________________________________________________________________________________________\n",
      "Home-In (InputLayer)            [(None, 1)]          0                                            \n",
      "__________________________________________________________________________________________________\n",
      "concatenate (Concatenate)       (None, 3)            0           Team-Strength-Model[2][0]        \n",
      "                                                                 Team-Strength-Model[3][0]        \n",
      "                                                                 Home-In[0][0]                    \n",
      "__________________________________________________________________________________________________\n",
      "dense_1 (Dense)                 (None, 1)            4           concatenate[0][0]                \n",
      "==================================================================================================\n",
      "Total params: 10,892\n",
      "Trainable params: 10,892\n",
      "Non-trainable params: 0\n",
      "__________________________________________________________________________________________________\n"
     ]
    },
    {
     "data": {
      "image/png": "[encoded data removed]",
      "text/plain": [
       "<Figure size 432x288 with 1 Axes>"
      ]
     },
     "metadata": {
      "needs_background": "light"
     },
     "output_type": "display_data"
    }
   ],
   "source": [
    "model_summary(model=model, model_name=\"three_input_score_diff_pred.png\")\n"
   ]
  },
  {
   "cell_type": "markdown",
   "metadata": {},
   "source": [
    "We will add the model predictions of score difference data as predicted `score_diff` to both dataset so that we can see the comparison.\n"
   ]
  },
  {
   "cell_type": "code",
   "execution_count": 17,
   "metadata": {},
   "outputs": [
    {
     "data": {
      "text/html": [
       "<div>\n",
       "<style scoped>\n",
       "    .dataframe tbody tr th:only-of-type {\n",
       "        vertical-align: middle;\n",
       "    }\n",
       "\n",
       "    .dataframe tbody tr th {\n",
       "        vertical-align: top;\n",
       "    }\n",
       "\n",
       "    .dataframe thead th {\n",
       "        text-align: right;\n",
       "    }\n",
       "</style>\n",
       "<table border=\"1\" class=\"dataframe\">\n",
       "  <thead>\n",
       "    <tr style=\"text-align: right;\">\n",
       "      <th></th>\n",
       "      <th>season</th>\n",
       "      <th>team_1</th>\n",
       "      <th>team_2</th>\n",
       "      <th>home</th>\n",
       "      <th>seed_diff</th>\n",
       "      <th>score_diff</th>\n",
       "      <th>score_1</th>\n",
       "      <th>score_2</th>\n",
       "      <th>won</th>\n",
       "      <th>score_diff_pred</th>\n",
       "    </tr>\n",
       "  </thead>\n",
       "  <tbody>\n",
       "    <tr>\n",
       "      <th>0</th>\n",
       "      <td>1985</td>\n",
       "      <td>288</td>\n",
       "      <td>73</td>\n",
       "      <td>0</td>\n",
       "      <td>-3</td>\n",
       "      <td>-9</td>\n",
       "      <td>41</td>\n",
       "      <td>50</td>\n",
       "      <td>0</td>\n",
       "      <td>0.846977</td>\n",
       "    </tr>\n",
       "    <tr>\n",
       "      <th>1</th>\n",
       "      <td>1985</td>\n",
       "      <td>5929</td>\n",
       "      <td>73</td>\n",
       "      <td>0</td>\n",
       "      <td>4</td>\n",
       "      <td>6</td>\n",
       "      <td>61</td>\n",
       "      <td>55</td>\n",
       "      <td>1</td>\n",
       "      <td>0.952011</td>\n",
       "    </tr>\n",
       "    <tr>\n",
       "      <th>2</th>\n",
       "      <td>1985</td>\n",
       "      <td>9884</td>\n",
       "      <td>73</td>\n",
       "      <td>0</td>\n",
       "      <td>5</td>\n",
       "      <td>-4</td>\n",
       "      <td>59</td>\n",
       "      <td>63</td>\n",
       "      <td>0</td>\n",
       "      <td>1.871663</td>\n",
       "    </tr>\n",
       "    <tr>\n",
       "      <th>3</th>\n",
       "      <td>1985</td>\n",
       "      <td>73</td>\n",
       "      <td>288</td>\n",
       "      <td>0</td>\n",
       "      <td>3</td>\n",
       "      <td>9</td>\n",
       "      <td>50</td>\n",
       "      <td>41</td>\n",
       "      <td>1</td>\n",
       "      <td>0.986923</td>\n",
       "    </tr>\n",
       "    <tr>\n",
       "      <th>4</th>\n",
       "      <td>1985</td>\n",
       "      <td>3920</td>\n",
       "      <td>410</td>\n",
       "      <td>0</td>\n",
       "      <td>1</td>\n",
       "      <td>-9</td>\n",
       "      <td>54</td>\n",
       "      <td>63</td>\n",
       "      <td>0</td>\n",
       "      <td>1.179645</td>\n",
       "    </tr>\n",
       "  </tbody>\n",
       "</table>\n",
       "</div>"
      ],
      "text/plain": [
       "   season  team_1  team_2  home  seed_diff  score_diff  score_1  score_2  won  \\\n",
       "0    1985     288      73     0         -3          -9       41       50    0   \n",
       "1    1985    5929      73     0          4           6       61       55    1   \n",
       "2    1985    9884      73     0          5          -4       59       63    0   \n",
       "3    1985      73     288     0          3           9       50       41    1   \n",
       "4    1985    3920     410     0          1          -9       54       63    0   \n",
       "\n",
       "   score_diff_pred  \n",
       "0         0.846977  \n",
       "1         0.952011  \n",
       "2         1.871663  \n",
       "3         0.986923  \n",
       "4         1.179645  "
      ]
     },
     "execution_count": 17,
     "metadata": {},
     "output_type": "execute_result"
    }
   ],
   "source": [
    "# Predict\n",
    "games_tourney['score_diff_pred'] = model.predict([games_tourney['team_1'], games_tourney['team_2'], games_tourney['home']])\n",
    "games_tourney.head()"
   ]
  },
  {
   "cell_type": "code",
   "execution_count": 18,
   "metadata": {},
   "outputs": [
    {
     "data": {
      "text/html": [
       "<div>\n",
       "<style scoped>\n",
       "    .dataframe tbody tr th:only-of-type {\n",
       "        vertical-align: middle;\n",
       "    }\n",
       "\n",
       "    .dataframe tbody tr th {\n",
       "        vertical-align: top;\n",
       "    }\n",
       "\n",
       "    .dataframe thead th {\n",
       "        text-align: right;\n",
       "    }\n",
       "</style>\n",
       "<table border=\"1\" class=\"dataframe\">\n",
       "  <thead>\n",
       "    <tr style=\"text-align: right;\">\n",
       "      <th></th>\n",
       "      <th>season</th>\n",
       "      <th>team_1</th>\n",
       "      <th>team_2</th>\n",
       "      <th>home</th>\n",
       "      <th>score_diff</th>\n",
       "      <th>score_1</th>\n",
       "      <th>score_2</th>\n",
       "      <th>won</th>\n",
       "      <th>seed_diff</th>\n",
       "      <th>seed_diff_2</th>\n",
       "      <th>score_diff_pred</th>\n",
       "    </tr>\n",
       "  </thead>\n",
       "  <tbody>\n",
       "    <tr>\n",
       "      <th>0</th>\n",
       "      <td>1985</td>\n",
       "      <td>3745</td>\n",
       "      <td>6664</td>\n",
       "      <td>0</td>\n",
       "      <td>17</td>\n",
       "      <td>81</td>\n",
       "      <td>64</td>\n",
       "      <td>1</td>\n",
       "      <td>-12.986662</td>\n",
       "      <td>0.015512</td>\n",
       "      <td>0.690247</td>\n",
       "    </tr>\n",
       "    <tr>\n",
       "      <th>1</th>\n",
       "      <td>1985</td>\n",
       "      <td>126</td>\n",
       "      <td>7493</td>\n",
       "      <td>1</td>\n",
       "      <td>7</td>\n",
       "      <td>77</td>\n",
       "      <td>70</td>\n",
       "      <td>1</td>\n",
       "      <td>-5.347477</td>\n",
       "      <td>0.030347</td>\n",
       "      <td>3.015359</td>\n",
       "    </tr>\n",
       "    <tr>\n",
       "      <th>2</th>\n",
       "      <td>1985</td>\n",
       "      <td>288</td>\n",
       "      <td>3593</td>\n",
       "      <td>1</td>\n",
       "      <td>7</td>\n",
       "      <td>63</td>\n",
       "      <td>56</td>\n",
       "      <td>1</td>\n",
       "      <td>-5.347477</td>\n",
       "      <td>0.068499</td>\n",
       "      <td>3.040706</td>\n",
       "    </tr>\n",
       "    <tr>\n",
       "      <th>3</th>\n",
       "      <td>1985</td>\n",
       "      <td>1846</td>\n",
       "      <td>9881</td>\n",
       "      <td>1</td>\n",
       "      <td>16</td>\n",
       "      <td>70</td>\n",
       "      <td>54</td>\n",
       "      <td>1</td>\n",
       "      <td>-12.222743</td>\n",
       "      <td>0.082106</td>\n",
       "      <td>3.347694</td>\n",
       "    </tr>\n",
       "    <tr>\n",
       "      <th>4</th>\n",
       "      <td>1985</td>\n",
       "      <td>2675</td>\n",
       "      <td>10298</td>\n",
       "      <td>1</td>\n",
       "      <td>12</td>\n",
       "      <td>86</td>\n",
       "      <td>74</td>\n",
       "      <td>1</td>\n",
       "      <td>-9.167069</td>\n",
       "      <td>-0.019589</td>\n",
       "      <td>4.537630</td>\n",
       "    </tr>\n",
       "  </tbody>\n",
       "</table>\n",
       "</div>"
      ],
      "text/plain": [
       "   season  team_1  team_2  home  score_diff  score_1  score_2  won  seed_diff  \\\n",
       "0    1985    3745    6664     0          17       81       64    1 -12.986662   \n",
       "1    1985     126    7493     1           7       77       70    1  -5.347477   \n",
       "2    1985     288    3593     1           7       63       56    1  -5.347477   \n",
       "3    1985    1846    9881     1          16       70       54    1 -12.222743   \n",
       "4    1985    2675   10298     1          12       86       74    1  -9.167069   \n",
       "\n",
       "   seed_diff_2  score_diff_pred  \n",
       "0     0.015512         0.690247  \n",
       "1     0.030347         3.015359  \n",
       "2     0.068499         3.040706  \n",
       "3     0.082106         3.347694  \n",
       "4    -0.019589         4.537630  "
      ]
     },
     "execution_count": 18,
     "metadata": {},
     "output_type": "execute_result"
    }
   ],
   "source": [
    "# Predict\n",
    "games_season['score_diff_pred'] = model.predict([games_season['team_1'], games_season['team_2'], games_season['home']])\n",
    "games_season.head()"
   ]
  },
  {
   "cell_type": "markdown",
   "metadata": {},
   "source": [
    "Previously we have seen that the error is around 11.85 from real values. We will not use `score_diff_pred` as a substitute for `score_diff`. Instead, we will use it as a transformed feature that will help us in next steps. We will create a neural network model that will take in this feature and will make the model learn the mapping between `score_diff` and `score_diff_pred`."
   ]
  },
  {
   "cell_type": "code",
   "execution_count": 19,
   "metadata": {},
   "outputs": [
    {
     "name": "stdout",
     "output_type": "stream",
     "text": [
      "Epoch 1/10\n",
      "8780/8780 [==============================] - 5s 550us/step - loss: 0.5600 - val_loss: 4.8544e-04\n",
      "Epoch 2/10\n",
      "8780/8780 [==============================] - 5s 574us/step - loss: 0.0010 - val_loss: 6.9148e-04\n",
      "Epoch 3/10\n",
      "8780/8780 [==============================] - 4s 493us/step - loss: 0.0010 - val_loss: 0.0019\n",
      "Epoch 4/10\n",
      "8780/8780 [==============================] - 6s 685us/step - loss: 0.0010 - val_loss: 3.4573e-04\n",
      "Epoch 5/10\n",
      "8780/8780 [==============================] - 6s 663us/step - loss: 0.0010 - val_loss: 0.0015\n",
      "Epoch 6/10\n",
      "8780/8780 [==============================] - 6s 662us/step - loss: 0.0011 - val_loss: 0.0015\n",
      "Epoch 7/10\n",
      "8780/8780 [==============================] - 6s 701us/step - loss: 0.0010 - val_loss: 0.0011\n",
      "Epoch 8/10\n",
      "8780/8780 [==============================] - 6s 670us/step - loss: 0.0010 - val_loss: 3.2806e-04\n",
      "Epoch 9/10\n",
      "8780/8780 [==============================] - 7s 800us/step - loss: 0.0011 - val_loss: 1.0480e-04\n",
      "Epoch 10/10\n",
      "8780/8780 [==============================] - 9s 1ms/step - loss: 0.0010 - val_loss: 0.0019\n"
     ]
    },
    {
     "data": {
      "text/plain": [
       "<tensorflow.python.keras.callbacks.History at 0x244326189a0>"
      ]
     },
     "execution_count": 19,
     "metadata": {},
     "output_type": "execute_result"
    }
   ],
   "source": [
    "# Create an input layer with 3 columns\n",
    "input_tensor = Input((3,))\n",
    "\n",
    "# Pass it to a Dense layer with 1 unit\n",
    "output_tensor = Dense(1)(input_tensor)\n",
    "\n",
    "# Create a model\n",
    "model = Model(input_tensor, output_tensor)\n",
    "\n",
    "# Compile the model\n",
    "model.compile(optimizer='adam', loss='mean_absolute_error')\n",
    "\n",
    "# Fit the model\n",
    "model.fit(games_season[['home', 'seed_diff', 'score_diff_pred']],\n",
    "          games_season['score_diff'],\n",
    "          epochs=10,\n",
    "          verbose=True, validation_split=0.1)\n"
   ]
  },
  {
   "cell_type": "markdown",
   "metadata": {},
   "source": [
    "Let us see the structure of this simple model"
   ]
  },
  {
   "cell_type": "code",
   "execution_count": 20,
   "metadata": {},
   "outputs": [
    {
     "name": "stdout",
     "output_type": "stream",
     "text": [
      "Model: \"functional_7\"\n",
      "_________________________________________________________________\n",
      "Layer (type)                 Output Shape              Param #   \n",
      "=================================================================\n",
      "input_3 (InputLayer)         [(None, 3)]               0         \n",
      "_________________________________________________________________\n",
      "dense_2 (Dense)              (None, 1)                 4         \n",
      "=================================================================\n",
      "Total params: 4\n",
      "Trainable params: 4\n",
      "Non-trainable params: 0\n",
      "_________________________________________________________________\n"
     ]
    },
    {
     "data": {
      "image/png": "[encoded data removed]",
      "text/plain": [
       "<Figure size 432x288 with 1 Axes>"
      ]
     },
     "metadata": {
      "needs_background": "light"
     },
     "output_type": "display_data"
    }
   ],
   "source": [
    "model_summary(model=model, model_name=\"three_input_score_diff_pred.png\")\n"
   ]
  },
  {
   "cell_type": "markdown",
   "metadata": {},
   "source": [
    "Let us evaluate the model"
   ]
  },
  {
   "cell_type": "code",
   "execution_count": 21,
   "metadata": {},
   "outputs": [
    {
     "name": "stdout",
     "output_type": "stream",
     "text": [
      "17.751163482666016\n"
     ]
    }
   ],
   "source": [
    "# Evaluate the model\n",
    "print(model.evaluate(games_tourney[['home', 'seed_diff', 'score_diff_pred']],\n",
    "          games_tourney['score_diff'], verbose=False))"
   ]
  },
  {
   "cell_type": "markdown",
   "metadata": {},
   "source": [
    "We will tweak this model a little so that instead of 1 output, there will be 2 outputs. Now we will increase the last layer's output neuron to 2"
   ]
  },
  {
   "cell_type": "code",
   "execution_count": 22,
   "metadata": {},
   "outputs": [],
   "source": [
    "# Define the input\n",
    "input_tensor = Input(shape=(2,))\n",
    "\n",
    "# Define the output\n",
    "output_tensor = Dense(2)(input_tensor)\n",
    "\n",
    "# Create a model\n",
    "model = Model(input_tensor, output_tensor)\n",
    "\n",
    "# Compile the model\n",
    "model.compile(loss='mean_absolute_error', optimizer='adam')"
   ]
  },
  {
   "cell_type": "code",
   "execution_count": 23,
   "metadata": {},
   "outputs": [
    {
     "name": "stdout",
     "output_type": "stream",
     "text": [
      "Model: \"functional_9\"\n",
      "_________________________________________________________________\n",
      "Layer (type)                 Output Shape              Param #   \n",
      "=================================================================\n",
      "input_4 (InputLayer)         [(None, 2)]               0         \n",
      "_________________________________________________________________\n",
      "dense_3 (Dense)              (None, 2)                 6         \n",
      "=================================================================\n",
      "Total params: 6\n",
      "Trainable params: 6\n",
      "Non-trainable params: 0\n",
      "_________________________________________________________________\n"
     ]
    },
    {
     "data": {
      "image/png": "[encoded data removed]",
      "text/plain": [
       "<Figure size 432x288 with 1 Axes>"
      ]
     },
     "metadata": {
      "needs_background": "light"
     },
     "output_type": "display_data"
    }
   ],
   "source": [
    "model_summary(model=model, model_name=\"model4.png\")\n"
   ]
  },
  {
   "cell_type": "markdown",
   "metadata": {},
   "source": [
    "We will use this model to take 'seed_diff' and 'score_diff' features as inputs and generate regression values for 'score_1' and 'score_2'"
   ]
  },
  {
   "cell_type": "code",
   "execution_count": 24,
   "metadata": {},
   "outputs": [
    {
     "name": "stdout",
     "output_type": "stream",
     "text": [
      "Epoch 1/10\n",
      "20/20 [==============================] - 0s 1ms/step - loss: 70.9840\n",
      "Epoch 2/10\n",
      "20/20 [==============================] - 0s 1ms/step - loss: 70.9386\n",
      "Epoch 3/10\n",
      "20/20 [==============================] - 0s 1ms/step - loss: 70.8959\n",
      "Epoch 4/10\n",
      "20/20 [==============================] - 0s 1ms/step - loss: 70.8550\n",
      "Epoch 5/10\n",
      "20/20 [==============================] - 0s 1ms/step - loss: 70.8158\n",
      "Epoch 6/10\n",
      "20/20 [==============================] - 0s 1ms/step - loss: 70.7781\n",
      "Epoch 7/10\n",
      "20/20 [==============================] - 0s 1ms/step - loss: 70.7424\n",
      "Epoch 8/10\n",
      "20/20 [==============================] - 0s 1ms/step - loss: 70.7077\n",
      "Epoch 9/10\n",
      "20/20 [==============================] - 0s 1ms/step - loss: 70.6743\n",
      "Epoch 10/10\n",
      "20/20 [==============================] - 0s 1ms/step - loss: 70.6427\n"
     ]
    },
    {
     "data": {
      "text/plain": [
       "<tensorflow.python.keras.callbacks.History at 0x24430d44dc0>"
      ]
     },
     "execution_count": 24,
     "metadata": {},
     "output_type": "execute_result"
    }
   ],
   "source": [
    "# Fit the model\n",
    "model.fit(games_season[['seed_diff', 'score_diff']],\n",
    "  \t\t  games_season[['score_1' , 'score_2']],\n",
    "  \t\t  verbose=True,\n",
    "  \t\t  epochs=10,\n",
    "  \t\t  batch_size=16384)"
   ]
  },
  {
   "cell_type": "code",
   "execution_count": 25,
   "metadata": {},
   "outputs": [
    {
     "name": "stdout",
     "output_type": "stream",
     "text": [
      "133/133 [==============================] - 0s 469us/step - loss: 71.4818\n"
     ]
    },
    {
     "data": {
      "text/plain": [
       "71.48181915283203"
      ]
     },
     "execution_count": 25,
     "metadata": {},
     "output_type": "execute_result"
    }
   ],
   "source": [
    "# Evaluate the model\n",
    "model.evaluate(games_tourney[['seed_diff', 'score_diff_pred']],\n",
    "  \t\t  games_tourney[['score_1' , 'score_2']])\n"
   ]
  },
  {
   "cell_type": "code",
   "execution_count": null,
   "metadata": {},
   "outputs": [],
   "source": []
  }
 ],
 "metadata": {
  "kernelspec": {
   "display_name": "env_py",
   "language": "python",
   "name": "python3"
  },
  "language_info": {
   "codemirror_mode": {
    "name": "ipython",
    "version": 3
   },
   "file_extension": ".py",
   "mimetype": "text/x-python",
   "name": "python",
   "nbconvert_exporter": "python",
   "pygments_lexer": "ipython3",
   "version": "3.8.11"
  }
 },
 "nbformat": 4,
 "nbformat_minor": 2
}
